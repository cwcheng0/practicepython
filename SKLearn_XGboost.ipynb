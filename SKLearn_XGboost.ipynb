{
  "nbformat": 4,
  "nbformat_minor": 0,
  "metadata": {
    "colab": {
      "name": "SKLearn_XGboost.ipynb",
      "version": "0.3.2",
      "provenance": [],
      "include_colab_link": true
    },
    "kernelspec": {
      "name": "python3",
      "display_name": "Python 3"
    }
  },
  "cells": [
    {
      "cell_type": "markdown",
      "metadata": {
        "id": "view-in-github",
        "colab_type": "text"
      },
      "source": [
        "<a href=\"https://colab.research.google.com/github/cwcheng0/practicepython/blob/master/SKLearn_XGboost.ipynb\" target=\"_parent\"><img src=\"https://colab.research.google.com/assets/colab-badge.svg\" alt=\"Open In Colab\"/></a>"
      ]
    },
    {
      "metadata": {
        "id": "9yMg5q1N4kcC",
        "colab_type": "code",
        "colab": {
          "base_uri": "https://localhost:8080/",
          "height": 235
        },
        "outputId": "bc7c3f90-eaf8-4f47-8ae8-79e07ae9296e"
      },
      "cell_type": "code",
      "source": [
        "# SKLearn XGboost\n",
        "# source1 video http://www.peixun.net/main.php?mod=course&cid=1281\n",
        "# 2019-2-21\n",
        "!pip install xgboost #安装xgboost库\n",
        "!pip install --upgrade xgboost #更新xgboost库"
      ],
      "execution_count": 2,
      "outputs": [
        {
          "output_type": "stream",
          "text": [
            "Requirement already satisfied: xgboost in /usr/local/lib/python3.6/dist-packages (0.7.post4)\n",
            "Requirement already satisfied: numpy in /usr/local/lib/python3.6/dist-packages (from xgboost) (1.14.6)\n",
            "Requirement already satisfied: scipy in /usr/local/lib/python3.6/dist-packages (from xgboost) (1.1.0)\n",
            "Collecting xgboost\n",
            "\u001b[?25l  Downloading https://files.pythonhosted.org/packages/54/21/8b2ec99862903a6d3aed62ce156d21d114b8666e669c46d9e54041df9496/xgboost-0.81-py2.py3-none-manylinux1_x86_64.whl (16.6MB)\n",
            "\u001b[K    100% |████████████████████████████████| 16.6MB 1.3MB/s \n",
            "\u001b[?25hRequirement already satisfied, skipping upgrade: scipy in /usr/local/lib/python3.6/dist-packages (from xgboost) (1.1.0)\n",
            "Requirement already satisfied, skipping upgrade: numpy in /usr/local/lib/python3.6/dist-packages (from xgboost) (1.14.6)\n",
            "Installing collected packages: xgboost\n",
            "  Found existing installation: xgboost 0.7.post4\n",
            "    Uninstalling xgboost-0.7.post4:\n",
            "      Successfully uninstalled xgboost-0.7.post4\n",
            "Successfully installed xgboost-0.81\n"
          ],
          "name": "stdout"
        }
      ]
    },
    {
      "metadata": {
        "id": "SvkVjHBb6uVx",
        "colab_type": "code",
        "colab": {}
      },
      "cell_type": "code",
      "source": [
        "##\n",
        "import xgboost as xgb\n",
        "##导入需要的库，模块以及数据\n",
        "from xgboost import XGBRegressor as XGBR\n",
        "from sklearn.ensemble import RandomForestRegressor as RFR\n",
        "from sklearn.linear_model import LinearRegression as LinearR\n",
        "from sklearn.datasets import load_boston\n",
        "from sklearn.model_selection import KFold, cross_val_score as CVS, train_test_split as TTS\n",
        "from sklearn.metrics import mean_squared_error as MSE\n",
        "import pandas as pd\n",
        "import numpy as np\n",
        "import matplotlib.pyplot as plt\n",
        "from time import time\n",
        "import datetime\n",
        "\n",
        "data = load_boston()\n",
        "#波士顿数据集非常简单，但它所涉及到的问题却很多\n",
        "\n",
        "X = data.data\n",
        "y = data.target"
      ],
      "execution_count": 0,
      "outputs": []
    },
    {
      "metadata": {
        "id": "8uWiVIRK7NXY",
        "colab_type": "code",
        "colab": {
          "base_uri": "https://localhost:8080/",
          "height": 34
        },
        "outputId": "ff5cfcae-beab-4f41-e943-dd49abc84376"
      },
      "cell_type": "code",
      "source": [
        "##\n",
        "Xtrain,Xtest,Ytrain,Ytest = TTS(X,y,test_size=0.3,random_state=420)\n",
        "reg = XGBR(n_estimators=100).fit(Xtrain,Ytrain)\n",
        "\n",
        "reg.predict(Xtest) #传统接口predict\n",
        "reg.score(Xtest,Ytest) #你能想出这里应该返回什么模型评估指标么？\n",
        "\n",
        "MSE(Ytest,reg.predict(Xtest))"
      ],
      "execution_count": 4,
      "outputs": [
        {
          "output_type": "execute_result",
          "data": {
            "text/plain": [
              "7.466827353555599"
            ]
          },
          "metadata": {
            "tags": []
          },
          "execution_count": 4
        }
      ]
    },
    {
      "metadata": {
        "id": "NKEmbGFQ7YPI",
        "colab_type": "code",
        "colab": {
          "base_uri": "https://localhost:8080/",
          "height": 67
        },
        "outputId": "6a19f804-b924-471f-c313-9e4fd7a381f4"
      },
      "cell_type": "code",
      "source": [
        "##\n",
        "reg.feature_importances_ #树模型的优势之一：能够查看模型的重要性分数，可以使用嵌入法进行特征选择"
      ],
      "execution_count": 5,
      "outputs": [
        {
          "output_type": "execute_result",
          "data": {
            "text/plain": [
              "array([0.13862929, 0.0046729 , 0.02803738, 0.00623053, 0.08411215,\n",
              "       0.16510904, 0.08566978, 0.15109034, 0.03271028, 0.0623053 ,\n",
              "       0.06074766, 0.07632399, 0.10436137], dtype=float32)"
            ]
          },
          "metadata": {
            "tags": []
          },
          "execution_count": 5
        }
      ]
    },
    {
      "metadata": {
        "id": "Av9Ikb057Z8J",
        "colab_type": "code",
        "colab": {
          "base_uri": "https://localhost:8080/",
          "height": 34
        },
        "outputId": "13af6089-02ee-4d25-b632-2b6915ab25ee"
      },
      "cell_type": "code",
      "source": [
        "##\n",
        "reg = XGBR(n_estimators=100)\n",
        "CVS(reg,Xtrain,Ytrain,cv=5).mean()\n",
        "#这里应该返回什么模型评估指标，还记得么？\n",
        "#严谨的交叉验证与不严谨的交叉验证之间的讨论：训练集or全数据？"
      ],
      "execution_count": 6,
      "outputs": [
        {
          "output_type": "execute_result",
          "data": {
            "text/plain": [
              "0.8017863029875325"
            ]
          },
          "metadata": {
            "tags": []
          },
          "execution_count": 6
        }
      ]
    },
    {
      "metadata": {
        "id": "kDZ62gUL7lsb",
        "colab_type": "code",
        "colab": {
          "base_uri": "https://localhost:8080/",
          "height": 34
        },
        "outputId": "1e394098-610f-49b3-8648-38aef472db16"
      },
      "cell_type": "code",
      "source": [
        "##\n",
        "CVS(reg,Xtrain,Ytrain,cv=5,scoring='neg_mean_squared_error').mean()"
      ],
      "execution_count": 7,
      "outputs": [
        {
          "output_type": "execute_result",
          "data": {
            "text/plain": [
              "-16.041115480238048"
            ]
          },
          "metadata": {
            "tags": []
          },
          "execution_count": 7
        }
      ]
    },
    {
      "metadata": {
        "id": "Sgnd7F5B7qpi",
        "colab_type": "code",
        "colab": {
          "base_uri": "https://localhost:8080/",
          "height": 605
        },
        "outputId": "55dc71bf-8d76-44b4-824c-61e6a7dc70e0"
      },
      "cell_type": "code",
      "source": [
        "#来查看一下sklearn中所有的模型评估指标\n",
        "import sklearn\n",
        "sorted(sklearn.metrics.SCORERS.keys())"
      ],
      "execution_count": 8,
      "outputs": [
        {
          "output_type": "execute_result",
          "data": {
            "text/plain": [
              "['accuracy',\n",
              " 'adjusted_mutual_info_score',\n",
              " 'adjusted_rand_score',\n",
              " 'average_precision',\n",
              " 'balanced_accuracy',\n",
              " 'brier_score_loss',\n",
              " 'completeness_score',\n",
              " 'explained_variance',\n",
              " 'f1',\n",
              " 'f1_macro',\n",
              " 'f1_micro',\n",
              " 'f1_samples',\n",
              " 'f1_weighted',\n",
              " 'fowlkes_mallows_score',\n",
              " 'homogeneity_score',\n",
              " 'mutual_info_score',\n",
              " 'neg_log_loss',\n",
              " 'neg_mean_absolute_error',\n",
              " 'neg_mean_squared_error',\n",
              " 'neg_mean_squared_log_error',\n",
              " 'neg_median_absolute_error',\n",
              " 'normalized_mutual_info_score',\n",
              " 'precision',\n",
              " 'precision_macro',\n",
              " 'precision_micro',\n",
              " 'precision_samples',\n",
              " 'precision_weighted',\n",
              " 'r2',\n",
              " 'recall',\n",
              " 'recall_macro',\n",
              " 'recall_micro',\n",
              " 'recall_samples',\n",
              " 'recall_weighted',\n",
              " 'roc_auc',\n",
              " 'v_measure_score']"
            ]
          },
          "metadata": {
            "tags": []
          },
          "execution_count": 8
        }
      ]
    },
    {
      "metadata": {
        "id": "kEi7iEEQ7rpi",
        "colab_type": "code",
        "colab": {}
      },
      "cell_type": "code",
      "source": [
        "##\n",
        "#使用随机森林和线性回归进行一个对比\n",
        "rfr = RFR(n_estimators=100)\n",
        "CVS(rfr,Xtrain,Ytrain,cv=5).mean()\n",
        "CVS(rfr,Xtrain,Ytrain,cv=5,scoring='neg_mean_squared_error').mean()\n",
        "\n",
        "lr = LinearR()\n",
        "CVS(lr,Xtrain,Ytrain,cv=5).mean()\n",
        "CVS(lr,Xtrain,Ytrain,cv=5,scoring='neg_mean_squared_error').mean()\n",
        "\n",
        "#如果开启参数slient：在数据巨大，预料到算法运行会非常缓慢的时候可以使用这个参数来监控模型的训练进度\n",
        "reg = XGBR(n_estimators=10,silent=False)\n",
        "CVS(reg,Xtrain,Ytrain,cv=5,scoring='neg_mean_squared_error').mean()"
      ],
      "execution_count": 0,
      "outputs": []
    }
  ]
}