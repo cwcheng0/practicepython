{
  "nbformat": 4,
  "nbformat_minor": 0,
  "metadata": {
    "colab": {
      "name": "ReadTaiwanHotel-2.ipynb",
      "provenance": [],
      "collapsed_sections": [],
      "include_colab_link": true
    },
    "kernelspec": {
      "name": "python3",
      "display_name": "Python 3"
    }
  },
  "cells": [
    {
      "cell_type": "markdown",
      "metadata": {
        "id": "view-in-github",
        "colab_type": "text"
      },
      "source": [
        "<a href=\"https://colab.research.google.com/github/cwcheng0/practicepython/blob/master/ReadTaiwanHotel_2019_1-6.ipynb\" target=\"_parent\"><img src=\"https://colab.research.google.com/assets/colab-badge.svg\" alt=\"Open In Colab\"/></a>"
      ]
    },
    {
      "cell_type": "code",
      "metadata": {
        "id": "2YBo20dXtWmf"
      },
      "source": [
        "# Read Taiwan hotel data\n",
        "# Install extensions\n",
        "#import depencies\n",
        "import pandas as pd\n",
        "import numpy as np"
      ],
      "execution_count": 8,
      "outputs": []
    },
    {
      "cell_type": "code",
      "metadata": {
        "id": "jsHWedtFtayH",
        "outputId": "aa228984-9878-4031-c311-db467120396e",
        "colab": {
          "base_uri": "https://localhost:8080/",
          "height": 34
        }
      },
      "source": [
        "# Mount personal Google Drive; all data files are in personal Google Drive\n",
        "from google.colab import drive\n",
        "drive.mount('/content/gdrive')"
      ],
      "execution_count": 9,
      "outputs": [
        {
          "output_type": "stream",
          "text": [
            "Drive already mounted at /content/gdrive; to attempt to forcibly remount, call drive.mount(\"/content/gdrive\", force_remount=True).\n"
          ],
          "name": "stdout"
        }
      ]
    },
    {
      "cell_type": "code",
      "metadata": {
        "id": "Ly2Q-QgGteJQ",
        "outputId": "90ad5cf5-ab63-40a3-adb3-52bfc0551982",
        "colab": {
          "base_uri": "https://localhost:8080/",
          "height": 34
        }
      },
      "source": [
        "# Create a file to see if it works\n",
        "with open('/content/gdrive/My Drive/TourismData/foo.txt', 'w') as f:\n",
        "  f.write('Hello Google Drive!')\n",
        "!cat /content/gdrive/My\\ Drive/TourismData/foo.txt"
      ],
      "execution_count": 10,
      "outputs": [
        {
          "output_type": "stream",
          "text": [
            "Hello Google Drive!"
          ],
          "name": "stdout"
        }
      ]
    },
    {
      "cell_type": "code",
      "metadata": {
        "id": "XqfarUTZ0p2G"
      },
      "source": [
        "# Use PDrive function\n",
        "!pip install -U -q PyDrive\n",
        "\n",
        "from pydrive.auth import GoogleAuth\n",
        "from pydrive.drive import GoogleDrive\n",
        "from google.colab import auth\n",
        "from oauth2client.client import GoogleCredentials\n",
        "\n",
        "# Authenticate and create the PyDrive client.\n",
        "auth.authenticate_user()\n",
        "gauth = GoogleAuth()\n",
        "gauth.credentials = GoogleCredentials.get_application_default()\n",
        "drive = GoogleDrive(gauth)"
      ],
      "execution_count": 11,
      "outputs": []
    },
    {
      "cell_type": "code",
      "metadata": {
        "id": "Wt642l0qv_Xm",
        "outputId": "324b3462-c93a-448d-c38f-b0fd938106b8",
        "colab": {
          "base_uri": "https://localhost:8080/",
          "height": 168
        }
      },
      "source": [
        "# List files in root directory\n",
        "file_list = drive.ListFile({'q': \"'root' in parents and trashed=false\"}).GetList()\n",
        "for file1 in file_list:\n",
        "  print('title: %s, id: %s' % (file1['title'], file1['id']))"
      ],
      "execution_count": 12,
      "outputs": [
        {
          "output_type": "stream",
          "text": [
            "title: m0923023651gnt86866.pdf, id: 1ZRl2-DUcAhxmdivc6wiOPurQ6CgD5mt2\n",
            "title: Guidebook.pdf, id: 1VxPPDacSy5jzX45E40dYjCB5OqxEkwlG\n",
            "title: 20200912_agenda.pdf, id: 1OVa7XFIQWh2gQiL37xJiuC_H8vfoODlu\n",
            "title: PythonCode, id: 1dFGhOQOJ9t5x5bJUph24v_N-mnmBKsMZ\n",
            "title: ContestData, id: 1hjni0UnbkVPr81RPHgSyH74jqF3XT6PS\n",
            "title: TourismData, id: 1rl2L8Vxmj4mqqFNCa23NUaypbVKazJRD\n",
            "title: Pixnet整理_Mike_20190804, id: 163PlI9NvQ5wVl62z6Crp4jihVWA4nnABRnPS8tU9neY\n",
            "title: Colab Notebooks, id: 13yubYLLF_3_MObjXoj-K2aGo-_UFoQZo\n",
            "title: bnbdata, id: 1yWUzpFHcZDftSVqbCaepJVd9oGsm2pww\n"
          ],
          "name": "stdout"
        }
      ]
    },
    {
      "cell_type": "code",
      "metadata": {
        "id": "vJJ79Ofrw9c8",
        "outputId": "ac7281c8-5eef-4144-ce27-2cc06d73ac84",
        "colab": {
          "base_uri": "https://localhost:8080/",
          "height": 195
        }
      },
      "source": [
        "# Read a file\n",
        "df = pd.read_csv('/content/gdrive/My Drive/ContestData/HotelData/Hotel_2019_1-6.csv',encoding='utf-8')\n",
        "\n",
        "# Notice datatypes changed in some columns.\n",
        "# Check first few rows.\n",
        "df.head()"
      ],
      "execution_count": 13,
      "outputs": [
        {
          "output_type": "execute_result",
          "data": {
            "text/html": [
              "<div>\n",
              "<style scoped>\n",
              "    .dataframe tbody tr th:only-of-type {\n",
              "        vertical-align: middle;\n",
              "    }\n",
              "\n",
              "    .dataframe tbody tr th {\n",
              "        vertical-align: top;\n",
              "    }\n",
              "\n",
              "    .dataframe thead th {\n",
              "        text-align: right;\n",
              "    }\n",
              "</style>\n",
              "<table border=\"1\" class=\"dataframe\">\n",
              "  <thead>\n",
              "    <tr style=\"text-align: right;\">\n",
              "      <th></th>\n",
              "      <th>旅館名稱Hotel Name</th>\n",
              "      <th>Occupancy</th>\n",
              "      <th>Room Rate</th>\n",
              "    </tr>\n",
              "  </thead>\n",
              "  <tbody>\n",
              "    <tr>\n",
              "      <th>0</th>\n",
              "      <td>圓⼭⼤飯店</td>\n",
              "      <td>79.83%</td>\n",
              "      <td>3,943</td>\n",
              "    </tr>\n",
              "    <tr>\n",
              "      <th>1</th>\n",
              "      <td>The Grand Hotel</td>\n",
              "      <td>NaN</td>\n",
              "      <td>NaN</td>\n",
              "    </tr>\n",
              "    <tr>\n",
              "      <th>2</th>\n",
              "      <td>國賓⼤飯店</td>\n",
              "      <td>64.72%</td>\n",
              "      <td>3,761</td>\n",
              "    </tr>\n",
              "    <tr>\n",
              "      <th>3</th>\n",
              "      <td>The Ambassador Hotel-Taipei</td>\n",
              "      <td>NaN</td>\n",
              "      <td>NaN</td>\n",
              "    </tr>\n",
              "    <tr>\n",
              "      <th>4</th>\n",
              "      <td>台北華國⼤飯店</td>\n",
              "      <td>78.10%</td>\n",
              "      <td>2,948</td>\n",
              "    </tr>\n",
              "  </tbody>\n",
              "</table>\n",
              "</div>"
            ],
            "text/plain": [
              "                旅館名稱Hotel Name Occupancy Room Rate\n",
              "0                        圓⼭⼤飯店    79.83%     3,943\n",
              "1              The Grand Hotel       NaN       NaN\n",
              "2                        國賓⼤飯店    64.72%     3,761\n",
              "3  The Ambassador Hotel-Taipei       NaN       NaN\n",
              "4                      台北華國⼤飯店    78.10%     2,948"
            ]
          },
          "metadata": {
            "tags": []
          },
          "execution_count": 13
        }
      ]
    },
    {
      "cell_type": "code",
      "metadata": {
        "id": "ixJA5zLAjkLH"
      },
      "source": [
        "# Change column names\n",
        "df.columns = ['旅館名稱', '住用率', '平均房價']\n"
      ],
      "execution_count": 14,
      "outputs": []
    },
    {
      "cell_type": "code",
      "metadata": {
        "id": "PKVEB49UQ8d8",
        "outputId": "ca088b84-e9e2-437d-8911-3175730127ff",
        "colab": {
          "base_uri": "https://localhost:8080/",
          "height": 195
        }
      },
      "source": [
        "# Delete the even rows.\n",
        "df2=df.iloc[::2]\n",
        "df2.head()"
      ],
      "execution_count": 15,
      "outputs": [
        {
          "output_type": "execute_result",
          "data": {
            "text/html": [
              "<div>\n",
              "<style scoped>\n",
              "    .dataframe tbody tr th:only-of-type {\n",
              "        vertical-align: middle;\n",
              "    }\n",
              "\n",
              "    .dataframe tbody tr th {\n",
              "        vertical-align: top;\n",
              "    }\n",
              "\n",
              "    .dataframe thead th {\n",
              "        text-align: right;\n",
              "    }\n",
              "</style>\n",
              "<table border=\"1\" class=\"dataframe\">\n",
              "  <thead>\n",
              "    <tr style=\"text-align: right;\">\n",
              "      <th></th>\n",
              "      <th>旅館名稱</th>\n",
              "      <th>住用率</th>\n",
              "      <th>平均房價</th>\n",
              "    </tr>\n",
              "  </thead>\n",
              "  <tbody>\n",
              "    <tr>\n",
              "      <th>0</th>\n",
              "      <td>圓⼭⼤飯店</td>\n",
              "      <td>79.83%</td>\n",
              "      <td>3,943</td>\n",
              "    </tr>\n",
              "    <tr>\n",
              "      <th>2</th>\n",
              "      <td>國賓⼤飯店</td>\n",
              "      <td>64.72%</td>\n",
              "      <td>3,761</td>\n",
              "    </tr>\n",
              "    <tr>\n",
              "      <th>4</th>\n",
              "      <td>台北華國⼤飯店</td>\n",
              "      <td>78.10%</td>\n",
              "      <td>2,948</td>\n",
              "    </tr>\n",
              "    <tr>\n",
              "      <th>6</th>\n",
              "      <td>華泰王⼦⼤飯店</td>\n",
              "      <td>71.52%</td>\n",
              "      <td>2,793</td>\n",
              "    </tr>\n",
              "    <tr>\n",
              "      <th>8</th>\n",
              "      <td>國王⼤飯店</td>\n",
              "      <td>67.89%</td>\n",
              "      <td>1,597</td>\n",
              "    </tr>\n",
              "  </tbody>\n",
              "</table>\n",
              "</div>"
            ],
            "text/plain": [
              "      旅館名稱     住用率   平均房價\n",
              "0    圓⼭⼤飯店  79.83%  3,943\n",
              "2    國賓⼤飯店  64.72%  3,761\n",
              "4  台北華國⼤飯店  78.10%  2,948\n",
              "6  華泰王⼦⼤飯店  71.52%  2,793\n",
              "8    國王⼤飯店  67.89%  1,597"
            ]
          },
          "metadata": {
            "tags": []
          },
          "execution_count": 15
        }
      ]
    },
    {
      "cell_type": "code",
      "metadata": {
        "id": "-R5ucTlfhX-u",
        "outputId": "b583f48e-194e-4619-e3c2-0e3d13f84ec8",
        "colab": {
          "base_uri": "https://localhost:8080/",
          "height": 84
        }
      },
      "source": [
        "# Check datatypes\n",
        "df2.dtypes"
      ],
      "execution_count": 16,
      "outputs": [
        {
          "output_type": "execute_result",
          "data": {
            "text/plain": [
              "旅館名稱    object\n",
              "住用率     object\n",
              "平均房價    object\n",
              "dtype: object"
            ]
          },
          "metadata": {
            "tags": []
          },
          "execution_count": 16
        }
      ]
    },
    {
      "cell_type": "code",
      "metadata": {
        "id": "7N0MdASVUxQl",
        "outputId": "35254582-6eed-47fe-8aeb-f7481846ace4",
        "colab": {
          "base_uri": "https://localhost:8080/",
          "height": 195
        }
      },
      "source": [
        "df2 = df2.reset_index()\n",
        "df2.head()"
      ],
      "execution_count": 17,
      "outputs": [
        {
          "output_type": "execute_result",
          "data": {
            "text/html": [
              "<div>\n",
              "<style scoped>\n",
              "    .dataframe tbody tr th:only-of-type {\n",
              "        vertical-align: middle;\n",
              "    }\n",
              "\n",
              "    .dataframe tbody tr th {\n",
              "        vertical-align: top;\n",
              "    }\n",
              "\n",
              "    .dataframe thead th {\n",
              "        text-align: right;\n",
              "    }\n",
              "</style>\n",
              "<table border=\"1\" class=\"dataframe\">\n",
              "  <thead>\n",
              "    <tr style=\"text-align: right;\">\n",
              "      <th></th>\n",
              "      <th>index</th>\n",
              "      <th>旅館名稱</th>\n",
              "      <th>住用率</th>\n",
              "      <th>平均房價</th>\n",
              "    </tr>\n",
              "  </thead>\n",
              "  <tbody>\n",
              "    <tr>\n",
              "      <th>0</th>\n",
              "      <td>0</td>\n",
              "      <td>圓⼭⼤飯店</td>\n",
              "      <td>79.83%</td>\n",
              "      <td>3,943</td>\n",
              "    </tr>\n",
              "    <tr>\n",
              "      <th>1</th>\n",
              "      <td>2</td>\n",
              "      <td>國賓⼤飯店</td>\n",
              "      <td>64.72%</td>\n",
              "      <td>3,761</td>\n",
              "    </tr>\n",
              "    <tr>\n",
              "      <th>2</th>\n",
              "      <td>4</td>\n",
              "      <td>台北華國⼤飯店</td>\n",
              "      <td>78.10%</td>\n",
              "      <td>2,948</td>\n",
              "    </tr>\n",
              "    <tr>\n",
              "      <th>3</th>\n",
              "      <td>6</td>\n",
              "      <td>華泰王⼦⼤飯店</td>\n",
              "      <td>71.52%</td>\n",
              "      <td>2,793</td>\n",
              "    </tr>\n",
              "    <tr>\n",
              "      <th>4</th>\n",
              "      <td>8</td>\n",
              "      <td>國王⼤飯店</td>\n",
              "      <td>67.89%</td>\n",
              "      <td>1,597</td>\n",
              "    </tr>\n",
              "  </tbody>\n",
              "</table>\n",
              "</div>"
            ],
            "text/plain": [
              "   index     旅館名稱     住用率   平均房價\n",
              "0      0    圓⼭⼤飯店  79.83%  3,943\n",
              "1      2    國賓⼤飯店  64.72%  3,761\n",
              "2      4  台北華國⼤飯店  78.10%  2,948\n",
              "3      6  華泰王⼦⼤飯店  71.52%  2,793\n",
              "4      8    國王⼤飯店  67.89%  1,597"
            ]
          },
          "metadata": {
            "tags": []
          },
          "execution_count": 17
        }
      ]
    },
    {
      "cell_type": "code",
      "metadata": {
        "id": "KOuX6WfUYbXE",
        "outputId": "79fc0639-a88a-496d-fa02-a2e6b210c887",
        "colab": {
          "base_uri": "https://localhost:8080/",
          "height": 195
        }
      },
      "source": [
        "df3=df2.drop(df2.columns[[0]],axis=1)\n",
        "df3.head()"
      ],
      "execution_count": 18,
      "outputs": [
        {
          "output_type": "execute_result",
          "data": {
            "text/html": [
              "<div>\n",
              "<style scoped>\n",
              "    .dataframe tbody tr th:only-of-type {\n",
              "        vertical-align: middle;\n",
              "    }\n",
              "\n",
              "    .dataframe tbody tr th {\n",
              "        vertical-align: top;\n",
              "    }\n",
              "\n",
              "    .dataframe thead th {\n",
              "        text-align: right;\n",
              "    }\n",
              "</style>\n",
              "<table border=\"1\" class=\"dataframe\">\n",
              "  <thead>\n",
              "    <tr style=\"text-align: right;\">\n",
              "      <th></th>\n",
              "      <th>旅館名稱</th>\n",
              "      <th>住用率</th>\n",
              "      <th>平均房價</th>\n",
              "    </tr>\n",
              "  </thead>\n",
              "  <tbody>\n",
              "    <tr>\n",
              "      <th>0</th>\n",
              "      <td>圓⼭⼤飯店</td>\n",
              "      <td>79.83%</td>\n",
              "      <td>3,943</td>\n",
              "    </tr>\n",
              "    <tr>\n",
              "      <th>1</th>\n",
              "      <td>國賓⼤飯店</td>\n",
              "      <td>64.72%</td>\n",
              "      <td>3,761</td>\n",
              "    </tr>\n",
              "    <tr>\n",
              "      <th>2</th>\n",
              "      <td>台北華國⼤飯店</td>\n",
              "      <td>78.10%</td>\n",
              "      <td>2,948</td>\n",
              "    </tr>\n",
              "    <tr>\n",
              "      <th>3</th>\n",
              "      <td>華泰王⼦⼤飯店</td>\n",
              "      <td>71.52%</td>\n",
              "      <td>2,793</td>\n",
              "    </tr>\n",
              "    <tr>\n",
              "      <th>4</th>\n",
              "      <td>國王⼤飯店</td>\n",
              "      <td>67.89%</td>\n",
              "      <td>1,597</td>\n",
              "    </tr>\n",
              "  </tbody>\n",
              "</table>\n",
              "</div>"
            ],
            "text/plain": [
              "      旅館名稱     住用率   平均房價\n",
              "0    圓⼭⼤飯店  79.83%  3,943\n",
              "1    國賓⼤飯店  64.72%  3,761\n",
              "2  台北華國⼤飯店  78.10%  2,948\n",
              "3  華泰王⼦⼤飯店  71.52%  2,793\n",
              "4    國王⼤飯店  67.89%  1,597"
            ]
          },
          "metadata": {
            "tags": []
          },
          "execution_count": 18
        }
      ]
    },
    {
      "cell_type": "code",
      "metadata": {
        "id": "AB6ha3yLhYG1",
        "outputId": "872a3ec0-8a75-4bbc-cc20-a691f7dbd1e8",
        "colab": {
          "base_uri": "https://localhost:8080/",
          "height": 195
        }
      },
      "source": [
        "# Remove % and ,\n",
        "# Change datatype\n",
        "df3['住用率'] = df3['住用率'].str.replace('%', '').astype('float') / 100.0\n",
        "df3['平均房價'] = df3['平均房價'].str.replace(',', '').astype('int')\n",
        "\n",
        "df3.head()"
      ],
      "execution_count": 19,
      "outputs": [
        {
          "output_type": "execute_result",
          "data": {
            "text/html": [
              "<div>\n",
              "<style scoped>\n",
              "    .dataframe tbody tr th:only-of-type {\n",
              "        vertical-align: middle;\n",
              "    }\n",
              "\n",
              "    .dataframe tbody tr th {\n",
              "        vertical-align: top;\n",
              "    }\n",
              "\n",
              "    .dataframe thead th {\n",
              "        text-align: right;\n",
              "    }\n",
              "</style>\n",
              "<table border=\"1\" class=\"dataframe\">\n",
              "  <thead>\n",
              "    <tr style=\"text-align: right;\">\n",
              "      <th></th>\n",
              "      <th>旅館名稱</th>\n",
              "      <th>住用率</th>\n",
              "      <th>平均房價</th>\n",
              "    </tr>\n",
              "  </thead>\n",
              "  <tbody>\n",
              "    <tr>\n",
              "      <th>0</th>\n",
              "      <td>圓⼭⼤飯店</td>\n",
              "      <td>0.7983</td>\n",
              "      <td>3943</td>\n",
              "    </tr>\n",
              "    <tr>\n",
              "      <th>1</th>\n",
              "      <td>國賓⼤飯店</td>\n",
              "      <td>0.6472</td>\n",
              "      <td>3761</td>\n",
              "    </tr>\n",
              "    <tr>\n",
              "      <th>2</th>\n",
              "      <td>台北華國⼤飯店</td>\n",
              "      <td>0.7810</td>\n",
              "      <td>2948</td>\n",
              "    </tr>\n",
              "    <tr>\n",
              "      <th>3</th>\n",
              "      <td>華泰王⼦⼤飯店</td>\n",
              "      <td>0.7152</td>\n",
              "      <td>2793</td>\n",
              "    </tr>\n",
              "    <tr>\n",
              "      <th>4</th>\n",
              "      <td>國王⼤飯店</td>\n",
              "      <td>0.6789</td>\n",
              "      <td>1597</td>\n",
              "    </tr>\n",
              "  </tbody>\n",
              "</table>\n",
              "</div>"
            ],
            "text/plain": [
              "      旅館名稱     住用率  平均房價\n",
              "0    圓⼭⼤飯店  0.7983  3943\n",
              "1    國賓⼤飯店  0.6472  3761\n",
              "2  台北華國⼤飯店  0.7810  2948\n",
              "3  華泰王⼦⼤飯店  0.7152  2793\n",
              "4    國王⼤飯店  0.6789  1597"
            ]
          },
          "metadata": {
            "tags": []
          },
          "execution_count": 19
        }
      ]
    },
    {
      "cell_type": "code",
      "metadata": {
        "id": "9JlGmq6OzJvh",
        "outputId": "83977169-ea02-40a2-da44-af5bc802fb69",
        "colab": {
          "base_uri": "https://localhost:8080/",
          "height": 84
        }
      },
      "source": [
        "# check datatype\n",
        "df3.dtypes"
      ],
      "execution_count": 20,
      "outputs": [
        {
          "output_type": "execute_result",
          "data": {
            "text/plain": [
              "旅館名稱     object\n",
              "住用率     float64\n",
              "平均房價      int64\n",
              "dtype: object"
            ]
          },
          "metadata": {
            "tags": []
          },
          "execution_count": 20
        }
      ]
    },
    {
      "cell_type": "code",
      "metadata": {
        "id": "y7huhZuQ2G9s",
        "outputId": "47d884bf-4edf-4caa-a1a7-ad1218686f99",
        "colab": {
          "base_uri": "https://localhost:8080/",
          "height": 639
        }
      },
      "source": [
        "# Change float to 住用率\n",
        "df3['住用率'] = df3['住用率'].multiply(100)\n",
        "\n",
        "# Sort data by 住用率\n",
        "df4 = df3.sort_values(by=['住用率'],ascending=False)\n",
        "\n",
        "# Add % to 住用率\n",
        "df4['住用率']=df4['住用率'].astype(str)+'%'\n",
        "\n",
        "# Add a comma into an integer column into 平均房價\n",
        "df4['平均房價'] = df4.apply(lambda x: \"{:,}\".format(x['平均房價']), axis=1)\n",
        "\n",
        "# reset index\n",
        "df4 = df4.reset_index()\n",
        "\n",
        "# Index to start with 1\n",
        "df4.index = df4.index + 1\n",
        "\n",
        "# Remove 2nd index\n",
        "df4=df4.drop(df4.columns[[0]],axis=1)\n",
        "\n",
        "df4.head(20)"
      ],
      "execution_count": 21,
      "outputs": [
        {
          "output_type": "execute_result",
          "data": {
            "text/html": [
              "<div>\n",
              "<style scoped>\n",
              "    .dataframe tbody tr th:only-of-type {\n",
              "        vertical-align: middle;\n",
              "    }\n",
              "\n",
              "    .dataframe tbody tr th {\n",
              "        vertical-align: top;\n",
              "    }\n",
              "\n",
              "    .dataframe thead th {\n",
              "        text-align: right;\n",
              "    }\n",
              "</style>\n",
              "<table border=\"1\" class=\"dataframe\">\n",
              "  <thead>\n",
              "    <tr style=\"text-align: right;\">\n",
              "      <th></th>\n",
              "      <th>旅館名稱</th>\n",
              "      <th>住用率</th>\n",
              "      <th>平均房價</th>\n",
              "    </tr>\n",
              "  </thead>\n",
              "  <tbody>\n",
              "    <tr>\n",
              "      <th>1</th>\n",
              "      <td>天成⼤飯店</td>\n",
              "      <td>94.38%</td>\n",
              "      <td>3,037</td>\n",
              "    </tr>\n",
              "    <tr>\n",
              "      <th>2</th>\n",
              "      <td>老爺⼤酒店</td>\n",
              "      <td>92.17%</td>\n",
              "      <td>4,810</td>\n",
              "    </tr>\n",
              "    <tr>\n",
              "      <th>3</th>\n",
              "      <td>台北花園⼤酒店</td>\n",
              "      <td>91.85%</td>\n",
              "      <td>2,314</td>\n",
              "    </tr>\n",
              "    <tr>\n",
              "      <th>4</th>\n",
              "      <td>凱撒⼤飯店</td>\n",
              "      <td>91.45%</td>\n",
              "      <td>4,208</td>\n",
              "    </tr>\n",
              "    <tr>\n",
              "      <th>5</th>\n",
              "      <td>台北凱撒⼤飯店</td>\n",
              "      <td>86.92%</td>\n",
              "      <td>3,615</td>\n",
              "    </tr>\n",
              "    <tr>\n",
              "      <th>6</th>\n",
              "      <td>神旺⼤飯店</td>\n",
              "      <td>86.07%</td>\n",
              "      <td>2,513</td>\n",
              "    </tr>\n",
              "    <tr>\n",
              "      <th>7</th>\n",
              "      <td>台北有園飯店</td>\n",
              "      <td>85.99%</td>\n",
              "      <td>2,529</td>\n",
              "    </tr>\n",
              "    <tr>\n",
              "      <th>8</th>\n",
              "      <td>⾼雄國賓⼤飯店</td>\n",
              "      <td>85.11%</td>\n",
              "      <td>2,062</td>\n",
              "    </tr>\n",
              "    <tr>\n",
              "      <th>9</th>\n",
              "      <td>洛碁⼤飯店花華本館</td>\n",
              "      <td>84.64%</td>\n",
              "      <td>1,817</td>\n",
              "    </tr>\n",
              "    <tr>\n",
              "      <th>10</th>\n",
              "      <td>美麗信花園酒店</td>\n",
              "      <td>84.27%</td>\n",
              "      <td>2,221</td>\n",
              "    </tr>\n",
              "    <tr>\n",
              "      <th>11</th>\n",
              "      <td>⼤板根渡假酒店</td>\n",
              "      <td>83.7%</td>\n",
              "      <td>4,673</td>\n",
              "    </tr>\n",
              "    <tr>\n",
              "      <th>12</th>\n",
              "      <td>台北中⼭雅樂軒酒店</td>\n",
              "      <td>83.65%</td>\n",
              "      <td>4,217</td>\n",
              "    </tr>\n",
              "    <tr>\n",
              "      <th>13</th>\n",
              "      <td>新⽵喜來登⼤飯店</td>\n",
              "      <td>82.6%</td>\n",
              "      <td>3,788</td>\n",
              "    </tr>\n",
              "    <tr>\n",
              "      <th>14</th>\n",
              "      <td>寒舍艾麗酒店</td>\n",
              "      <td>82.4%</td>\n",
              "      <td>6,418</td>\n",
              "    </tr>\n",
              "    <tr>\n",
              "      <th>15</th>\n",
              "      <td>尊爵天際⼤飯店</td>\n",
              "      <td>81.96%</td>\n",
              "      <td>2,237</td>\n",
              "    </tr>\n",
              "    <tr>\n",
              "      <th>16</th>\n",
              "      <td>台北W飯店</td>\n",
              "      <td>81.96%</td>\n",
              "      <td>8,737</td>\n",
              "    </tr>\n",
              "    <tr>\n",
              "      <th>17</th>\n",
              "      <td>台糖⻑榮酒店(台南)</td>\n",
              "      <td>81.95%</td>\n",
              "      <td>2,584</td>\n",
              "    </tr>\n",
              "    <tr>\n",
              "      <th>18</th>\n",
              "      <td>台北萬豪酒店</td>\n",
              "      <td>81.42%</td>\n",
              "      <td>6,022</td>\n",
              "    </tr>\n",
              "    <tr>\n",
              "      <th>19</th>\n",
              "      <td>960</td>\n",
              "      <td>81.21%</td>\n",
              "      <td>9,158</td>\n",
              "    </tr>\n",
              "    <tr>\n",
              "      <th>20</th>\n",
              "      <td>福容⼤飯店 桃園</td>\n",
              "      <td>80.96%</td>\n",
              "      <td>1,858</td>\n",
              "    </tr>\n",
              "  </tbody>\n",
              "</table>\n",
              "</div>"
            ],
            "text/plain": [
              "          旅館名稱     住用率   平均房價\n",
              "1        天成⼤飯店  94.38%  3,037\n",
              "2        老爺⼤酒店  92.17%  4,810\n",
              "3      台北花園⼤酒店  91.85%  2,314\n",
              "4        凱撒⼤飯店  91.45%  4,208\n",
              "5      台北凱撒⼤飯店  86.92%  3,615\n",
              "6        神旺⼤飯店  86.07%  2,513\n",
              "7       台北有園飯店  85.99%  2,529\n",
              "8      ⾼雄國賓⼤飯店  85.11%  2,062\n",
              "9    洛碁⼤飯店花華本館  84.64%  1,817\n",
              "10     美麗信花園酒店  84.27%  2,221\n",
              "11     ⼤板根渡假酒店   83.7%  4,673\n",
              "12   台北中⼭雅樂軒酒店  83.65%  4,217\n",
              "13    新⽵喜來登⼤飯店   82.6%  3,788\n",
              "14      寒舍艾麗酒店   82.4%  6,418\n",
              "15     尊爵天際⼤飯店  81.96%  2,237\n",
              "16       台北W飯店  81.96%  8,737\n",
              "17  台糖⻑榮酒店(台南)  81.95%  2,584\n",
              "18      台北萬豪酒店  81.42%  6,022\n",
              "19         960  81.21%  9,158\n",
              "20    福容⼤飯店 桃園  80.96%  1,858"
            ]
          },
          "metadata": {
            "tags": []
          },
          "execution_count": 21
        }
      ]
    },
    {
      "cell_type": "code",
      "metadata": {
        "id": "OSXRhO2Uvg7h",
        "outputId": "43c0ce69-0ca7-4568-8cca-84c01fc52528",
        "colab": {
          "base_uri": "https://localhost:8080/",
          "height": 84
        }
      },
      "source": [
        "df3.dtypes"
      ],
      "execution_count": 22,
      "outputs": [
        {
          "output_type": "execute_result",
          "data": {
            "text/plain": [
              "旅館名稱     object\n",
              "住用率     float64\n",
              "平均房價      int64\n",
              "dtype: object"
            ]
          },
          "metadata": {
            "tags": []
          },
          "execution_count": 22
        }
      ]
    },
    {
      "cell_type": "code",
      "metadata": {
        "id": "9ZjDuMiJDEaa",
        "outputId": "35b585b2-45f4-43b2-f650-fb8e4463c61f",
        "colab": {
          "base_uri": "https://localhost:8080/",
          "height": 639
        }
      },
      "source": [
        "# Sort data by 平均房價\n",
        "df5 = df3.sort_values(by=['平均房價'],ascending=False)\n",
        "\n",
        "# Add a comma into an integer column into 平均房價\n",
        "df5['平均房價'] = df5.apply(lambda x: \"{:,}\".format(x['平均房價']), axis=1)\n",
        "\n",
        "# Add % into 住用率\n",
        "df5['住用率'] = pd.Series([\"{0:.2f}%\".format(val * 1) for val in df5['住用率']], index = df5.index)\n",
        "\n",
        "# reset index\n",
        "df5 = df5.reset_index()\n",
        "\n",
        "# Remove 2nd index\n",
        "df5=df5.drop(df5.columns[[0]],axis=1)\n",
        "\n",
        "# Index to start with 1\n",
        "df5.index = df5.index + 1\n",
        "\n",
        "df5.head(20)"
      ],
      "execution_count": 23,
      "outputs": [
        {
          "output_type": "execute_result",
          "data": {
            "text/html": [
              "<div>\n",
              "<style scoped>\n",
              "    .dataframe tbody tr th:only-of-type {\n",
              "        vertical-align: middle;\n",
              "    }\n",
              "\n",
              "    .dataframe tbody tr th {\n",
              "        vertical-align: top;\n",
              "    }\n",
              "\n",
              "    .dataframe thead th {\n",
              "        text-align: right;\n",
              "    }\n",
              "</style>\n",
              "<table border=\"1\" class=\"dataframe\">\n",
              "  <thead>\n",
              "    <tr style=\"text-align: right;\">\n",
              "      <th></th>\n",
              "      <th>旅館名稱</th>\n",
              "      <th>住用率</th>\n",
              "      <th>平均房價</th>\n",
              "    </tr>\n",
              "  </thead>\n",
              "  <tbody>\n",
              "    <tr>\n",
              "      <th>1</th>\n",
              "      <td>涵碧樓⼤飯店</td>\n",
              "      <td>80.20%</td>\n",
              "      <td>14,230</td>\n",
              "    </tr>\n",
              "    <tr>\n",
              "      <th>2</th>\n",
              "      <td>北投麗禧溫泉酒店</td>\n",
              "      <td>65.23%</td>\n",
              "      <td>13,920</td>\n",
              "    </tr>\n",
              "    <tr>\n",
              "      <th>3</th>\n",
              "      <td>⽇⽉⾏館</td>\n",
              "      <td>26.90%</td>\n",
              "      <td>10,888</td>\n",
              "    </tr>\n",
              "    <tr>\n",
              "      <th>4</th>\n",
              "      <td>蘭城晶英酒店</td>\n",
              "      <td>55.45%</td>\n",
              "      <td>9,263</td>\n",
              "    </tr>\n",
              "    <tr>\n",
              "      <th>5</th>\n",
              "      <td>960</td>\n",
              "      <td>81.21%</td>\n",
              "      <td>9,158</td>\n",
              "    </tr>\n",
              "    <tr>\n",
              "      <th>6</th>\n",
              "      <td>台北W飯店</td>\n",
              "      <td>81.96%</td>\n",
              "      <td>8,737</td>\n",
              "    </tr>\n",
              "    <tr>\n",
              "      <th>7</th>\n",
              "      <td>雲品溫泉酒店⽇⽉潭</td>\n",
              "      <td>72.97%</td>\n",
              "      <td>8,136</td>\n",
              "    </tr>\n",
              "    <tr>\n",
              "      <th>8</th>\n",
              "      <td>遠雄悅來⼤飯店</td>\n",
              "      <td>39.68%</td>\n",
              "      <td>8,038</td>\n",
              "    </tr>\n",
              "    <tr>\n",
              "      <th>9</th>\n",
              "      <td>太魯閣晶英酒店</td>\n",
              "      <td>63.94%</td>\n",
              "      <td>7,152</td>\n",
              "    </tr>\n",
              "    <tr>\n",
              "      <th>10</th>\n",
              "      <td>礁溪老爺⼤酒店</td>\n",
              "      <td>70.01%</td>\n",
              "      <td>6,993</td>\n",
              "    </tr>\n",
              "    <tr>\n",
              "      <th>11</th>\n",
              "      <td>⽇勝⽣加賀屋國際溫泉飯店</td>\n",
              "      <td>59.63%</td>\n",
              "      <td>6,882</td>\n",
              "    </tr>\n",
              "    <tr>\n",
              "      <th>12</th>\n",
              "      <td>晶英國際⾏館</td>\n",
              "      <td>27.44%</td>\n",
              "      <td>6,870</td>\n",
              "    </tr>\n",
              "    <tr>\n",
              "      <th>13</th>\n",
              "      <td>瑞穗天合國際觀光酒店</td>\n",
              "      <td>40.36%</td>\n",
              "      <td>6,589</td>\n",
              "    </tr>\n",
              "    <tr>\n",
              "      <th>14</th>\n",
              "      <td>台北美福⼤飯店</td>\n",
              "      <td>57.86%</td>\n",
              "      <td>6,549</td>\n",
              "    </tr>\n",
              "    <tr>\n",
              "      <th>15</th>\n",
              "      <td>寒舍艾麗酒店</td>\n",
              "      <td>82.40%</td>\n",
              "      <td>6,418</td>\n",
              "    </tr>\n",
              "    <tr>\n",
              "      <th>16</th>\n",
              "      <td>福容⼤飯店 福隆</td>\n",
              "      <td>22.80%</td>\n",
              "      <td>6,397</td>\n",
              "    </tr>\n",
              "    <tr>\n",
              "      <th>17</th>\n",
              "      <td>台北君悅酒店</td>\n",
              "      <td>71.40%</td>\n",
              "      <td>6,296</td>\n",
              "    </tr>\n",
              "    <tr>\n",
              "      <th>18</th>\n",
              "      <td>阿⾥⼭賓館</td>\n",
              "      <td>40.21%</td>\n",
              "      <td>6,171</td>\n",
              "    </tr>\n",
              "    <tr>\n",
              "      <th>19</th>\n",
              "      <td>香格⾥拉台北遠東國際⼤飯店</td>\n",
              "      <td>71.85%</td>\n",
              "      <td>6,125</td>\n",
              "    </tr>\n",
              "    <tr>\n",
              "      <th>20</th>\n",
              "      <td>阿⾥⼭賓館(新館)</td>\n",
              "      <td>68.08%</td>\n",
              "      <td>6,105</td>\n",
              "    </tr>\n",
              "  </tbody>\n",
              "</table>\n",
              "</div>"
            ],
            "text/plain": [
              "             旅館名稱     住用率    平均房價\n",
              "1          涵碧樓⼤飯店  80.20%  14,230\n",
              "2        北投麗禧溫泉酒店  65.23%  13,920\n",
              "3            ⽇⽉⾏館  26.90%  10,888\n",
              "4          蘭城晶英酒店  55.45%   9,263\n",
              "5             960  81.21%   9,158\n",
              "6           台北W飯店  81.96%   8,737\n",
              "7       雲品溫泉酒店⽇⽉潭  72.97%   8,136\n",
              "8         遠雄悅來⼤飯店  39.68%   8,038\n",
              "9         太魯閣晶英酒店  63.94%   7,152\n",
              "10        礁溪老爺⼤酒店  70.01%   6,993\n",
              "11   ⽇勝⽣加賀屋國際溫泉飯店  59.63%   6,882\n",
              "12         晶英國際⾏館  27.44%   6,870\n",
              "13     瑞穗天合國際觀光酒店  40.36%   6,589\n",
              "14        台北美福⼤飯店  57.86%   6,549\n",
              "15         寒舍艾麗酒店  82.40%   6,418\n",
              "16       福容⼤飯店 福隆  22.80%   6,397\n",
              "17         台北君悅酒店  71.40%   6,296\n",
              "18          阿⾥⼭賓館  40.21%   6,171\n",
              "19  香格⾥拉台北遠東國際⼤飯店  71.85%   6,125\n",
              "20      阿⾥⼭賓館(新館)  68.08%   6,105"
            ]
          },
          "metadata": {
            "tags": []
          },
          "execution_count": 23
        }
      ]
    }
  ]
}