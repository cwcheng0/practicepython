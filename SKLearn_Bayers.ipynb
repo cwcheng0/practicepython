{
  "nbformat": 4,
  "nbformat_minor": 0,
  "metadata": {
    "colab": {
      "name": "SKLearn-Bayers.ipynb",
      "version": "0.3.2",
      "provenance": [],
      "include_colab_link": true
    },
    "kernelspec": {
      "name": "python3",
      "display_name": "Python 3"
    }
  },
  "cells": [
    {
      "cell_type": "markdown",
      "metadata": {
        "id": "view-in-github",
        "colab_type": "text"
      },
      "source": [
        "<a href=\"https://colab.research.google.com/github/cwcheng0/practicepython/blob/master/SKLearn_Bayers.ipynb\" target=\"_parent\"><img src=\"https://colab.research.google.com/assets/colab-badge.svg\" alt=\"Open In Colab\"/></a>"
      ]
    },
    {
      "metadata": {
        "id": "JB6WUC51PUf3",
        "colab_type": "code",
        "colab": {
          "base_uri": "https://localhost:8080/",
          "height": 34
        },
        "outputId": "86d0c3ca-8c1a-4dd1-dc83-2765730f4cac"
      },
      "cell_type": "code",
      "source": [
        "# Naive Bayers in iris\n",
        "# 2019-1-27\n",
        "# Source https://ithelp.ithome.com.tw/articles/10200538\n",
        "# -*- coding: utf-8 -*-\n",
        "from sklearn import tree\n",
        "from sklearn.model_selection import train_test_split\n",
        "from sklearn import datasets\n",
        "from sklearn.metrics import accuracy_score\n",
        "from sklearn.naive_bayes import GaussianNB\n",
        "\n",
        "iris = datasets.load_iris()  #load進iris的資料庫\n",
        "\n",
        "features = iris.feature_names\n",
        "X = iris.data  \n",
        "y = iris.target\n",
        "\n",
        "X_train, X_test, y_train, y_test = train_test_split(X, y, test_size=0.3)  \n",
        "gnb = GaussianNB()\n",
        "y_result = gnb.fit(X_train, y_train).predict(X_test)\n",
        "\n",
        "accuracy_score(y_test, y_result)\n",
        "print(\"Number of mislabeled points out of a total %d points : %d\"% (iris.data.shape[0],(y_test != y_result).sum()))"
      ],
      "execution_count": 1,
      "outputs": [
        {
          "output_type": "stream",
          "text": [
            "Number of mislabeled points out of a total 150 points : 0\n"
          ],
          "name": "stdout"
        }
      ]
    },
    {
      "metadata": {
        "id": "McL2JS7yPfGN",
        "colab_type": "code",
        "colab": {
          "base_uri": "https://localhost:8080/",
          "height": 168
        },
        "outputId": "5f8a7ad1-ed01-4116-cc22-8ba24656f12a"
      },
      "cell_type": "code",
      "source": [
        "# With Matlib\n",
        "from sklearn.model_selection import train_test_split\n",
        "from sklearn import datasets\n",
        "from sklearn.metrics import accuracy_score\n",
        "from sklearn.naive_bayes import BernoulliNB\n",
        "import matplotlib.pyplot as plt\n",
        "\n",
        "bc = datasets.load_breast_cancer()  #load進breast_cancer的資料庫\n",
        "\n",
        "features = bc.feature_names\n",
        "print(features)"
      ],
      "execution_count": 2,
      "outputs": [
        {
          "output_type": "stream",
          "text": [
            "['mean radius' 'mean texture' 'mean perimeter' 'mean area'\n",
            " 'mean smoothness' 'mean compactness' 'mean concavity'\n",
            " 'mean concave points' 'mean symmetry' 'mean fractal dimension'\n",
            " 'radius error' 'texture error' 'perimeter error' 'area error'\n",
            " 'smoothness error' 'compactness error' 'concavity error'\n",
            " 'concave points error' 'symmetry error' 'fractal dimension error'\n",
            " 'worst radius' 'worst texture' 'worst perimeter' 'worst area'\n",
            " 'worst smoothness' 'worst compactness' 'worst concavity'\n",
            " 'worst concave points' 'worst symmetry' 'worst fractal dimension']\n"
          ],
          "name": "stdout"
        }
      ]
    },
    {
      "metadata": {
        "id": "3LvMhr6XQAQK",
        "colab_type": "code",
        "colab": {
          "base_uri": "https://localhost:8080/",
          "height": 722
        },
        "outputId": "cb2a7452-1308-4f6a-8165-6abec8225cb9"
      },
      "cell_type": "code",
      "source": [
        "# Give column names\n",
        "n = range(10, 31)\n",
        "n_scores = []\n",
        "for nn in n:\n",
        "    X = bc.data[:,:nn] #取到第nn欄位\n",
        "    y = bc.target\n",
        "    \n",
        "    X_train, X_test, y_train, y_test = train_test_split(X, y, test_size=0.3)  \n",
        "    clf = BernoulliNB(alpha=0.6) #alpha也是可以自由調整的\n",
        "    clf.fit(X_train, y_train) #MultinomialNB(alpha=1.0, class_prior=None, fit_prior=True) #alpha->smoothing parameter(0 for no smoothing)\n",
        "    y_result = clf.predict(X_test)\n",
        "    n_scores.append(accuracy_score(y_test, y_result))\n",
        "    print(nn)\n",
        "    print(\"Number of mislabeled points out of a total %d points : %d\"% (bc.data.shape[0],(y_test != y_result).sum()))"
      ],
      "execution_count": 3,
      "outputs": [
        {
          "output_type": "stream",
          "text": [
            "10\n",
            "Number of mislabeled points out of a total 569 points : 67\n",
            "11\n",
            "Number of mislabeled points out of a total 569 points : 57\n",
            "12\n",
            "Number of mislabeled points out of a total 569 points : 68\n",
            "13\n",
            "Number of mislabeled points out of a total 569 points : 66\n",
            "14\n",
            "Number of mislabeled points out of a total 569 points : 68\n",
            "15\n",
            "Number of mislabeled points out of a total 569 points : 67\n",
            "16\n",
            "Number of mislabeled points out of a total 569 points : 63\n",
            "17\n",
            "Number of mislabeled points out of a total 569 points : 56\n",
            "18\n",
            "Number of mislabeled points out of a total 569 points : 77\n",
            "19\n",
            "Number of mislabeled points out of a total 569 points : 60\n",
            "20\n",
            "Number of mislabeled points out of a total 569 points : 59\n",
            "21\n",
            "Number of mislabeled points out of a total 569 points : 48\n",
            "22\n",
            "Number of mislabeled points out of a total 569 points : 60\n",
            "23\n",
            "Number of mislabeled points out of a total 569 points : 63\n",
            "24\n",
            "Number of mislabeled points out of a total 569 points : 53\n",
            "25\n",
            "Number of mislabeled points out of a total 569 points : 62\n",
            "26\n",
            "Number of mislabeled points out of a total 569 points : 65\n",
            "27\n",
            "Number of mislabeled points out of a total 569 points : 64\n",
            "28\n",
            "Number of mislabeled points out of a total 569 points : 64\n",
            "29\n",
            "Number of mislabeled points out of a total 569 points : 61\n",
            "30\n",
            "Number of mislabeled points out of a total 569 points : 67\n"
          ],
          "name": "stdout"
        }
      ]
    },
    {
      "metadata": {
        "id": "LwsxLhNLQH3A",
        "colab_type": "code",
        "colab": {
          "base_uri": "https://localhost:8080/",
          "height": 361
        },
        "outputId": "62b548d4-627a-42ed-b479-30e710109d0b"
      },
      "cell_type": "code",
      "source": [
        "# Draw this map\n",
        "plt.plot(n,n_scores)\n",
        "plt.xlabel('Value of n')\n",
        "plt.ylabel('Accuracy')\n",
        "plt.show()"
      ],
      "execution_count": 4,
      "outputs": [
        {
          "output_type": "display_data",
          "data": {
            "image/png": "[encoded data removed]",
            "text/plain": [
              "<Figure size 576x396 with 1 Axes>"
            ]
          },
          "metadata": {
            "tags": []
          }
        }
      ]
    },
    {
      "metadata": {
        "id": "mHvxCiZDQPGo",
        "colab_type": "code",
        "colab": {}
      },
      "cell_type": "code",
      "source": [
        ""
      ],
      "execution_count": 0,
      "outputs": []
    }
  ]
}