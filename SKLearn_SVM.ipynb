{
  "nbformat": 4,
  "nbformat_minor": 0,
  "metadata": {
    "colab": {
      "name": "SKLearn_SVM.ipynb",
      "version": "0.3.2",
      "provenance": [],
      "collapsed_sections": [],
      "include_colab_link": true
    },
    "kernelspec": {
      "name": "python3",
      "display_name": "Python 3"
    }
  },
  "cells": [
    {
      "cell_type": "markdown",
      "metadata": {
        "id": "view-in-github",
        "colab_type": "text"
      },
      "source": [
        "<a href=\"https://colab.research.google.com/github/cwcheng0/practicepython/blob/master/SKLearn_SVM.ipynb\" target=\"_parent\"><img src=\"https://colab.research.google.com/assets/colab-badge.svg\" alt=\"Open In Colab\"/></a>"
      ]
    },
    {
      "metadata": {
        "id": "xKz5UoL_CSDA",
        "colab_type": "code",
        "outputId": "43b14a62-8950-4dd4-a72a-ff706e013f6c",
        "colab": {
          "base_uri": "https://localhost:8080/",
          "height": 330
        }
      },
      "cell_type": "code",
      "source": [
        "# SKLearn SVM\n",
        "# source1 video http://www.peixun.net/main.php?mod=course&cid=1281\n",
        "# 2019-2-16\n",
        "from sklearn.datasets import make_blobs\n",
        "from sklearn.svm import SVC\n",
        "import matplotlib.pyplot as plt\n",
        "import numpy as np\n",
        "\n",
        "X,y = make_blobs(n_samples=50, centers=2, random_state=0,cluster_std=0.6)\n",
        "plt.scatter(X[:,0],X[:,1],c=y,s=50,cmap=\"rainbow\")\n",
        "plt.xticks([])\n",
        "plt.yticks([])\n",
        "plt.show()"
      ],
      "execution_count": 1,
      "outputs": [
        {
          "output_type": "display_data",
          "data": {
            "image/png": "[encoded data removed]",
            "text/plain": [
              "<Figure size 576x396 with 1 Axes>"
            ]
          },
          "metadata": {
            "tags": []
          }
        }
      ]
    },
    {
      "metadata": {
        "id": "dl3a2oktU6FD",
        "colab_type": "code",
        "outputId": "654b8344-556c-478e-9271-c2ebf77e38ea",
        "colab": {
          "base_uri": "https://localhost:8080/",
          "height": 465
        }
      },
      "cell_type": "code",
      "source": [
        "#首先要有散点图\n",
        "plt.scatter(X[:,0],X[:,1],c=y,s=50,cmap=\"rainbow\")\n",
        "ax = plt.gca() #获取当前的子图，如果不存在，则创建新的子图\n",
        "xlim = ax.get_xlim()\n",
        "ylim = ax.get_ylim() #默认创建(0.0, 1.0)范围内的横纵坐标\n",
        "\n",
        "#要画决策边界，必须要有网格\n",
        "axisx = np.linspace(xlim[0],xlim[1],30)\n",
        "axisy = np.linspace(ylim[0],ylim[1],30)\n",
        "axisy,axisx = np.meshgrid(axisy,axisx)\n",
        "\n",
        "#将特征向量转换为特征矩阵的函数\n",
        "#核心是将两个特征向量广播，以便获取y.shape * x.shape这么多个坐标点的横坐标和纵坐标\n",
        "xy = np.vstack([axisx.ravel(), axisy.ravel()]).T\n",
        "xy"
      ],
      "execution_count": 2,
      "outputs": [
        {
          "output_type": "execute_result",
          "data": {
            "text/plain": [
              "array([[-7.51270012e-01, -4.31731676e-01],\n",
              "       [-7.51270012e-01, -2.17952020e-01],\n",
              "       [-7.51270012e-01, -4.17236442e-03],\n",
              "       ...,\n",
              "       [ 3.38090414e+00,  5.34031903e+00],\n",
              "       [ 3.38090414e+00,  5.55409868e+00],\n",
              "       [ 3.38090414e+00,  5.76787834e+00]])"
            ]
          },
          "metadata": {
            "tags": []
          },
          "execution_count": 2
        },
        {
          "output_type": "display_data",
          "data": {
            "image/png": "[encoded data removed]",
            "text/plain": [
              "<Figure size 576x396 with 1 Axes>"
            ]
          },
          "metadata": {
            "tags": []
          }
        }
      ]
    },
    {
      "metadata": {
        "id": "p7KdfvFbcx1j",
        "colab_type": "code",
        "outputId": "1b096b30-e4f6-4a9d-d9e3-00baef493e1e",
        "colab": {
          "base_uri": "https://localhost:8080/",
          "height": 34
        }
      },
      "cell_type": "code",
      "source": [
        "xy.shape"
      ],
      "execution_count": 3,
      "outputs": [
        {
          "output_type": "execute_result",
          "data": {
            "text/plain": [
              "(900, 2)"
            ]
          },
          "metadata": {
            "tags": []
          },
          "execution_count": 3
        }
      ]
    },
    {
      "metadata": {
        "id": "XETHJe2jnCNG",
        "colab_type": "code",
        "outputId": "1a59881b-b182-4fc6-93eb-b29783f79942",
        "colab": {
          "base_uri": "https://localhost:8080/",
          "height": 50
        }
      },
      "cell_type": "code",
      "source": [
        "#获取y.shape * x.shape这么多个坐标点\n",
        "#其中ravel()是降维函数，vstack能够将多个结构一致的一维数组按行堆叠起来\n",
        "#xy就是已经形成的网络，它是遍布在整个画布上的密集的点\n",
        "a = np.array([1,2,3])\n",
        "b = np.array([7,8])\n",
        "\n",
        "#两两组合，会得到多少个坐标？\n",
        "#答案是6个，分别是 (1,7),(2,7),(3,7),(1,8),(2,8),(3,8)\n",
        "v1,v2 = np.meshgrid(a,b)\n",
        "v1"
      ],
      "execution_count": 4,
      "outputs": [
        {
          "output_type": "execute_result",
          "data": {
            "text/plain": [
              "array([[1, 2, 3],\n",
              "       [1, 2, 3]])"
            ]
          },
          "metadata": {
            "tags": []
          },
          "execution_count": 4
        }
      ]
    },
    {
      "metadata": {
        "id": "3ac2cVqbVk0E",
        "colab_type": "code",
        "outputId": "1113c092-9046-4cff-da54-5928b452d5df",
        "colab": {
          "base_uri": "https://localhost:8080/",
          "height": 50
        }
      },
      "cell_type": "code",
      "source": [
        "v2"
      ],
      "execution_count": 5,
      "outputs": [
        {
          "output_type": "execute_result",
          "data": {
            "text/plain": [
              "array([[7, 7, 7],\n",
              "       [8, 8, 8]])"
            ]
          },
          "metadata": {
            "tags": []
          },
          "execution_count": 5
        }
      ]
    },
    {
      "metadata": {
        "id": "VlPpahVvl7WH",
        "colab_type": "code",
        "outputId": "77edee51-6202-40d7-c903-e6fc2c548f09",
        "colab": {
          "base_uri": "https://localhost:8080/",
          "height": 34
        }
      },
      "cell_type": "code",
      "source": [
        "xlim"
      ],
      "execution_count": 6,
      "outputs": [
        {
          "output_type": "execute_result",
          "data": {
            "text/plain": [
              "(-0.7512700116044393, 3.3809041403171176)"
            ]
          },
          "metadata": {
            "tags": []
          },
          "execution_count": 6
        }
      ]
    },
    {
      "metadata": {
        "id": "zidOv1AumB-9",
        "colab_type": "code",
        "outputId": "405ee1fc-5f73-4215-aa74-aaa37109677c",
        "colab": {
          "base_uri": "https://localhost:8080/",
          "height": 34
        }
      },
      "cell_type": "code",
      "source": [
        "ylim"
      ],
      "execution_count": 7,
      "outputs": [
        {
          "output_type": "execute_result",
          "data": {
            "text/plain": [
              "(-0.43173167577870103, 5.7678783389050965)"
            ]
          },
          "metadata": {
            "tags": []
          },
          "execution_count": 7
        }
      ]
    },
    {
      "metadata": {
        "id": "umK8_koomL9i",
        "colab_type": "code",
        "outputId": "415182f6-9c40-4c1f-ece8-be1bac0977bb",
        "colab": {
          "base_uri": "https://localhost:8080/",
          "height": 118
        }
      },
      "cell_type": "code",
      "source": [
        "#0~1, get 30 numbers\n",
        "np.linspace(xlim[0],xlim[1],30)"
      ],
      "execution_count": 8,
      "outputs": [
        {
          "output_type": "execute_result",
          "data": {
            "text/plain": [
              "array([-0.75127001, -0.60878125, -0.46629248, -0.32380372, -0.18131496,\n",
              "       -0.03882619,  0.10366257,  0.24615134,  0.3886401 ,  0.53112886,\n",
              "        0.67361763,  0.81610639,  0.95859515,  1.10108392,  1.24357268,\n",
              "        1.38606145,  1.52855021,  1.67103897,  1.81352774,  1.9560165 ,\n",
              "        2.09850527,  2.24099403,  2.38348279,  2.52597156,  2.66846032,\n",
              "        2.81094908,  2.95343785,  3.09592661,  3.23841538,  3.38090414])"
            ]
          },
          "metadata": {
            "tags": []
          },
          "execution_count": 8
        }
      ]
    },
    {
      "metadata": {
        "id": "ZFowZINcmhUl",
        "colab_type": "code",
        "outputId": "e3886d17-3751-4747-8b43-9a50889d9c32",
        "colab": {
          "base_uri": "https://localhost:8080/",
          "height": 34
        }
      },
      "cell_type": "code",
      "source": [
        "np.linspace(xlim[0],xlim[1],30).shape"
      ],
      "execution_count": 9,
      "outputs": [
        {
          "output_type": "execute_result",
          "data": {
            "text/plain": [
              "(30,)"
            ]
          },
          "metadata": {
            "tags": []
          },
          "execution_count": 9
        }
      ]
    },
    {
      "metadata": {
        "id": "Uo3mWTSvdi_d",
        "colab_type": "code",
        "outputId": "5c9af2ac-caa3-4205-c8a0-fb52f9f74d52",
        "colab": {
          "base_uri": "https://localhost:8080/",
          "height": 34
        }
      },
      "cell_type": "code",
      "source": [
        "axisx.shape"
      ],
      "execution_count": 10,
      "outputs": [
        {
          "output_type": "execute_result",
          "data": {
            "text/plain": [
              "(30, 30)"
            ]
          },
          "metadata": {
            "tags": []
          },
          "execution_count": 10
        }
      ]
    },
    {
      "metadata": {
        "id": "hDEeaT1RdtEq",
        "colab_type": "code",
        "outputId": "9e251dbc-a90a-4048-fbba-5b67c42453dc",
        "colab": {
          "base_uri": "https://localhost:8080/",
          "height": 3041
        }
      },
      "cell_type": "code",
      "source": [
        "#\n",
        "v = np.vstack([v1.ravel(), v2.ravel()]).T\n",
        "\n",
        "#建模，通过fit计算出对应的决策边界\n",
        "clf = SVC(kernel = \"linear\").fit(X,y)\n",
        "P = clf.decision_function(xy).reshape(axisx.shape)\n",
        "P"
      ],
      "execution_count": 11,
      "outputs": [
        {
          "output_type": "execute_result",
          "data": {
            "text/plain": [
              "array([[ 3.61191293,  3.31741379,  3.02291466,  2.72841552,  2.43391638,\n",
              "         2.13941724,  1.8449181 ,  1.55041896,  1.25591982,  0.96142068,\n",
              "         0.66692154,  0.3724224 ,  0.07792327, -0.21657587, -0.51107501,\n",
              "        -0.80557415, -1.10007329, -1.39457243, -1.68907157, -1.98357071,\n",
              "        -2.27806985, -2.57256899, -2.86706813, -3.16156726, -3.4560664 ,\n",
              "        -3.75056554, -4.04506468, -4.33956382, -4.63406296, -4.9285621 ],\n",
              "       [ 3.6446388 ,  3.35013966,  3.05564052,  2.76114138,  2.46664224,\n",
              "         2.1721431 ,  1.87764396,  1.58314482,  1.28864569,  0.99414655,\n",
              "         0.69964741,  0.40514827,  0.11064913, -0.18385001, -0.47834915,\n",
              "        -0.77284829, -1.06734743, -1.36184657, -1.65634571, -1.95084484,\n",
              "        -2.24534398, -2.53984312, -2.83434226, -3.1288414 , -3.42334054,\n",
              "        -3.71783968, -4.01233882, -4.30683796, -4.6013371 , -4.89583624],\n",
              "       [ 3.67736466,  3.38286552,  3.08836638,  2.79386724,  2.49936811,\n",
              "         2.20486897,  1.91036983,  1.61587069,  1.32137155,  1.02687241,\n",
              "         0.73237327,  0.43787413,  0.14337499, -0.15112415, -0.44562329,\n",
              "        -0.74012242, -1.03462156, -1.3291207 , -1.62361984, -1.91811898,\n",
              "        -2.21261812, -2.50711726, -2.8016164 , -3.09611554, -3.39061468,\n",
              "        -3.68511382, -3.97961295, -4.27411209, -4.56861123, -4.86311037],\n",
              "       [ 3.71009053,  3.41559139,  3.12109225,  2.82659311,  2.53209397,\n",
              "         2.23759483,  1.94309569,  1.64859655,  1.35409741,  1.05959827,\n",
              "         0.76509913,  0.4706    ,  0.17610086, -0.11839828, -0.41289742,\n",
              "        -0.70739656, -1.0018957 , -1.29639484, -1.59089398, -1.88539312,\n",
              "        -2.17989226, -2.4743914 , -2.76889053, -3.06338967, -3.35788881,\n",
              "        -3.65238795, -3.94688709, -4.24138623, -4.53588537, -4.83038451],\n",
              "       [ 3.74281639,  3.44831725,  3.15381811,  2.85931897,  2.56481983,\n",
              "         2.27032069,  1.97582155,  1.68132242,  1.38682328,  1.09232414,\n",
              "         0.797825  ,  0.50332586,  0.20882672, -0.08567242, -0.38017156,\n",
              "        -0.6746707 , -0.96916984, -1.26366898, -1.55816811, -1.85266725,\n",
              "        -2.14716639, -2.44166553, -2.73616467, -3.03066381, -3.32516295,\n",
              "        -3.61966209, -3.91416123, -4.20866037, -4.50315951, -4.79765864],\n",
              "       [ 3.77554225,  3.48104311,  3.18654397,  2.89204484,  2.5975457 ,\n",
              "         2.30304656,  2.00854742,  1.71404828,  1.41954914,  1.12505   ,\n",
              "         0.83055086,  0.53605172,  0.24155258, -0.05294656, -0.34744569,\n",
              "        -0.64194483, -0.93644397, -1.23094311, -1.52544225, -1.81994139,\n",
              "        -2.11444053, -2.40893967, -2.70343881, -2.99793795, -3.29243709,\n",
              "        -3.58693622, -3.88143536, -4.1759345 , -4.47043364, -4.76493278],\n",
              "       [ 3.80826812,  3.51376898,  3.21926984,  2.9247707 ,  2.63027156,\n",
              "         2.33577242,  2.04127328,  1.74677414,  1.452275  ,  1.15777586,\n",
              "         0.86327673,  0.56877759,  0.27427845, -0.02022069, -0.31471983,\n",
              "        -0.60921897, -0.90371811, -1.19821725, -1.49271639, -1.78721553,\n",
              "        -2.08171467, -2.3762138 , -2.67071294, -2.96521208, -3.25971122,\n",
              "        -3.55421036, -3.8487095 , -4.14320864, -4.43770778, -4.73220692],\n",
              "       [ 3.84099398,  3.54649484,  3.2519957 ,  2.95749656,  2.66299742,\n",
              "         2.36849828,  2.07399915,  1.77950001,  1.48500087,  1.19050173,\n",
              "         0.89600259,  0.60150345,  0.30700431,  0.01250517, -0.28199397,\n",
              "        -0.57649311, -0.87099225, -1.16549138, -1.45999052, -1.75448966,\n",
              "        -2.0489888 , -2.34348794, -2.63798708, -2.93248622, -3.22698536,\n",
              "        -3.5214845 , -3.81598364, -4.11048278, -4.40498191, -4.69948105],\n",
              "       [ 3.87371984,  3.5792207 ,  3.28472157,  2.99022243,  2.69572329,\n",
              "         2.40122415,  2.10672501,  1.81222587,  1.51772673,  1.22322759,\n",
              "         0.92872845,  0.63422931,  0.33973017,  0.04523104, -0.2492681 ,\n",
              "        -0.54376724, -0.83826638, -1.13276552, -1.42726466, -1.7217638 ,\n",
              "        -2.01626294, -2.31076208, -2.60526122, -2.89976036, -3.19425949,\n",
              "        -3.48875863, -3.78325777, -4.07775691, -4.37225605, -4.66675519],\n",
              "       [ 3.90644571,  3.61194657,  3.31744743,  3.02294829,  2.72844915,\n",
              "         2.43395001,  2.13945087,  1.84495173,  1.55045259,  1.25595346,\n",
              "         0.96145432,  0.66695518,  0.37245604,  0.0779569 , -0.21654224,\n",
              "        -0.51104138, -0.80554052, -1.10003966, -1.3945388 , -1.68903794,\n",
              "        -1.98353707, -2.27803621, -2.57253535, -2.86703449, -3.16153363,\n",
              "        -3.45603277, -3.75053191, -4.04503105, -4.33953019, -4.63402933],\n",
              "       [ 3.93917157,  3.64467243,  3.35017329,  3.05567415,  2.76117501,\n",
              "         2.46667588,  2.17217674,  1.8776776 ,  1.58317846,  1.28867932,\n",
              "         0.99418018,  0.69968104,  0.4051819 ,  0.11068276, -0.18381638,\n",
              "        -0.47831552, -0.77281465, -1.06731379, -1.36181293, -1.65631207,\n",
              "        -1.95081121, -2.24531035, -2.53980949, -2.83430863, -3.12880777,\n",
              "        -3.42330691, -3.71780604, -4.01230518, -4.30680432, -4.60130346],\n",
              "       [ 3.97189743,  3.6773983 ,  3.38289916,  3.08840002,  2.79390088,\n",
              "         2.49940174,  2.2049026 ,  1.91040346,  1.61590432,  1.32140518,\n",
              "         1.02690604,  0.7324069 ,  0.43790777,  0.14340863, -0.15109051,\n",
              "        -0.44558965, -0.74008879, -1.03458793, -1.32908707, -1.62358621,\n",
              "        -1.91808535, -2.21258449, -2.50708362, -2.80158276, -3.0960819 ,\n",
              "        -3.39058104, -3.68508018, -3.97957932, -4.27407846, -4.5685776 ],\n",
              "       [ 4.0046233 ,  3.71012416,  3.41562502,  3.12112588,  2.82662674,\n",
              "         2.5321276 ,  2.23762846,  1.94312932,  1.64863019,  1.35413105,\n",
              "         1.05963191,  0.76513277,  0.47063363,  0.17613449, -0.11836465,\n",
              "        -0.41286379, -0.70736293, -1.00186207, -1.2963612 , -1.59086034,\n",
              "        -1.88535948, -2.17985862, -2.47435776, -2.7688569 , -3.06335604,\n",
              "        -3.35785518, -3.65235432, -3.94685346, -4.2413526 , -4.53585173],\n",
              "       [ 4.03734916,  3.74285002,  3.44835088,  3.15385174,  2.85935261,\n",
              "         2.56485347,  2.27035433,  1.97585519,  1.68135605,  1.38685691,\n",
              "         1.09235777,  0.79785863,  0.50335949,  0.20886035, -0.08563878,\n",
              "        -0.38013792, -0.67463706, -0.9691362 , -1.26363534, -1.55813448,\n",
              "        -1.85263362, -2.14713276, -2.4416319 , -2.73613104, -3.03063018,\n",
              "        -3.32512931, -3.61962845, -3.91412759, -4.20862673, -4.50312587],\n",
              "       [ 4.07007503,  3.77557589,  3.48107675,  3.18657761,  2.89207847,\n",
              "         2.59757933,  2.30308019,  2.00858105,  1.71408191,  1.41958277,\n",
              "         1.12508364,  0.8305845 ,  0.53608536,  0.24158622, -0.05291292,\n",
              "        -0.34741206, -0.6419112 , -0.93641034, -1.23090948, -1.52540862,\n",
              "        -1.81990776, -2.11440689, -2.40890603, -2.70340517, -2.99790431,\n",
              "        -3.29240345, -3.58690259, -3.88140173, -4.17590087, -4.47040001],\n",
              "       [ 4.10280089,  3.80830175,  3.51380261,  3.21930347,  2.92480433,\n",
              "         2.63030519,  2.33580606,  2.04130692,  1.74680778,  1.45230864,\n",
              "         1.1578095 ,  0.86331036,  0.56881122,  0.27431208, -0.02018706,\n",
              "        -0.3146862 , -0.60918534, -0.90368447, -1.19818361, -1.49268275,\n",
              "        -1.78718189, -2.08168103, -2.37618017, -2.67067931, -2.96517845,\n",
              "        -3.25967759, -3.55417673, -3.84867587, -4.143175  , -4.43767414],\n",
              "       [ 4.13552675,  3.84102761,  3.54652848,  3.25202934,  2.9575302 ,\n",
              "         2.66303106,  2.36853192,  2.07403278,  1.77953364,  1.4850345 ,\n",
              "         1.19053536,  0.89603622,  0.60153708,  0.30703795,  0.01253881,\n",
              "        -0.28196033, -0.57645947, -0.87095861, -1.16545775, -1.45995689,\n",
              "        -1.75445603, -2.04895517, -2.34345431, -2.63795345, -2.93245258,\n",
              "        -3.22695172, -3.52145086, -3.81595   , -4.11044914, -4.40494828],\n",
              "       [ 4.16825262,  3.87375348,  3.57925434,  3.2847552 ,  2.99025606,\n",
              "         2.69575692,  2.40125778,  2.10675864,  1.8122595 ,  1.51776037,\n",
              "         1.22326123,  0.92876209,  0.63426295,  0.33976381,  0.04526467,\n",
              "        -0.24923447, -0.54373361, -0.83823275, -1.13273189, -1.42723103,\n",
              "        -1.72173016, -2.0162293 , -2.31072844, -2.60522758, -2.89972672,\n",
              "        -3.19422586, -3.488725  , -3.78322414, -4.07772328, -4.37222242],\n",
              "       [ 4.20097848,  3.90647934,  3.6119802 ,  3.31748106,  3.02298192,\n",
              "         2.72848279,  2.43398365,  2.13948451,  1.84498537,  1.55048623,\n",
              "         1.25598709,  0.96148795,  0.66698881,  0.37248967,  0.07799053,\n",
              "        -0.21650861, -0.51100774, -0.80550688, -1.10000602, -1.39450516,\n",
              "        -1.6890043 , -1.98350344, -2.27800258, -2.57250172, -2.86700086,\n",
              "        -3.1615    , -3.45599914, -3.75049827, -4.04499741, -4.33949655],\n",
              "       [ 4.23370434,  3.93920521,  3.64470607,  3.35020693,  3.05570779,\n",
              "         2.76120865,  2.46670951,  2.17221037,  1.87771123,  1.58321209,\n",
              "         1.28871295,  0.99421381,  0.69971468,  0.40521554,  0.1107164 ,\n",
              "        -0.18378274, -0.47828188, -0.77278102, -1.06728016, -1.3617793 ,\n",
              "        -1.65627844, -1.95077758, -2.24527672, -2.53977585, -2.83427499,\n",
              "        -3.12877413, -3.42327327, -3.71777241, -4.01227155, -4.30677069],\n",
              "       [ 4.26643021,  3.97193107,  3.67743193,  3.38293279,  3.08843365,\n",
              "         2.79393451,  2.49943537,  2.20493623,  1.9104371 ,  1.61593796,\n",
              "         1.32143882,  1.02693968,  0.73244054,  0.4379414 ,  0.14344226,\n",
              "        -0.15105688, -0.44555602, -0.74005516, -1.0345543 , -1.32905343,\n",
              "        -1.62355257, -1.91805171, -2.21255085, -2.50704999, -2.80154913,\n",
              "        -3.09604827, -3.39054741, -3.68504655, -3.97954569, -4.27404483],\n",
              "       [ 4.29915607,  4.00465693,  3.71015779,  3.41565865,  3.12115952,\n",
              "         2.82666038,  2.53216124,  2.2376621 ,  1.94316296,  1.64866382,\n",
              "         1.35416468,  1.05966554,  0.7651664 ,  0.47066726,  0.17616812,\n",
              "        -0.11833101, -0.41283015, -0.70732929, -1.00182843, -1.29632757,\n",
              "        -1.59082671, -1.88532585, -2.17982499, -2.47432413, -2.76882327,\n",
              "        -3.06332241, -3.35782154, -3.65232068, -3.94681982, -4.24131896],\n",
              "       [ 4.33188194,  4.0373828 ,  3.74288366,  3.44838452,  3.15388538,\n",
              "         2.85938624,  2.5648871 ,  2.27038796,  1.97588882,  1.68138968,\n",
              "         1.38689054,  1.09239141,  0.79789227,  0.50339313,  0.20889399,\n",
              "        -0.08560515, -0.38010429, -0.67460343, -0.96910257, -1.26360171,\n",
              "        -1.55810085, -1.85259999, -2.14709912, -2.44159826, -2.7360974 ,\n",
              "        -3.03059654, -3.32509568, -3.61959482, -3.91409396, -4.2085931 ],\n",
              "       [ 4.3646078 ,  4.07010866,  3.77560952,  3.48111038,  3.18661124,\n",
              "         2.8921121 ,  2.59761296,  2.30311383,  2.00861469,  1.71411555,\n",
              "         1.41961641,  1.12511727,  0.83061813,  0.53611899,  0.24161985,\n",
              "        -0.05287929, -0.34737843, -0.64187757, -0.9363767 , -1.23087584,\n",
              "        -1.52537498, -1.81987412, -2.11437326, -2.4088724 , -2.70337154,\n",
              "        -2.99787068, -3.29236982, -3.58686896, -3.88136809, -4.17586723],\n",
              "       [ 4.39733366,  4.10283452,  3.80833538,  3.51383625,  3.21933711,\n",
              "         2.92483797,  2.63033883,  2.33583969,  2.04134055,  1.74684141,\n",
              "         1.45234227,  1.15784313,  0.86334399,  0.56884485,  0.27434572,\n",
              "        -0.02015342, -0.31465256, -0.6091517 , -0.90365084, -1.19814998,\n",
              "        -1.49264912, -1.78714826, -2.0816474 , -2.37614654, -2.67064567,\n",
              "        -2.96514481, -3.25964395, -3.55414309, -3.84864223, -4.14314137],\n",
              "       [ 4.43005953,  4.13556039,  3.84106125,  3.54656211,  3.25206297,\n",
              "         2.95756383,  2.66306469,  2.36856555,  2.07406641,  1.77956727,\n",
              "         1.48506814,  1.190569  ,  0.89606986,  0.60157072,  0.30707158,\n",
              "         0.01257244, -0.2819267 , -0.57642584, -0.87092498, -1.16542412,\n",
              "        -1.45992325, -1.75442239, -2.04892153, -2.34342067, -2.63791981,\n",
              "        -2.93241895, -3.22691809, -3.52141723, -3.81591637, -4.11041551],\n",
              "       [ 4.46278539,  4.16828625,  3.87378711,  3.57928797,  3.28478883,\n",
              "         2.99028969,  2.69579056,  2.40129142,  2.10679228,  1.81229314,\n",
              "         1.517794  ,  1.22329486,  0.92879572,  0.63429658,  0.33979744,\n",
              "         0.0452983 , -0.24920083, -0.54369997, -0.83819911, -1.13269825,\n",
              "        -1.42719739, -1.72169653, -2.01619567, -2.31069481, -2.60519395,\n",
              "        -2.89969309, -3.19419223, -3.48869136, -3.7831905 , -4.07768964],\n",
              "       [ 4.49551125,  4.20101211,  3.90651298,  3.61201384,  3.3175147 ,\n",
              "         3.02301556,  2.72851642,  2.43401728,  2.13951814,  1.845019  ,\n",
              "         1.55051986,  1.25602072,  0.96152159,  0.66702245,  0.37252331,\n",
              "         0.07802417, -0.21647497, -0.51097411, -0.80547325, -1.09997239,\n",
              "        -1.39447153, -1.68897067, -1.98346981, -2.27796894, -2.57246808,\n",
              "        -2.86696722, -3.16146636, -3.4559655 , -3.75046464, -4.04496378],\n",
              "       [ 4.52823712,  4.23373798,  3.93923884,  3.6447397 ,  3.35024056,\n",
              "         3.05574142,  2.76124228,  2.46674314,  2.17224401,  1.87774487,\n",
              "         1.58324573,  1.28874659,  0.99424745,  0.69974831,  0.40524917,\n",
              "         0.11075003, -0.18374911, -0.47824825, -0.77274739, -1.06724652,\n",
              "        -1.36174566, -1.6562448 , -1.95074394, -2.24524308, -2.53974222,\n",
              "        -2.83424136, -3.1287405 , -3.42323964, -3.71773878, -4.01223792],\n",
              "       [ 4.56096298,  4.26646384,  3.9719647 ,  3.67746556,  3.38296643,\n",
              "         3.08846729,  2.79396815,  2.49946901,  2.20496987,  1.91047073,\n",
              "         1.61597159,  1.32147245,  1.02697331,  0.73247417,  0.43797503,\n",
              "         0.1434759 , -0.15102324, -0.44552238, -0.74002152, -1.03452066,\n",
              "        -1.3290198 , -1.62351894, -1.91801808, -2.21251722, -2.50701636,\n",
              "        -2.8015155 , -3.09601463, -3.39051377, -3.68501291, -3.97951205]])"
            ]
          },
          "metadata": {
            "tags": []
          },
          "execution_count": 11
        }
      ]
    },
    {
      "metadata": {
        "id": "OIkdfbFcd-8m",
        "colab_type": "code",
        "outputId": "33222d05-1c6d-47b8-bdc3-ffba276708df",
        "colab": {
          "base_uri": "https://localhost:8080/",
          "height": 34
        }
      },
      "cell_type": "code",
      "source": [
        "P.shape"
      ],
      "execution_count": 12,
      "outputs": [
        {
          "output_type": "execute_result",
          "data": {
            "text/plain": [
              "(30, 30)"
            ]
          },
          "metadata": {
            "tags": []
          },
          "execution_count": 12
        }
      ]
    },
    {
      "metadata": {
        "id": "4N6VBNhyVJ-_",
        "colab_type": "code",
        "outputId": "a336d721-0ecf-4ea5-c39b-26705e4bb139",
        "colab": {
          "base_uri": "https://localhost:8080/",
          "height": 347
        }
      },
      "cell_type": "code",
      "source": [
        "#重要接口decision_function，返回每个输入的样本所对应的到决策边界的距离\n",
        "#然后再将这个距离转换为axisx的结构\n",
        "#画决策边界和平行于决策边界的超平面\n",
        "ax.contour(axisx,axisy,P\n",
        "        ,colors=\"k\"\n",
        "        ,levels=[-1,0,1]\n",
        "        ,alpha=0.5\n",
        "        ,linestyles=[\"--\",\"-\",\"--\"])\n",
        "ax.set_xlim(xlim)\n",
        "ax.set_ylim(ylim)\n",
        "\n",
        "#将上述过程包装成函数：\n",
        "def plot_svc_decision_function(model,ax=None):\n",
        "    if ax is None:\n",
        "        ax = plt.gca()\n",
        "    xlim = ax.get_xlim()\n",
        "    ylim = ax.get_ylim()\n",
        "    x = np.linspace(xlim[0],xlim[1],30)\n",
        "    y = np.linspace(ylim[0],ylim[1],30)\n",
        "    Y,X = np.meshgrid(y,x)\n",
        "    xy = np.vstack([X.ravel(), Y.ravel()]).T\n",
        "    P = model.decision_function(xy).reshape(X.shape)\n",
        "    ax.contour(X, Y, P,colors=\"k\",levels=[-1,0,1],alpha=0.5,linestyles=[\"--\",\"-\",\"--\"])\n",
        "    ax.set_xlim(xlim)\n",
        "    ax.set_ylim(ylim)\n",
        "\n",
        "#则可以写作：\n",
        "clf = SVC(kernel = \"linear\").fit(X,y)\n",
        "plt.scatter(X[:,0],X[:,1],c=y,s=50,cmap=\"rainbow\")\n",
        "plot_svc_decision_function(clf)"
      ],
      "execution_count": 13,
      "outputs": [
        {
          "output_type": "display_data",
          "data": {
            "image/png": "[encoded data removed]",
            "text/plain": [
              "<Figure size 576x396 with 1 Axes>"
            ]
          },
          "metadata": {
            "tags": []
          }
        }
      ]
    },
    {
      "metadata": {
        "id": "i2YqlsexWBZZ",
        "colab_type": "code",
        "outputId": "056a13c2-a895-431c-c641-c8164a3dce5a",
        "colab": {
          "base_uri": "https://localhost:8080/",
          "height": 34
        }
      },
      "cell_type": "code",
      "source": [
        "##\n",
        "from sklearn.datasets import make_circles\n",
        "X,y = make_circles(100, factor=0.1, noise=.1)\n",
        "X.shape"
      ],
      "execution_count": 14,
      "outputs": [
        {
          "output_type": "execute_result",
          "data": {
            "text/plain": [
              "(100, 2)"
            ]
          },
          "metadata": {
            "tags": []
          },
          "execution_count": 14
        }
      ]
    },
    {
      "metadata": {
        "id": "S3QvAM6wVsXk",
        "colab_type": "code",
        "outputId": "5d11ed32-1027-44cc-987f-f307f6406937",
        "colab": {
          "base_uri": "https://localhost:8080/",
          "height": 34
        }
      },
      "cell_type": "code",
      "source": [
        "y.shape"
      ],
      "execution_count": 15,
      "outputs": [
        {
          "output_type": "execute_result",
          "data": {
            "text/plain": [
              "(100,)"
            ]
          },
          "metadata": {
            "tags": []
          },
          "execution_count": 15
        }
      ]
    },
    {
      "metadata": {
        "id": "eUp-Xcj6WD5Q",
        "colab_type": "code",
        "outputId": "492f0b1c-81ff-4981-bc32-bb5b77667f41",
        "colab": {
          "base_uri": "https://localhost:8080/",
          "height": 347
        }
      },
      "cell_type": "code",
      "source": [
        "# Use circle\n",
        "from sklearn.datasets import make_circles\n",
        "X,y = make_circles(100, factor=0.1, noise=.1)\n",
        "X.shape\n",
        "y.shape\n",
        "plt.scatter(X[:,0],X[:,1],c=y,s=50,cmap=\"rainbow\")\n",
        "plt.show()"
      ],
      "execution_count": 16,
      "outputs": [
        {
          "output_type": "display_data",
          "data": {
            "image/png": "[encoded data removed]",
            "text/plain": [
              "<Figure size 576x396 with 1 Axes>"
            ]
          },
          "metadata": {
            "tags": []
          }
        }
      ]
    },
    {
      "metadata": {
        "id": "eMe4fnmeWF66",
        "colab_type": "code",
        "outputId": "5a9c9189-fdf4-4738-8254-dfabb5568edc",
        "colab": {
          "base_uri": "https://localhost:8080/",
          "height": 347
        }
      },
      "cell_type": "code",
      "source": [
        "# Use previous defined function to run\n",
        "clf = SVC(kernel = \"linear\").fit(X,y)\n",
        "plt.scatter(X[:,0],X[:,1],c=y,s=50,cmap=\"rainbow\")\n",
        "plot_svc_decision_function(clf)"
      ],
      "execution_count": 17,
      "outputs": [
        {
          "output_type": "display_data",
          "data": {
            "image/png": "[encoded data removed]",
            "text/plain": [
              "<Figure size 576x396 with 1 Axes>"
            ]
          },
          "metadata": {
            "tags": []
          }
        }
      ]
    },
    {
      "metadata": {
        "id": "X4OtUovWWJSu",
        "colab_type": "code",
        "outputId": "511ed473-74f5-410b-992b-072e62f5ecc3",
        "colab": {
          "base_uri": "https://localhost:8080/",
          "height": 50
        }
      },
      "cell_type": "code",
      "source": [
        "# Use another way to draw lines to separate dots\n",
        "#定义一个由x计算出来的新维度r\n",
        "r = np.exp(-(X**2).sum(1))\n",
        "rlim = np.linspace(min(r),max(r),0.2)"
      ],
      "execution_count": 18,
      "outputs": [
        {
          "output_type": "stream",
          "text": [
            "/usr/local/lib/python3.6/dist-packages/ipykernel_launcher.py:2: DeprecationWarning: object of type <class 'float'> cannot be safely interpreted as an integer.\n",
            "  \n"
          ],
          "name": "stderr"
        }
      ]
    },
    {
      "metadata": {
        "id": "METu_HRrhVDZ",
        "colab_type": "code",
        "outputId": "1d98c3ac-a8e8-4c1d-b00d-8ec0a7801a4d",
        "colab": {
          "base_uri": "https://localhost:8080/",
          "height": 330
        }
      },
      "cell_type": "code",
      "source": [
        "from mpl_toolkits import mplot3d\n",
        "#定义一个绘制三维图像的函数\n",
        "#elev表示上下旋转的角度\n",
        "#azim表示平行旋转的角度\n",
        "\n",
        "def plot_3D(elev=30,azim=30,X=X,y=y):\n",
        "      ax = plt.subplot(projection=\"3d\")\n",
        "      ax.scatter3D(X[:,0],X[:,1],r,c=y,s=50,cmap='rainbow')\n",
        "\n",
        "      ax.view_init(elev=elev,azim=azim)\n",
        "      ax.set_xlabel(\"x\")\n",
        "      ax.set_ylabel(\"y\")\n",
        "      ax.set_zlabel(\"r\")\n",
        "      plt.show()\n",
        "      \n",
        "#轉60度      \n",
        "#plot_3D(elev=60)\n",
        "#plot_3D(elev=90)\n",
        "#plot_3D()\n",
        "plot_3D(azim=60)"
      ],
      "execution_count": 19,
      "outputs": [
        {
          "output_type": "display_data",
          "data": {
            "image/png": "[encoded data removed]",
            "text/plain": [
              "<Figure size 576x396 with 1 Axes>"
            ]
          },
          "metadata": {
            "tags": []
          }
        }
      ]
    },
    {
      "metadata": {
        "id": "aCYoJmwKhY0d",
        "colab_type": "code",
        "outputId": "4ed2d7c3-9d46-42ba-dd6c-85922375e4f6",
        "colab": {
          "base_uri": "https://localhost:8080/",
          "height": 364
        }
      },
      "cell_type": "code",
      "source": [
        "##\n",
        "#如果放到jupyter notebook中运行\n",
        "from sklearn.svm import SVC\n",
        "import matplotlib.pyplot as plt\n",
        "import numpy as np\n",
        "from sklearn.datasets import make_circles\n",
        "\n",
        "X,y = make_circles(100, factor=0.1, noise=.1)\n",
        "plt.scatter(X[:,0],X[:,1],c=y,s=50,cmap=\"rainbow\")\n",
        "def plot_svc_decision_function(model,ax=None):\n",
        "      if ax is None:\n",
        "        ax = plt.gca()\n",
        "      xlim = ax.get_xlim()\n",
        "      ylim = ax.get_ylim()\n",
        "      x = np.linspace(xlim[0],xlim[1],30)\n",
        "      y = np.linspace(ylim[0],ylim[1],30)\n",
        "      Y,X = np.meshgrid(y,x)\n",
        "      xy = np.vstack([X.ravel(), Y.ravel()]).T\n",
        "      P = model.decision_function(xy).reshape(X.shape)\n",
        "      ax.contour(X, Y, P,colors=\"k\",levels=[-1,0,1],alpha=0.5,linestyles=[\"--\",\"-\",\"--\"])\n",
        "      ax.set_xlim(xlim)\n",
        "      ax.set_ylim(ylim)\n",
        "\n",
        "clf = SVC(kernel = \"linear\").fit(X,y)\n",
        "plt.scatter(X[:,0],X[:,1],c=y,s=50,cmap=\"rainbow\")\n",
        "plot_svc_decision_function(clf)\n",
        "r = np.exp(-(X**2).sum(1))\n",
        "rlim = np.linspace(min(r),max(r),0.2)\n",
        "\n",
        "from mpl_toolkits import mplot3d\n",
        "def plot_3D(elev=30,azim=30,X=X,y=y):\n",
        "      ax = plt.subplot(projection=\"3d\")\n",
        "      ax.scatter3D(X[:,0],X[:,1],r,c=y,s=50,cmap='rainbow')\n",
        "      ax.view_init(elev=elev,azim=azim)\n",
        "      ax.set_xlabel(\"x\")\n",
        "      ax.set_ylabel(\"y\")\n",
        "      ax.set_zlabel(\"r\")\n",
        "plt.show()"
      ],
      "execution_count": 20,
      "outputs": [
        {
          "output_type": "stream",
          "text": [
            "/usr/local/lib/python3.6/dist-packages/ipykernel_launcher.py:26: DeprecationWarning: object of type <class 'float'> cannot be safely interpreted as an integer.\n"
          ],
          "name": "stderr"
        },
        {
          "output_type": "display_data",
          "data": {
            "image/png": "[encoded data removed]",
            "text/plain": [
              "<Figure size 576x396 with 1 Axes>"
            ]
          },
          "metadata": {
            "tags": []
          }
        }
      ]
    },
    {
      "metadata": {
        "id": "4dOS34bajdnE",
        "colab_type": "code",
        "outputId": "f85d7e25-0360-4f8d-af4d-2a82c8f41ebe",
        "colab": {
          "base_uri": "https://localhost:8080/",
          "height": 330
        }
      },
      "cell_type": "code",
      "source": [
        "## Run this code in Jupiter NB\n",
        "from ipywidgets import interact,fixed\n",
        "interact(plot_3D,elev=[0,30],azip=(-180,180),X=fixed(X),y=fixed(y))\n",
        "plt.show()"
      ],
      "execution_count": 21,
      "outputs": [
        {
          "output_type": "display_data",
          "data": {
            "image/png": "[encoded data removed]",
            "text/plain": [
              "<Figure size 576x396 with 1 Axes>"
            ]
          },
          "metadata": {
            "tags": []
          }
        }
      ]
    },
    {
      "metadata": {
        "id": "D3PsIkFXkYG_",
        "colab_type": "code",
        "outputId": "f73bf852-e098-4baf-bfb6-2b8f69df4cf3",
        "colab": {
          "base_uri": "https://localhost:8080/",
          "height": 401
        }
      },
      "cell_type": "code",
      "source": [
        "##\n",
        "clf = SVC(kernel = \"rbf\").fit(X,y)\n",
        "plt.scatter(X[:,0],X[:,1],c=y,s=50,cmap=\"rainbow\")\n",
        "plot_svc_decision_function(clf)"
      ],
      "execution_count": 22,
      "outputs": [
        {
          "output_type": "stream",
          "text": [
            "/usr/local/lib/python3.6/dist-packages/sklearn/svm/base.py:196: FutureWarning: The default value of gamma will change from 'auto' to 'scale' in version 0.22 to account better for unscaled features. Set gamma explicitly to 'auto' or 'scale' to avoid this warning.\n",
            "  \"avoid this warning.\", FutureWarning)\n"
          ],
          "name": "stderr"
        },
        {
          "output_type": "display_data",
          "data": {
            "image/png": "[encoded data removed]",
            "text/plain": [
              "<Figure size 576x396 with 1 Axes>"
            ]
          },
          "metadata": {
            "tags": []
          }
        }
      ]
    },
    {
      "metadata": {
        "id": "NvP6rgNilA4t",
        "colab_type": "code",
        "outputId": "3924663f-2220-48f0-ecb1-91daf0834617",
        "colab": {
          "base_uri": "https://localhost:8080/",
          "height": 34
        }
      },
      "cell_type": "code",
      "source": [
        "##\n",
        "##\n",
        "## This starts the SVMSamples\n",
        "\n",
        "from sklearn.datasets import load_breast_cancer\n",
        "from sklearn.svm import SVC\n",
        "from sklearn.model_selection import train_test_split\n",
        "import matplotlib.pyplot as plt\n",
        "import numpy as np\n",
        "from time import time\n",
        "import datetime\n",
        "data = load_breast_cancer()\n",
        "X = data.data\n",
        "y = data.target\n",
        "X.shape"
      ],
      "execution_count": 1,
      "outputs": [
        {
          "output_type": "execute_result",
          "data": {
            "text/plain": [
              "(569, 30)"
            ]
          },
          "metadata": {
            "tags": []
          },
          "execution_count": 1
        }
      ]
    },
    {
      "metadata": {
        "id": "XR1fuD1Hp_oG",
        "colab_type": "code",
        "outputId": "abb98f5c-7e19-4887-9882-93f852df5241",
        "colab": {
          "base_uri": "https://localhost:8080/",
          "height": 910
        }
      },
      "cell_type": "code",
      "source": [
        "data"
      ],
      "execution_count": 2,
      "outputs": [
        {
          "output_type": "execute_result",
          "data": {
            "text/plain": [
              "{'DESCR': '.. _breast_cancer_dataset:\\n\\nBreast cancer wisconsin (diagnostic) dataset\\n--------------------------------------------\\n\\n**Data Set Characteristics:**\\n\\n    :Number of Instances: 569\\n\\n    :Number of Attributes: 30 numeric, predictive attributes and the class\\n\\n    :Attribute Information:\\n        - radius (mean of distances from center to points on the perimeter)\\n        - texture (standard deviation of gray-scale values)\\n        - perimeter\\n        - area\\n        - smoothness (local variation in radius lengths)\\n        - compactness (perimeter^2 / area - 1.0)\\n        - concavity (severity of concave portions of the contour)\\n        - concave points (number of concave portions of the contour)\\n        - symmetry \\n        - fractal dimension (\"coastline approximation\" - 1)\\n\\n        The mean, standard error, and \"worst\" or largest (mean of the three\\n        largest values) of these features were computed for each image,\\n        resulting in 30 features.  For instance, field 3 is Mean Radius, field\\n        13 is Radius SE, field 23 is Worst Radius.\\n\\n        - class:\\n                - WDBC-Malignant\\n                - WDBC-Benign\\n\\n    :Summary Statistics:\\n\\n    ===================================== ====== ======\\n                                           Min    Max\\n    ===================================== ====== ======\\n    radius (mean):                        6.981  28.11\\n    texture (mean):                       9.71   39.28\\n    perimeter (mean):                     43.79  188.5\\n    area (mean):                          143.5  2501.0\\n    smoothness (mean):                    0.053  0.163\\n    compactness (mean):                   0.019  0.345\\n    concavity (mean):                     0.0    0.427\\n    concave points (mean):                0.0    0.201\\n    symmetry (mean):                      0.106  0.304\\n    fractal dimension (mean):             0.05   0.097\\n    radius (standard error):              0.112  2.873\\n    texture (standard error):             0.36   4.885\\n    perimeter (standard error):           0.757  21.98\\n    area (standard error):                6.802  542.2\\n    smoothness (standard error):          0.002  0.031\\n    compactness (standard error):         0.002  0.135\\n    concavity (standard error):           0.0    0.396\\n    concave points (standard error):      0.0    0.053\\n    symmetry (standard error):            0.008  0.079\\n    fractal dimension (standard error):   0.001  0.03\\n    radius (worst):                       7.93   36.04\\n    texture (worst):                      12.02  49.54\\n    perimeter (worst):                    50.41  251.2\\n    area (worst):                         185.2  4254.0\\n    smoothness (worst):                   0.071  0.223\\n    compactness (worst):                  0.027  1.058\\n    concavity (worst):                    0.0    1.252\\n    concave points (worst):               0.0    0.291\\n    symmetry (worst):                     0.156  0.664\\n    fractal dimension (worst):            0.055  0.208\\n    ===================================== ====== ======\\n\\n    :Missing Attribute Values: None\\n\\n    :Class Distribution: 212 - Malignant, 357 - Benign\\n\\n    :Creator:  Dr. William H. Wolberg, W. Nick Street, Olvi L. Mangasarian\\n\\n    :Donor: Nick Street\\n\\n    :Date: November, 1995\\n\\nThis is a copy of UCI ML Breast Cancer Wisconsin (Diagnostic) datasets.\\nhttps://goo.gl/U2Uwz2\\n\\nFeatures are computed from a digitized image of a fine needle\\naspirate (FNA) of a breast mass.  They describe\\ncharacteristics of the cell nuclei present in the image.\\n\\nSeparating plane described above was obtained using\\nMultisurface Method-Tree (MSM-T) [K. P. Bennett, \"Decision Tree\\nConstruction Via Linear Programming.\" Proceedings of the 4th\\nMidwest Artificial Intelligence and Cognitive Science Society,\\npp. 97-101, 1992], a classification method which uses linear\\nprogramming to construct a decision tree.  Relevant features\\nwere selected using an exhaustive search in the space of 1-4\\nfeatures and 1-3 separating planes.\\n\\nThe actual linear program used to obtain the separating plane\\nin the 3-dimensional space is that described in:\\n[K. P. Bennett and O. L. Mangasarian: \"Robust Linear\\nProgramming Discrimination of Two Linearly Inseparable Sets\",\\nOptimization Methods and Software 1, 1992, 23-34].\\n\\nThis database is also available through the UW CS ftp server:\\n\\nftp ftp.cs.wisc.edu\\ncd math-prog/cpo-dataset/machine-learn/WDBC/\\n\\n.. topic:: References\\n\\n   - W.N. Street, W.H. Wolberg and O.L. Mangasarian. Nuclear feature extraction \\n     for breast tumor diagnosis. IS&T/SPIE 1993 International Symposium on \\n     Electronic Imaging: Science and Technology, volume 1905, pages 861-870,\\n     San Jose, CA, 1993.\\n   - O.L. Mangasarian, W.N. Street and W.H. Wolberg. Breast cancer diagnosis and \\n     prognosis via linear programming. Operations Research, 43(4), pages 570-577, \\n     July-August 1995.\\n   - W.H. Wolberg, W.N. Street, and O.L. Mangasarian. Machine learning techniques\\n     to diagnose breast cancer from fine-needle aspirates. Cancer Letters 77 (1994) \\n     163-171.',\n",
              " 'data': array([[1.799e+01, 1.038e+01, 1.228e+02, ..., 2.654e-01, 4.601e-01,\n",
              "         1.189e-01],\n",
              "        [2.057e+01, 1.777e+01, 1.329e+02, ..., 1.860e-01, 2.750e-01,\n",
              "         8.902e-02],\n",
              "        [1.969e+01, 2.125e+01, 1.300e+02, ..., 2.430e-01, 3.613e-01,\n",
              "         8.758e-02],\n",
              "        ...,\n",
              "        [1.660e+01, 2.808e+01, 1.083e+02, ..., 1.418e-01, 2.218e-01,\n",
              "         7.820e-02],\n",
              "        [2.060e+01, 2.933e+01, 1.401e+02, ..., 2.650e-01, 4.087e-01,\n",
              "         1.240e-01],\n",
              "        [7.760e+00, 2.454e+01, 4.792e+01, ..., 0.000e+00, 2.871e-01,\n",
              "         7.039e-02]]),\n",
              " 'feature_names': array(['mean radius', 'mean texture', 'mean perimeter', 'mean area',\n",
              "        'mean smoothness', 'mean compactness', 'mean concavity',\n",
              "        'mean concave points', 'mean symmetry', 'mean fractal dimension',\n",
              "        'radius error', 'texture error', 'perimeter error', 'area error',\n",
              "        'smoothness error', 'compactness error', 'concavity error',\n",
              "        'concave points error', 'symmetry error',\n",
              "        'fractal dimension error', 'worst radius', 'worst texture',\n",
              "        'worst perimeter', 'worst area', 'worst smoothness',\n",
              "        'worst compactness', 'worst concavity', 'worst concave points',\n",
              "        'worst symmetry', 'worst fractal dimension'], dtype='<U23'),\n",
              " 'filename': '/usr/local/lib/python3.6/dist-packages/sklearn/datasets/data/breast_cancer.csv',\n",
              " 'target': array([0, 0, 0, 0, 0, 0, 0, 0, 0, 0, 0, 0, 0, 0, 0, 0, 0, 0, 0, 1, 1, 1,\n",
              "        0, 0, 0, 0, 0, 0, 0, 0, 0, 0, 0, 0, 0, 0, 0, 1, 0, 0, 0, 0, 0, 0,\n",
              "        0, 0, 1, 0, 1, 1, 1, 1, 1, 0, 0, 1, 0, 0, 1, 1, 1, 1, 0, 1, 0, 0,\n",
              "        1, 1, 1, 1, 0, 1, 0, 0, 1, 0, 1, 0, 0, 1, 1, 1, 0, 0, 1, 0, 0, 0,\n",
              "        1, 1, 1, 0, 1, 1, 0, 0, 1, 1, 1, 0, 0, 1, 1, 1, 1, 0, 1, 1, 0, 1,\n",
              "        1, 1, 1, 1, 1, 1, 1, 0, 0, 0, 1, 0, 0, 1, 1, 1, 0, 0, 1, 0, 1, 0,\n",
              "        0, 1, 0, 0, 1, 1, 0, 1, 1, 0, 1, 1, 1, 1, 0, 1, 1, 1, 1, 1, 1, 1,\n",
              "        1, 1, 0, 1, 1, 1, 1, 0, 0, 1, 0, 1, 1, 0, 0, 1, 1, 0, 0, 1, 1, 1,\n",
              "        1, 0, 1, 1, 0, 0, 0, 1, 0, 1, 0, 1, 1, 1, 0, 1, 1, 0, 0, 1, 0, 0,\n",
              "        0, 0, 1, 0, 0, 0, 1, 0, 1, 0, 1, 1, 0, 1, 0, 0, 0, 0, 1, 1, 0, 0,\n",
              "        1, 1, 1, 0, 1, 1, 1, 1, 1, 0, 0, 1, 1, 0, 1, 1, 0, 0, 1, 0, 1, 1,\n",
              "        1, 1, 0, 1, 1, 1, 1, 1, 0, 1, 0, 0, 0, 0, 0, 0, 0, 0, 0, 0, 0, 0,\n",
              "        0, 0, 1, 1, 1, 1, 1, 1, 0, 1, 0, 1, 1, 0, 1, 1, 0, 1, 0, 0, 1, 1,\n",
              "        1, 1, 1, 1, 1, 1, 1, 1, 1, 1, 1, 0, 1, 1, 0, 1, 0, 1, 1, 1, 1, 1,\n",
              "        1, 1, 1, 1, 1, 1, 1, 1, 1, 0, 1, 1, 1, 0, 1, 0, 1, 1, 1, 1, 0, 0,\n",
              "        0, 1, 1, 1, 1, 0, 1, 0, 1, 0, 1, 1, 1, 0, 1, 1, 1, 1, 1, 1, 1, 0,\n",
              "        0, 0, 1, 1, 1, 1, 1, 1, 1, 1, 1, 1, 1, 0, 0, 1, 0, 0, 0, 1, 0, 0,\n",
              "        1, 1, 1, 1, 1, 0, 1, 1, 1, 1, 1, 0, 1, 1, 1, 0, 1, 1, 0, 0, 1, 1,\n",
              "        1, 1, 1, 1, 0, 1, 1, 1, 1, 1, 1, 1, 0, 1, 1, 1, 1, 1, 0, 1, 1, 0,\n",
              "        1, 1, 1, 1, 1, 1, 1, 1, 1, 1, 1, 1, 0, 1, 0, 0, 1, 0, 1, 1, 1, 1,\n",
              "        1, 0, 1, 1, 0, 1, 0, 1, 1, 0, 1, 0, 1, 1, 1, 1, 1, 1, 1, 1, 0, 0,\n",
              "        1, 1, 1, 1, 1, 1, 0, 1, 1, 1, 1, 1, 1, 1, 1, 1, 1, 0, 1, 1, 1, 1,\n",
              "        1, 1, 1, 0, 1, 0, 1, 1, 0, 1, 1, 1, 1, 1, 0, 0, 1, 0, 1, 0, 1, 1,\n",
              "        1, 1, 1, 0, 1, 1, 0, 1, 0, 1, 0, 0, 1, 1, 1, 0, 1, 1, 1, 1, 1, 1,\n",
              "        1, 1, 1, 1, 1, 0, 1, 0, 0, 1, 1, 1, 1, 1, 1, 1, 1, 1, 1, 1, 1, 1,\n",
              "        1, 1, 1, 1, 1, 1, 1, 1, 1, 1, 1, 1, 0, 0, 0, 0, 0, 0, 1]),\n",
              " 'target_names': array(['malignant', 'benign'], dtype='<U9')}"
            ]
          },
          "metadata": {
            "tags": []
          },
          "execution_count": 2
        }
      ]
    },
    {
      "metadata": {
        "id": "5R5ihS2KmG1i",
        "colab_type": "code",
        "outputId": "16becf7b-bb94-44c8-8519-79b2e0a6a4e7",
        "colab": {
          "base_uri": "https://localhost:8080/",
          "height": 34
        }
      },
      "cell_type": "code",
      "source": [
        "## \n",
        "np.unique(y)"
      ],
      "execution_count": 3,
      "outputs": [
        {
          "output_type": "execute_result",
          "data": {
            "text/plain": [
              "array([0, 1])"
            ]
          },
          "metadata": {
            "tags": []
          },
          "execution_count": 3
        }
      ]
    },
    {
      "metadata": {
        "id": "-d102MVoqSBj",
        "colab_type": "code",
        "outputId": "0d65a0d1-5d5f-4e05-d147-e4d6e09a952b",
        "colab": {
          "base_uri": "https://localhost:8080/",
          "height": 454
        }
      },
      "cell_type": "code",
      "source": [
        "y"
      ],
      "execution_count": 4,
      "outputs": [
        {
          "output_type": "execute_result",
          "data": {
            "text/plain": [
              "array([0, 0, 0, 0, 0, 0, 0, 0, 0, 0, 0, 0, 0, 0, 0, 0, 0, 0, 0, 1, 1, 1,\n",
              "       0, 0, 0, 0, 0, 0, 0, 0, 0, 0, 0, 0, 0, 0, 0, 1, 0, 0, 0, 0, 0, 0,\n",
              "       0, 0, 1, 0, 1, 1, 1, 1, 1, 0, 0, 1, 0, 0, 1, 1, 1, 1, 0, 1, 0, 0,\n",
              "       1, 1, 1, 1, 0, 1, 0, 0, 1, 0, 1, 0, 0, 1, 1, 1, 0, 0, 1, 0, 0, 0,\n",
              "       1, 1, 1, 0, 1, 1, 0, 0, 1, 1, 1, 0, 0, 1, 1, 1, 1, 0, 1, 1, 0, 1,\n",
              "       1, 1, 1, 1, 1, 1, 1, 0, 0, 0, 1, 0, 0, 1, 1, 1, 0, 0, 1, 0, 1, 0,\n",
              "       0, 1, 0, 0, 1, 1, 0, 1, 1, 0, 1, 1, 1, 1, 0, 1, 1, 1, 1, 1, 1, 1,\n",
              "       1, 1, 0, 1, 1, 1, 1, 0, 0, 1, 0, 1, 1, 0, 0, 1, 1, 0, 0, 1, 1, 1,\n",
              "       1, 0, 1, 1, 0, 0, 0, 1, 0, 1, 0, 1, 1, 1, 0, 1, 1, 0, 0, 1, 0, 0,\n",
              "       0, 0, 1, 0, 0, 0, 1, 0, 1, 0, 1, 1, 0, 1, 0, 0, 0, 0, 1, 1, 0, 0,\n",
              "       1, 1, 1, 0, 1, 1, 1, 1, 1, 0, 0, 1, 1, 0, 1, 1, 0, 0, 1, 0, 1, 1,\n",
              "       1, 1, 0, 1, 1, 1, 1, 1, 0, 1, 0, 0, 0, 0, 0, 0, 0, 0, 0, 0, 0, 0,\n",
              "       0, 0, 1, 1, 1, 1, 1, 1, 0, 1, 0, 1, 1, 0, 1, 1, 0, 1, 0, 0, 1, 1,\n",
              "       1, 1, 1, 1, 1, 1, 1, 1, 1, 1, 1, 0, 1, 1, 0, 1, 0, 1, 1, 1, 1, 1,\n",
              "       1, 1, 1, 1, 1, 1, 1, 1, 1, 0, 1, 1, 1, 0, 1, 0, 1, 1, 1, 1, 0, 0,\n",
              "       0, 1, 1, 1, 1, 0, 1, 0, 1, 0, 1, 1, 1, 0, 1, 1, 1, 1, 1, 1, 1, 0,\n",
              "       0, 0, 1, 1, 1, 1, 1, 1, 1, 1, 1, 1, 1, 0, 0, 1, 0, 0, 0, 1, 0, 0,\n",
              "       1, 1, 1, 1, 1, 0, 1, 1, 1, 1, 1, 0, 1, 1, 1, 0, 1, 1, 0, 0, 1, 1,\n",
              "       1, 1, 1, 1, 0, 1, 1, 1, 1, 1, 1, 1, 0, 1, 1, 1, 1, 1, 0, 1, 1, 0,\n",
              "       1, 1, 1, 1, 1, 1, 1, 1, 1, 1, 1, 1, 0, 1, 0, 0, 1, 0, 1, 1, 1, 1,\n",
              "       1, 0, 1, 1, 0, 1, 0, 1, 1, 0, 1, 0, 1, 1, 1, 1, 1, 1, 1, 1, 0, 0,\n",
              "       1, 1, 1, 1, 1, 1, 0, 1, 1, 1, 1, 1, 1, 1, 1, 1, 1, 0, 1, 1, 1, 1,\n",
              "       1, 1, 1, 0, 1, 0, 1, 1, 0, 1, 1, 1, 1, 1, 0, 0, 1, 0, 1, 0, 1, 1,\n",
              "       1, 1, 1, 0, 1, 1, 0, 1, 0, 1, 0, 0, 1, 1, 1, 0, 1, 1, 1, 1, 1, 1,\n",
              "       1, 1, 1, 1, 1, 0, 1, 0, 0, 1, 1, 1, 1, 1, 1, 1, 1, 1, 1, 1, 1, 1,\n",
              "       1, 1, 1, 1, 1, 1, 1, 1, 1, 1, 1, 1, 0, 0, 0, 0, 0, 0, 1])"
            ]
          },
          "metadata": {
            "tags": []
          },
          "execution_count": 4
        }
      ]
    },
    {
      "metadata": {
        "id": "fbldf2QR2PC9",
        "colab_type": "code",
        "outputId": "189f96fa-0dc4-4722-c6df-a87b64d9d620",
        "colab": {
          "base_uri": "https://localhost:8080/",
          "height": 347
        }
      },
      "cell_type": "code",
      "source": [
        "plt.scatter(X[:,0],X[:,1],c=y)\n",
        "plt.show()"
      ],
      "execution_count": 5,
      "outputs": [
        {
          "output_type": "display_data",
          "data": {
            "image/png": "[encoded data removed]",
            "text/plain": [
              "<Figure size 576x396 with 1 Axes>"
            ]
          },
          "metadata": {
            "tags": []
          }
        }
      ]
    },
    {
      "metadata": {
        "id": "gcDlYopYuyFj",
        "colab_type": "code",
        "colab": {}
      },
      "cell_type": "code",
      "source": [
        "# Train & Test\n",
        "Xtrain, Xtest, Ytrain, Ytest = train_test_split(X,y,test_size=0.3,random_state=420)"
      ],
      "execution_count": 0,
      "outputs": []
    },
    {
      "metadata": {
        "id": "xN7PeTv12QPC",
        "colab_type": "code",
        "outputId": "81f98b0c-28ae-42c9-deb3-ebe78b0a86d5",
        "colab": {
          "base_uri": "https://localhost:8080/",
          "height": 50
        }
      },
      "cell_type": "code",
      "source": [
        "## Stop here\n",
        "Kernel = [\"linear\",\"poly\",\"rbf\",\"sigmoid\"]\n",
        "# poly will cause an issue; use \"restart\"(Ctrl-M)\n",
        "\n",
        "for kernel in Kernel:\n",
        "    time0 = time()\n",
        "    clf = SVC(kernel = kernel\n",
        "              , gamma=\"auto\"\n",
        "              # , degree = 1\n",
        "              , cache_size=5000 # MB. If your NB has a big memory, then you can increase it.\n",
        "              ).fit(Xtrain,Ytrain)\n",
        "    \n",
        "    print(\"The accuracy under kernel %s is %f\" % (kernel,clf.score(Xtest,Ytest)))\n",
        "    print(datetime.datetime.fromtimestamp(time()-time0).strftime(\"%M:%S:%f\"))"
      ],
      "execution_count": 0,
      "outputs": [
        {
          "output_type": "stream",
          "text": [
            "The accuracy under kernel linear is 0.929825\n",
            "00:00:513518\n"
          ],
          "name": "stdout"
        }
      ]
    },
    {
      "metadata": {
        "id": "LtsJ3Gg6r72X",
        "colab_type": "code",
        "outputId": "bd77b5ad-53ea-48f0-8926-fc5a30314459",
        "colab": {
          "base_uri": "https://localhost:8080/",
          "height": 34
        }
      },
      "cell_type": "code",
      "source": [
        "## Current time\n",
        "now = time()\n",
        "now"
      ],
      "execution_count": 7,
      "outputs": [
        {
          "output_type": "execute_result",
          "data": {
            "text/plain": [
              "1550629613.1373155"
            ]
          },
          "metadata": {
            "tags": []
          },
          "execution_count": 7
        }
      ]
    },
    {
      "metadata": {
        "id": "Ufux7uL8sNMU",
        "colab_type": "code",
        "outputId": "7ec8420e-f3b3-494e-b928-486a995973be",
        "colab": {
          "base_uri": "https://localhost:8080/",
          "height": 34
        }
      },
      "cell_type": "code",
      "source": [
        "#\n",
        "#datetime.datetime.fromtimestamp(now.strftime(\"%Y-%m-%d, %H:%M:%S:%f\"))\n",
        "datetime.datetime.now().strftime(\"%Y-%m-%d %H:%M:%S:%f\")"
      ],
      "execution_count": 8,
      "outputs": [
        {
          "output_type": "execute_result",
          "data": {
            "text/plain": [
              "'2019-02-20 02:26:53:887349'"
            ]
          },
          "metadata": {
            "tags": []
          },
          "execution_count": 8
        }
      ]
    },
    {
      "metadata": {
        "id": "-SPLjjdM2ZT6",
        "colab_type": "code",
        "outputId": "4d8af07d-42fc-4564-f779-29044ae00cf1",
        "colab": {
          "base_uri": "https://localhost:8080/",
          "height": 118
        }
      },
      "cell_type": "code",
      "source": [
        "##\n",
        "Kernel = [\"linear\",\"rbf\",\"sigmoid\"]\n",
        "\n",
        "for kernel in Kernel:\n",
        "    time0 = time()\n",
        "    clf= SVC(kernel = kernel\n",
        "          , gamma=\"auto\"\n",
        "          # , degree = 1\n",
        "          , cache_size=5000\n",
        "          ).fit(Xtrain,Ytrain)\n",
        "    print(\"The accuracy under kernel %s is %f\" % (kernel,clf.score(Xtest,Ytest)))\n",
        "    print(datetime.datetime.fromtimestamp(time()-time0).strftime(\"%M:%S:%f\"))"
      ],
      "execution_count": 9,
      "outputs": [
        {
          "output_type": "stream",
          "text": [
            "The accuracy under kernel linear is 0.929825\n",
            "00:00:509391\n",
            "The accuracy under kernel rbf is 0.596491\n",
            "00:00:019642\n",
            "The accuracy under kernel sigmoid is 0.596491\n",
            "00:00:008622\n"
          ],
          "name": "stdout"
        }
      ]
    },
    {
      "metadata": {
        "id": "VLhcY8kyviHG",
        "colab_type": "code",
        "outputId": "3e418364-8d26-496c-bf41-fb6997b80525",
        "colab": {
          "base_uri": "https://localhost:8080/",
          "height": 151
        }
      },
      "cell_type": "code",
      "source": [
        "## Try poly with degree = 1\n",
        "## Stop here\n",
        "Kernel = [\"linear\",\"poly\",\"rbf\",\"sigmoid\"]\n",
        "# poly will cause an issue; use \"restart\"(Ctrl-M)\n",
        "\n",
        "for kernel in Kernel:\n",
        "    time0 = time()\n",
        "    clf = SVC(kernel = kernel\n",
        "              , gamma=\"auto\"\n",
        "              , degree = 1\n",
        "              , cache_size=5000 # MB. If your NB has a big memory, then you can increase it.\n",
        "              ).fit(Xtrain,Ytrain)\n",
        "    \n",
        "    print(\"The accuracy under kernel %s is %f\" % (kernel,clf.score(Xtest,Ytest)))\n",
        "    print(datetime.datetime.fromtimestamp(time()-time0).strftime(\"%M:%S:%f\"))"
      ],
      "execution_count": 10,
      "outputs": [
        {
          "output_type": "stream",
          "text": [
            "The accuracy under kernel linear is 0.929825\n",
            "00:00:483279\n",
            "The accuracy under kernel poly is 0.923977\n",
            "00:00:059914\n",
            "The accuracy under kernel rbf is 0.596491\n",
            "00:00:018739\n",
            "The accuracy under kernel sigmoid is 0.596491\n",
            "00:00:008513\n"
          ],
          "name": "stdout"
        }
      ]
    },
    {
      "metadata": {
        "id": "Qrci-m1JwcuZ",
        "colab_type": "code",
        "outputId": "9b09a406-750e-415b-9bce-cd806216aed5",
        "colab": {
          "base_uri": "https://localhost:8080/",
          "height": 935
        }
      },
      "cell_type": "code",
      "source": [
        "# Data variation is huge.\n",
        "import pandas as pd\n",
        "data = pd.DataFrame(X)\n",
        "data.describe([0.01,0.05,0.1,0.25,0.5,0.75,0.9,0.99]).T"
      ],
      "execution_count": 11,
      "outputs": [
        {
          "output_type": "execute_result",
          "data": {
            "text/html": [
              "<div>\n",
              "<style scoped>\n",
              "    .dataframe tbody tr th:only-of-type {\n",
              "        vertical-align: middle;\n",
              "    }\n",
              "\n",
              "    .dataframe tbody tr th {\n",
              "        vertical-align: top;\n",
              "    }\n",
              "\n",
              "    .dataframe thead th {\n",
              "        text-align: right;\n",
              "    }\n",
              "</style>\n",
              "<table border=\"1\" class=\"dataframe\">\n",
              "  <thead>\n",
              "    <tr style=\"text-align: right;\">\n",
              "      <th></th>\n",
              "      <th>count</th>\n",
              "      <th>mean</th>\n",
              "      <th>std</th>\n",
              "      <th>min</th>\n",
              "      <th>1%</th>\n",
              "      <th>5%</th>\n",
              "      <th>10%</th>\n",
              "      <th>25%</th>\n",
              "      <th>50%</th>\n",
              "      <th>75%</th>\n",
              "      <th>90%</th>\n",
              "      <th>99%</th>\n",
              "      <th>max</th>\n",
              "    </tr>\n",
              "  </thead>\n",
              "  <tbody>\n",
              "    <tr>\n",
              "      <th>0</th>\n",
              "      <td>569.0</td>\n",
              "      <td>14.127292</td>\n",
              "      <td>3.524049</td>\n",
              "      <td>6.981000</td>\n",
              "      <td>8.458360</td>\n",
              "      <td>9.529200</td>\n",
              "      <td>10.260000</td>\n",
              "      <td>11.700000</td>\n",
              "      <td>13.370000</td>\n",
              "      <td>15.780000</td>\n",
              "      <td>19.530000</td>\n",
              "      <td>24.371600</td>\n",
              "      <td>28.11000</td>\n",
              "    </tr>\n",
              "    <tr>\n",
              "      <th>1</th>\n",
              "      <td>569.0</td>\n",
              "      <td>19.289649</td>\n",
              "      <td>4.301036</td>\n",
              "      <td>9.710000</td>\n",
              "      <td>10.930400</td>\n",
              "      <td>13.088000</td>\n",
              "      <td>14.078000</td>\n",
              "      <td>16.170000</td>\n",
              "      <td>18.840000</td>\n",
              "      <td>21.800000</td>\n",
              "      <td>24.992000</td>\n",
              "      <td>30.652000</td>\n",
              "      <td>39.28000</td>\n",
              "    </tr>\n",
              "    <tr>\n",
              "      <th>2</th>\n",
              "      <td>569.0</td>\n",
              "      <td>91.969033</td>\n",
              "      <td>24.298981</td>\n",
              "      <td>43.790000</td>\n",
              "      <td>53.827600</td>\n",
              "      <td>60.496000</td>\n",
              "      <td>65.830000</td>\n",
              "      <td>75.170000</td>\n",
              "      <td>86.240000</td>\n",
              "      <td>104.100000</td>\n",
              "      <td>129.100000</td>\n",
              "      <td>165.724000</td>\n",
              "      <td>188.50000</td>\n",
              "    </tr>\n",
              "    <tr>\n",
              "      <th>3</th>\n",
              "      <td>569.0</td>\n",
              "      <td>654.889104</td>\n",
              "      <td>351.914129</td>\n",
              "      <td>143.500000</td>\n",
              "      <td>215.664000</td>\n",
              "      <td>275.780000</td>\n",
              "      <td>321.600000</td>\n",
              "      <td>420.300000</td>\n",
              "      <td>551.100000</td>\n",
              "      <td>782.700000</td>\n",
              "      <td>1177.400000</td>\n",
              "      <td>1786.600000</td>\n",
              "      <td>2501.00000</td>\n",
              "    </tr>\n",
              "    <tr>\n",
              "      <th>4</th>\n",
              "      <td>569.0</td>\n",
              "      <td>0.096360</td>\n",
              "      <td>0.014064</td>\n",
              "      <td>0.052630</td>\n",
              "      <td>0.068654</td>\n",
              "      <td>0.075042</td>\n",
              "      <td>0.079654</td>\n",
              "      <td>0.086370</td>\n",
              "      <td>0.095870</td>\n",
              "      <td>0.105300</td>\n",
              "      <td>0.114820</td>\n",
              "      <td>0.132888</td>\n",
              "      <td>0.16340</td>\n",
              "    </tr>\n",
              "    <tr>\n",
              "      <th>5</th>\n",
              "      <td>569.0</td>\n",
              "      <td>0.104341</td>\n",
              "      <td>0.052813</td>\n",
              "      <td>0.019380</td>\n",
              "      <td>0.033351</td>\n",
              "      <td>0.040660</td>\n",
              "      <td>0.049700</td>\n",
              "      <td>0.064920</td>\n",
              "      <td>0.092630</td>\n",
              "      <td>0.130400</td>\n",
              "      <td>0.175460</td>\n",
              "      <td>0.277192</td>\n",
              "      <td>0.34540</td>\n",
              "    </tr>\n",
              "    <tr>\n",
              "      <th>6</th>\n",
              "      <td>569.0</td>\n",
              "      <td>0.088799</td>\n",
              "      <td>0.079720</td>\n",
              "      <td>0.000000</td>\n",
              "      <td>0.000000</td>\n",
              "      <td>0.004983</td>\n",
              "      <td>0.013686</td>\n",
              "      <td>0.029560</td>\n",
              "      <td>0.061540</td>\n",
              "      <td>0.130700</td>\n",
              "      <td>0.203040</td>\n",
              "      <td>0.351688</td>\n",
              "      <td>0.42680</td>\n",
              "    </tr>\n",
              "    <tr>\n",
              "      <th>7</th>\n",
              "      <td>569.0</td>\n",
              "      <td>0.048919</td>\n",
              "      <td>0.038803</td>\n",
              "      <td>0.000000</td>\n",
              "      <td>0.000000</td>\n",
              "      <td>0.005621</td>\n",
              "      <td>0.011158</td>\n",
              "      <td>0.020310</td>\n",
              "      <td>0.033500</td>\n",
              "      <td>0.074000</td>\n",
              "      <td>0.100420</td>\n",
              "      <td>0.164208</td>\n",
              "      <td>0.20120</td>\n",
              "    </tr>\n",
              "    <tr>\n",
              "      <th>8</th>\n",
              "      <td>569.0</td>\n",
              "      <td>0.181162</td>\n",
              "      <td>0.027414</td>\n",
              "      <td>0.106000</td>\n",
              "      <td>0.129508</td>\n",
              "      <td>0.141500</td>\n",
              "      <td>0.149580</td>\n",
              "      <td>0.161900</td>\n",
              "      <td>0.179200</td>\n",
              "      <td>0.195700</td>\n",
              "      <td>0.214940</td>\n",
              "      <td>0.259564</td>\n",
              "      <td>0.30400</td>\n",
              "    </tr>\n",
              "    <tr>\n",
              "      <th>9</th>\n",
              "      <td>569.0</td>\n",
              "      <td>0.062798</td>\n",
              "      <td>0.007060</td>\n",
              "      <td>0.049960</td>\n",
              "      <td>0.051504</td>\n",
              "      <td>0.053926</td>\n",
              "      <td>0.055338</td>\n",
              "      <td>0.057700</td>\n",
              "      <td>0.061540</td>\n",
              "      <td>0.066120</td>\n",
              "      <td>0.072266</td>\n",
              "      <td>0.085438</td>\n",
              "      <td>0.09744</td>\n",
              "    </tr>\n",
              "    <tr>\n",
              "      <th>10</th>\n",
              "      <td>569.0</td>\n",
              "      <td>0.405172</td>\n",
              "      <td>0.277313</td>\n",
              "      <td>0.111500</td>\n",
              "      <td>0.119740</td>\n",
              "      <td>0.160100</td>\n",
              "      <td>0.183080</td>\n",
              "      <td>0.232400</td>\n",
              "      <td>0.324200</td>\n",
              "      <td>0.478900</td>\n",
              "      <td>0.748880</td>\n",
              "      <td>1.291320</td>\n",
              "      <td>2.87300</td>\n",
              "    </tr>\n",
              "    <tr>\n",
              "      <th>11</th>\n",
              "      <td>569.0</td>\n",
              "      <td>1.216853</td>\n",
              "      <td>0.551648</td>\n",
              "      <td>0.360200</td>\n",
              "      <td>0.410548</td>\n",
              "      <td>0.540140</td>\n",
              "      <td>0.640400</td>\n",
              "      <td>0.833900</td>\n",
              "      <td>1.108000</td>\n",
              "      <td>1.474000</td>\n",
              "      <td>1.909400</td>\n",
              "      <td>2.915440</td>\n",
              "      <td>4.88500</td>\n",
              "    </tr>\n",
              "    <tr>\n",
              "      <th>12</th>\n",
              "      <td>569.0</td>\n",
              "      <td>2.866059</td>\n",
              "      <td>2.021855</td>\n",
              "      <td>0.757000</td>\n",
              "      <td>0.953248</td>\n",
              "      <td>1.132800</td>\n",
              "      <td>1.280200</td>\n",
              "      <td>1.606000</td>\n",
              "      <td>2.287000</td>\n",
              "      <td>3.357000</td>\n",
              "      <td>5.123200</td>\n",
              "      <td>9.690040</td>\n",
              "      <td>21.98000</td>\n",
              "    </tr>\n",
              "    <tr>\n",
              "      <th>13</th>\n",
              "      <td>569.0</td>\n",
              "      <td>40.337079</td>\n",
              "      <td>45.491006</td>\n",
              "      <td>6.802000</td>\n",
              "      <td>8.514440</td>\n",
              "      <td>11.360000</td>\n",
              "      <td>13.160000</td>\n",
              "      <td>17.850000</td>\n",
              "      <td>24.530000</td>\n",
              "      <td>45.190000</td>\n",
              "      <td>91.314000</td>\n",
              "      <td>177.684000</td>\n",
              "      <td>542.20000</td>\n",
              "    </tr>\n",
              "    <tr>\n",
              "      <th>14</th>\n",
              "      <td>569.0</td>\n",
              "      <td>0.007041</td>\n",
              "      <td>0.003003</td>\n",
              "      <td>0.001713</td>\n",
              "      <td>0.003058</td>\n",
              "      <td>0.003690</td>\n",
              "      <td>0.004224</td>\n",
              "      <td>0.005169</td>\n",
              "      <td>0.006380</td>\n",
              "      <td>0.008146</td>\n",
              "      <td>0.010410</td>\n",
              "      <td>0.017258</td>\n",
              "      <td>0.03113</td>\n",
              "    </tr>\n",
              "    <tr>\n",
              "      <th>15</th>\n",
              "      <td>569.0</td>\n",
              "      <td>0.025478</td>\n",
              "      <td>0.017908</td>\n",
              "      <td>0.002252</td>\n",
              "      <td>0.004705</td>\n",
              "      <td>0.007892</td>\n",
              "      <td>0.009169</td>\n",
              "      <td>0.013080</td>\n",
              "      <td>0.020450</td>\n",
              "      <td>0.032450</td>\n",
              "      <td>0.047602</td>\n",
              "      <td>0.089872</td>\n",
              "      <td>0.13540</td>\n",
              "    </tr>\n",
              "    <tr>\n",
              "      <th>16</th>\n",
              "      <td>569.0</td>\n",
              "      <td>0.031894</td>\n",
              "      <td>0.030186</td>\n",
              "      <td>0.000000</td>\n",
              "      <td>0.000000</td>\n",
              "      <td>0.003253</td>\n",
              "      <td>0.007726</td>\n",
              "      <td>0.015090</td>\n",
              "      <td>0.025890</td>\n",
              "      <td>0.042050</td>\n",
              "      <td>0.058520</td>\n",
              "      <td>0.122292</td>\n",
              "      <td>0.39600</td>\n",
              "    </tr>\n",
              "    <tr>\n",
              "      <th>17</th>\n",
              "      <td>569.0</td>\n",
              "      <td>0.011796</td>\n",
              "      <td>0.006170</td>\n",
              "      <td>0.000000</td>\n",
              "      <td>0.000000</td>\n",
              "      <td>0.003831</td>\n",
              "      <td>0.005493</td>\n",
              "      <td>0.007638</td>\n",
              "      <td>0.010930</td>\n",
              "      <td>0.014710</td>\n",
              "      <td>0.018688</td>\n",
              "      <td>0.031194</td>\n",
              "      <td>0.05279</td>\n",
              "    </tr>\n",
              "    <tr>\n",
              "      <th>18</th>\n",
              "      <td>569.0</td>\n",
              "      <td>0.020542</td>\n",
              "      <td>0.008266</td>\n",
              "      <td>0.007882</td>\n",
              "      <td>0.010547</td>\n",
              "      <td>0.011758</td>\n",
              "      <td>0.013012</td>\n",
              "      <td>0.015160</td>\n",
              "      <td>0.018730</td>\n",
              "      <td>0.023480</td>\n",
              "      <td>0.030120</td>\n",
              "      <td>0.052208</td>\n",
              "      <td>0.07895</td>\n",
              "    </tr>\n",
              "    <tr>\n",
              "      <th>19</th>\n",
              "      <td>569.0</td>\n",
              "      <td>0.003795</td>\n",
              "      <td>0.002646</td>\n",
              "      <td>0.000895</td>\n",
              "      <td>0.001114</td>\n",
              "      <td>0.001522</td>\n",
              "      <td>0.001710</td>\n",
              "      <td>0.002248</td>\n",
              "      <td>0.003187</td>\n",
              "      <td>0.004558</td>\n",
              "      <td>0.006185</td>\n",
              "      <td>0.012650</td>\n",
              "      <td>0.02984</td>\n",
              "    </tr>\n",
              "    <tr>\n",
              "      <th>20</th>\n",
              "      <td>569.0</td>\n",
              "      <td>16.269190</td>\n",
              "      <td>4.833242</td>\n",
              "      <td>7.930000</td>\n",
              "      <td>9.207600</td>\n",
              "      <td>10.534000</td>\n",
              "      <td>11.234000</td>\n",
              "      <td>13.010000</td>\n",
              "      <td>14.970000</td>\n",
              "      <td>18.790000</td>\n",
              "      <td>23.682000</td>\n",
              "      <td>30.762800</td>\n",
              "      <td>36.04000</td>\n",
              "    </tr>\n",
              "    <tr>\n",
              "      <th>21</th>\n",
              "      <td>569.0</td>\n",
              "      <td>25.677223</td>\n",
              "      <td>6.146258</td>\n",
              "      <td>12.020000</td>\n",
              "      <td>15.200800</td>\n",
              "      <td>16.574000</td>\n",
              "      <td>17.800000</td>\n",
              "      <td>21.080000</td>\n",
              "      <td>25.410000</td>\n",
              "      <td>29.720000</td>\n",
              "      <td>33.646000</td>\n",
              "      <td>41.802400</td>\n",
              "      <td>49.54000</td>\n",
              "    </tr>\n",
              "    <tr>\n",
              "      <th>22</th>\n",
              "      <td>569.0</td>\n",
              "      <td>107.261213</td>\n",
              "      <td>33.602542</td>\n",
              "      <td>50.410000</td>\n",
              "      <td>58.270400</td>\n",
              "      <td>67.856000</td>\n",
              "      <td>72.178000</td>\n",
              "      <td>84.110000</td>\n",
              "      <td>97.660000</td>\n",
              "      <td>125.400000</td>\n",
              "      <td>157.740000</td>\n",
              "      <td>208.304000</td>\n",
              "      <td>251.20000</td>\n",
              "    </tr>\n",
              "    <tr>\n",
              "      <th>23</th>\n",
              "      <td>569.0</td>\n",
              "      <td>880.583128</td>\n",
              "      <td>569.356993</td>\n",
              "      <td>185.200000</td>\n",
              "      <td>256.192000</td>\n",
              "      <td>331.060000</td>\n",
              "      <td>384.720000</td>\n",
              "      <td>515.300000</td>\n",
              "      <td>686.500000</td>\n",
              "      <td>1084.000000</td>\n",
              "      <td>1673.000000</td>\n",
              "      <td>2918.160000</td>\n",
              "      <td>4254.00000</td>\n",
              "    </tr>\n",
              "    <tr>\n",
              "      <th>24</th>\n",
              "      <td>569.0</td>\n",
              "      <td>0.132369</td>\n",
              "      <td>0.022832</td>\n",
              "      <td>0.071170</td>\n",
              "      <td>0.087910</td>\n",
              "      <td>0.095734</td>\n",
              "      <td>0.102960</td>\n",
              "      <td>0.116600</td>\n",
              "      <td>0.131300</td>\n",
              "      <td>0.146000</td>\n",
              "      <td>0.161480</td>\n",
              "      <td>0.188908</td>\n",
              "      <td>0.22260</td>\n",
              "    </tr>\n",
              "    <tr>\n",
              "      <th>25</th>\n",
              "      <td>569.0</td>\n",
              "      <td>0.254265</td>\n",
              "      <td>0.157336</td>\n",
              "      <td>0.027290</td>\n",
              "      <td>0.050094</td>\n",
              "      <td>0.071196</td>\n",
              "      <td>0.093676</td>\n",
              "      <td>0.147200</td>\n",
              "      <td>0.211900</td>\n",
              "      <td>0.339100</td>\n",
              "      <td>0.447840</td>\n",
              "      <td>0.778644</td>\n",
              "      <td>1.05800</td>\n",
              "    </tr>\n",
              "    <tr>\n",
              "      <th>26</th>\n",
              "      <td>569.0</td>\n",
              "      <td>0.272188</td>\n",
              "      <td>0.208624</td>\n",
              "      <td>0.000000</td>\n",
              "      <td>0.000000</td>\n",
              "      <td>0.018360</td>\n",
              "      <td>0.045652</td>\n",
              "      <td>0.114500</td>\n",
              "      <td>0.226700</td>\n",
              "      <td>0.382900</td>\n",
              "      <td>0.571320</td>\n",
              "      <td>0.902380</td>\n",
              "      <td>1.25200</td>\n",
              "    </tr>\n",
              "    <tr>\n",
              "      <th>27</th>\n",
              "      <td>569.0</td>\n",
              "      <td>0.114606</td>\n",
              "      <td>0.065732</td>\n",
              "      <td>0.000000</td>\n",
              "      <td>0.000000</td>\n",
              "      <td>0.024286</td>\n",
              "      <td>0.038460</td>\n",
              "      <td>0.064930</td>\n",
              "      <td>0.099930</td>\n",
              "      <td>0.161400</td>\n",
              "      <td>0.208940</td>\n",
              "      <td>0.269216</td>\n",
              "      <td>0.29100</td>\n",
              "    </tr>\n",
              "    <tr>\n",
              "      <th>28</th>\n",
              "      <td>569.0</td>\n",
              "      <td>0.290076</td>\n",
              "      <td>0.061867</td>\n",
              "      <td>0.156500</td>\n",
              "      <td>0.176028</td>\n",
              "      <td>0.212700</td>\n",
              "      <td>0.226120</td>\n",
              "      <td>0.250400</td>\n",
              "      <td>0.282200</td>\n",
              "      <td>0.317900</td>\n",
              "      <td>0.360080</td>\n",
              "      <td>0.486908</td>\n",
              "      <td>0.66380</td>\n",
              "    </tr>\n",
              "    <tr>\n",
              "      <th>29</th>\n",
              "      <td>569.0</td>\n",
              "      <td>0.083946</td>\n",
              "      <td>0.018061</td>\n",
              "      <td>0.055040</td>\n",
              "      <td>0.058580</td>\n",
              "      <td>0.062558</td>\n",
              "      <td>0.065792</td>\n",
              "      <td>0.071460</td>\n",
              "      <td>0.080040</td>\n",
              "      <td>0.092080</td>\n",
              "      <td>0.106320</td>\n",
              "      <td>0.140628</td>\n",
              "      <td>0.20750</td>\n",
              "    </tr>\n",
              "  </tbody>\n",
              "</table>\n",
              "</div>"
            ],
            "text/plain": [
              "    count        mean         std         min          1%          5%  \\\n",
              "0   569.0   14.127292    3.524049    6.981000    8.458360    9.529200   \n",
              "1   569.0   19.289649    4.301036    9.710000   10.930400   13.088000   \n",
              "2   569.0   91.969033   24.298981   43.790000   53.827600   60.496000   \n",
              "3   569.0  654.889104  351.914129  143.500000  215.664000  275.780000   \n",
              "4   569.0    0.096360    0.014064    0.052630    0.068654    0.075042   \n",
              "5   569.0    0.104341    0.052813    0.019380    0.033351    0.040660   \n",
              "6   569.0    0.088799    0.079720    0.000000    0.000000    0.004983   \n",
              "7   569.0    0.048919    0.038803    0.000000    0.000000    0.005621   \n",
              "8   569.0    0.181162    0.027414    0.106000    0.129508    0.141500   \n",
              "9   569.0    0.062798    0.007060    0.049960    0.051504    0.053926   \n",
              "10  569.0    0.405172    0.277313    0.111500    0.119740    0.160100   \n",
              "11  569.0    1.216853    0.551648    0.360200    0.410548    0.540140   \n",
              "12  569.0    2.866059    2.021855    0.757000    0.953248    1.132800   \n",
              "13  569.0   40.337079   45.491006    6.802000    8.514440   11.360000   \n",
              "14  569.0    0.007041    0.003003    0.001713    0.003058    0.003690   \n",
              "15  569.0    0.025478    0.017908    0.002252    0.004705    0.007892   \n",
              "16  569.0    0.031894    0.030186    0.000000    0.000000    0.003253   \n",
              "17  569.0    0.011796    0.006170    0.000000    0.000000    0.003831   \n",
              "18  569.0    0.020542    0.008266    0.007882    0.010547    0.011758   \n",
              "19  569.0    0.003795    0.002646    0.000895    0.001114    0.001522   \n",
              "20  569.0   16.269190    4.833242    7.930000    9.207600   10.534000   \n",
              "21  569.0   25.677223    6.146258   12.020000   15.200800   16.574000   \n",
              "22  569.0  107.261213   33.602542   50.410000   58.270400   67.856000   \n",
              "23  569.0  880.583128  569.356993  185.200000  256.192000  331.060000   \n",
              "24  569.0    0.132369    0.022832    0.071170    0.087910    0.095734   \n",
              "25  569.0    0.254265    0.157336    0.027290    0.050094    0.071196   \n",
              "26  569.0    0.272188    0.208624    0.000000    0.000000    0.018360   \n",
              "27  569.0    0.114606    0.065732    0.000000    0.000000    0.024286   \n",
              "28  569.0    0.290076    0.061867    0.156500    0.176028    0.212700   \n",
              "29  569.0    0.083946    0.018061    0.055040    0.058580    0.062558   \n",
              "\n",
              "           10%         25%         50%          75%          90%          99%  \\\n",
              "0    10.260000   11.700000   13.370000    15.780000    19.530000    24.371600   \n",
              "1    14.078000   16.170000   18.840000    21.800000    24.992000    30.652000   \n",
              "2    65.830000   75.170000   86.240000   104.100000   129.100000   165.724000   \n",
              "3   321.600000  420.300000  551.100000   782.700000  1177.400000  1786.600000   \n",
              "4     0.079654    0.086370    0.095870     0.105300     0.114820     0.132888   \n",
              "5     0.049700    0.064920    0.092630     0.130400     0.175460     0.277192   \n",
              "6     0.013686    0.029560    0.061540     0.130700     0.203040     0.351688   \n",
              "7     0.011158    0.020310    0.033500     0.074000     0.100420     0.164208   \n",
              "8     0.149580    0.161900    0.179200     0.195700     0.214940     0.259564   \n",
              "9     0.055338    0.057700    0.061540     0.066120     0.072266     0.085438   \n",
              "10    0.183080    0.232400    0.324200     0.478900     0.748880     1.291320   \n",
              "11    0.640400    0.833900    1.108000     1.474000     1.909400     2.915440   \n",
              "12    1.280200    1.606000    2.287000     3.357000     5.123200     9.690040   \n",
              "13   13.160000   17.850000   24.530000    45.190000    91.314000   177.684000   \n",
              "14    0.004224    0.005169    0.006380     0.008146     0.010410     0.017258   \n",
              "15    0.009169    0.013080    0.020450     0.032450     0.047602     0.089872   \n",
              "16    0.007726    0.015090    0.025890     0.042050     0.058520     0.122292   \n",
              "17    0.005493    0.007638    0.010930     0.014710     0.018688     0.031194   \n",
              "18    0.013012    0.015160    0.018730     0.023480     0.030120     0.052208   \n",
              "19    0.001710    0.002248    0.003187     0.004558     0.006185     0.012650   \n",
              "20   11.234000   13.010000   14.970000    18.790000    23.682000    30.762800   \n",
              "21   17.800000   21.080000   25.410000    29.720000    33.646000    41.802400   \n",
              "22   72.178000   84.110000   97.660000   125.400000   157.740000   208.304000   \n",
              "23  384.720000  515.300000  686.500000  1084.000000  1673.000000  2918.160000   \n",
              "24    0.102960    0.116600    0.131300     0.146000     0.161480     0.188908   \n",
              "25    0.093676    0.147200    0.211900     0.339100     0.447840     0.778644   \n",
              "26    0.045652    0.114500    0.226700     0.382900     0.571320     0.902380   \n",
              "27    0.038460    0.064930    0.099930     0.161400     0.208940     0.269216   \n",
              "28    0.226120    0.250400    0.282200     0.317900     0.360080     0.486908   \n",
              "29    0.065792    0.071460    0.080040     0.092080     0.106320     0.140628   \n",
              "\n",
              "           max  \n",
              "0     28.11000  \n",
              "1     39.28000  \n",
              "2    188.50000  \n",
              "3   2501.00000  \n",
              "4      0.16340  \n",
              "5      0.34540  \n",
              "6      0.42680  \n",
              "7      0.20120  \n",
              "8      0.30400  \n",
              "9      0.09744  \n",
              "10     2.87300  \n",
              "11     4.88500  \n",
              "12    21.98000  \n",
              "13   542.20000  \n",
              "14     0.03113  \n",
              "15     0.13540  \n",
              "16     0.39600  \n",
              "17     0.05279  \n",
              "18     0.07895  \n",
              "19     0.02984  \n",
              "20    36.04000  \n",
              "21    49.54000  \n",
              "22   251.20000  \n",
              "23  4254.00000  \n",
              "24     0.22260  \n",
              "25     1.05800  \n",
              "26     1.25200  \n",
              "27     0.29100  \n",
              "28     0.66380  \n",
              "29     0.20750  "
            ]
          },
          "metadata": {
            "tags": []
          },
          "execution_count": 11
        }
      ]
    },
    {
      "metadata": {
        "id": "nheCzfUWxIvw",
        "colab_type": "code",
        "outputId": "d0fff03e-ca5a-402a-f869-17b3d50c8356",
        "colab": {
          "base_uri": "https://localhost:8080/",
          "height": 935
        }
      },
      "cell_type": "code",
      "source": [
        "# make data 0~1\n",
        "from sklearn.preprocessing import StandardScaler\n",
        "X = StandardScaler().fit_transform(X)\n",
        "data = pd.DataFrame(X)\n",
        "data.describe([0.01,0.05,0.1,0.25,0.5,0.75,0.9,0.99]).T"
      ],
      "execution_count": 12,
      "outputs": [
        {
          "output_type": "execute_result",
          "data": {
            "text/html": [
              "<div>\n",
              "<style scoped>\n",
              "    .dataframe tbody tr th:only-of-type {\n",
              "        vertical-align: middle;\n",
              "    }\n",
              "\n",
              "    .dataframe tbody tr th {\n",
              "        vertical-align: top;\n",
              "    }\n",
              "\n",
              "    .dataframe thead th {\n",
              "        text-align: right;\n",
              "    }\n",
              "</style>\n",
              "<table border=\"1\" class=\"dataframe\">\n",
              "  <thead>\n",
              "    <tr style=\"text-align: right;\">\n",
              "      <th></th>\n",
              "      <th>count</th>\n",
              "      <th>mean</th>\n",
              "      <th>std</th>\n",
              "      <th>min</th>\n",
              "      <th>1%</th>\n",
              "      <th>5%</th>\n",
              "      <th>10%</th>\n",
              "      <th>25%</th>\n",
              "      <th>50%</th>\n",
              "      <th>75%</th>\n",
              "      <th>90%</th>\n",
              "      <th>99%</th>\n",
              "      <th>max</th>\n",
              "    </tr>\n",
              "  </thead>\n",
              "  <tbody>\n",
              "    <tr>\n",
              "      <th>0</th>\n",
              "      <td>569.0</td>\n",
              "      <td>-3.162867e-15</td>\n",
              "      <td>1.00088</td>\n",
              "      <td>-2.029648</td>\n",
              "      <td>-1.610057</td>\n",
              "      <td>-1.305923</td>\n",
              "      <td>-1.098366</td>\n",
              "      <td>-0.689385</td>\n",
              "      <td>-0.215082</td>\n",
              "      <td>0.469393</td>\n",
              "      <td>1.534446</td>\n",
              "      <td>2.909529</td>\n",
              "      <td>3.971288</td>\n",
              "    </tr>\n",
              "    <tr>\n",
              "      <th>1</th>\n",
              "      <td>569.0</td>\n",
              "      <td>-6.530609e-15</td>\n",
              "      <td>1.00088</td>\n",
              "      <td>-2.229249</td>\n",
              "      <td>-1.945253</td>\n",
              "      <td>-1.443165</td>\n",
              "      <td>-1.212786</td>\n",
              "      <td>-0.725963</td>\n",
              "      <td>-0.104636</td>\n",
              "      <td>0.584176</td>\n",
              "      <td>1.326975</td>\n",
              "      <td>2.644095</td>\n",
              "      <td>4.651889</td>\n",
              "    </tr>\n",
              "    <tr>\n",
              "      <th>2</th>\n",
              "      <td>569.0</td>\n",
              "      <td>-7.078891e-16</td>\n",
              "      <td>1.00088</td>\n",
              "      <td>-1.984504</td>\n",
              "      <td>-1.571053</td>\n",
              "      <td>-1.296381</td>\n",
              "      <td>-1.076672</td>\n",
              "      <td>-0.691956</td>\n",
              "      <td>-0.235980</td>\n",
              "      <td>0.499677</td>\n",
              "      <td>1.529432</td>\n",
              "      <td>3.037982</td>\n",
              "      <td>3.976130</td>\n",
              "    </tr>\n",
              "    <tr>\n",
              "      <th>3</th>\n",
              "      <td>569.0</td>\n",
              "      <td>-8.799835e-16</td>\n",
              "      <td>1.00088</td>\n",
              "      <td>-1.454443</td>\n",
              "      <td>-1.249201</td>\n",
              "      <td>-1.078225</td>\n",
              "      <td>-0.947908</td>\n",
              "      <td>-0.667195</td>\n",
              "      <td>-0.295187</td>\n",
              "      <td>0.363507</td>\n",
              "      <td>1.486075</td>\n",
              "      <td>3.218702</td>\n",
              "      <td>5.250529</td>\n",
              "    </tr>\n",
              "    <tr>\n",
              "      <th>4</th>\n",
              "      <td>569.0</td>\n",
              "      <td>6.132177e-15</td>\n",
              "      <td>1.00088</td>\n",
              "      <td>-3.112085</td>\n",
              "      <td>-1.971730</td>\n",
              "      <td>-1.517125</td>\n",
              "      <td>-1.188910</td>\n",
              "      <td>-0.710963</td>\n",
              "      <td>-0.034891</td>\n",
              "      <td>0.636199</td>\n",
              "      <td>1.313694</td>\n",
              "      <td>2.599511</td>\n",
              "      <td>4.770911</td>\n",
              "    </tr>\n",
              "    <tr>\n",
              "      <th>5</th>\n",
              "      <td>569.0</td>\n",
              "      <td>-1.120369e-15</td>\n",
              "      <td>1.00088</td>\n",
              "      <td>-1.610136</td>\n",
              "      <td>-1.345369</td>\n",
              "      <td>-1.206849</td>\n",
              "      <td>-1.035527</td>\n",
              "      <td>-0.747086</td>\n",
              "      <td>-0.221940</td>\n",
              "      <td>0.493857</td>\n",
              "      <td>1.347811</td>\n",
              "      <td>3.275782</td>\n",
              "      <td>4.568425</td>\n",
              "    </tr>\n",
              "    <tr>\n",
              "      <th>6</th>\n",
              "      <td>569.0</td>\n",
              "      <td>-4.421380e-16</td>\n",
              "      <td>1.00088</td>\n",
              "      <td>-1.114873</td>\n",
              "      <td>-1.114873</td>\n",
              "      <td>-1.052316</td>\n",
              "      <td>-0.943046</td>\n",
              "      <td>-0.743748</td>\n",
              "      <td>-0.342240</td>\n",
              "      <td>0.526062</td>\n",
              "      <td>1.434288</td>\n",
              "      <td>3.300560</td>\n",
              "      <td>4.243589</td>\n",
              "    </tr>\n",
              "    <tr>\n",
              "      <th>7</th>\n",
              "      <td>569.0</td>\n",
              "      <td>9.732500e-16</td>\n",
              "      <td>1.00088</td>\n",
              "      <td>-1.261820</td>\n",
              "      <td>-1.261820</td>\n",
              "      <td>-1.116837</td>\n",
              "      <td>-0.974010</td>\n",
              "      <td>-0.737944</td>\n",
              "      <td>-0.397721</td>\n",
              "      <td>0.646935</td>\n",
              "      <td>1.328412</td>\n",
              "      <td>2.973759</td>\n",
              "      <td>3.927930</td>\n",
              "    </tr>\n",
              "    <tr>\n",
              "      <th>8</th>\n",
              "      <td>569.0</td>\n",
              "      <td>-1.971670e-15</td>\n",
              "      <td>1.00088</td>\n",
              "      <td>-2.744117</td>\n",
              "      <td>-1.885853</td>\n",
              "      <td>-1.448032</td>\n",
              "      <td>-1.153036</td>\n",
              "      <td>-0.703240</td>\n",
              "      <td>-0.071627</td>\n",
              "      <td>0.530779</td>\n",
              "      <td>1.233221</td>\n",
              "      <td>2.862418</td>\n",
              "      <td>4.484751</td>\n",
              "    </tr>\n",
              "    <tr>\n",
              "      <th>9</th>\n",
              "      <td>569.0</td>\n",
              "      <td>-1.453631e-15</td>\n",
              "      <td>1.00088</td>\n",
              "      <td>-1.819865</td>\n",
              "      <td>-1.600987</td>\n",
              "      <td>-1.257643</td>\n",
              "      <td>-1.057477</td>\n",
              "      <td>-0.722639</td>\n",
              "      <td>-0.178279</td>\n",
              "      <td>0.470983</td>\n",
              "      <td>1.342243</td>\n",
              "      <td>3.209454</td>\n",
              "      <td>4.910919</td>\n",
              "    </tr>\n",
              "    <tr>\n",
              "      <th>10</th>\n",
              "      <td>569.0</td>\n",
              "      <td>-9.076415e-16</td>\n",
              "      <td>1.00088</td>\n",
              "      <td>-1.059924</td>\n",
              "      <td>-1.030184</td>\n",
              "      <td>-0.884517</td>\n",
              "      <td>-0.801577</td>\n",
              "      <td>-0.623571</td>\n",
              "      <td>-0.292245</td>\n",
              "      <td>0.266100</td>\n",
              "      <td>1.240514</td>\n",
              "      <td>3.198294</td>\n",
              "      <td>8.906909</td>\n",
              "    </tr>\n",
              "    <tr>\n",
              "      <th>11</th>\n",
              "      <td>569.0</td>\n",
              "      <td>-8.853492e-16</td>\n",
              "      <td>1.00088</td>\n",
              "      <td>-1.554264</td>\n",
              "      <td>-1.462915</td>\n",
              "      <td>-1.227791</td>\n",
              "      <td>-1.045885</td>\n",
              "      <td>-0.694809</td>\n",
              "      <td>-0.197498</td>\n",
              "      <td>0.466552</td>\n",
              "      <td>1.256518</td>\n",
              "      <td>3.081820</td>\n",
              "      <td>6.655279</td>\n",
              "    </tr>\n",
              "    <tr>\n",
              "      <th>12</th>\n",
              "      <td>569.0</td>\n",
              "      <td>1.773674e-15</td>\n",
              "      <td>1.00088</td>\n",
              "      <td>-1.044049</td>\n",
              "      <td>-0.946900</td>\n",
              "      <td>-0.858016</td>\n",
              "      <td>-0.785049</td>\n",
              "      <td>-0.623768</td>\n",
              "      <td>-0.286652</td>\n",
              "      <td>0.243031</td>\n",
              "      <td>1.117354</td>\n",
              "      <td>3.378079</td>\n",
              "      <td>9.461986</td>\n",
              "    </tr>\n",
              "    <tr>\n",
              "      <th>13</th>\n",
              "      <td>569.0</td>\n",
              "      <td>-8.291551e-16</td>\n",
              "      <td>1.00088</td>\n",
              "      <td>-0.737829</td>\n",
              "      <td>-0.700152</td>\n",
              "      <td>-0.637545</td>\n",
              "      <td>-0.597942</td>\n",
              "      <td>-0.494754</td>\n",
              "      <td>-0.347783</td>\n",
              "      <td>0.106773</td>\n",
              "      <td>1.121579</td>\n",
              "      <td>3.021867</td>\n",
              "      <td>11.041842</td>\n",
              "    </tr>\n",
              "    <tr>\n",
              "      <th>14</th>\n",
              "      <td>569.0</td>\n",
              "      <td>-7.541809e-16</td>\n",
              "      <td>1.00088</td>\n",
              "      <td>-1.776065</td>\n",
              "      <td>-1.327593</td>\n",
              "      <td>-1.116972</td>\n",
              "      <td>-0.939031</td>\n",
              "      <td>-0.624018</td>\n",
              "      <td>-0.220335</td>\n",
              "      <td>0.368355</td>\n",
              "      <td>1.123053</td>\n",
              "      <td>3.405812</td>\n",
              "      <td>8.029999</td>\n",
              "    </tr>\n",
              "    <tr>\n",
              "      <th>15</th>\n",
              "      <td>569.0</td>\n",
              "      <td>-3.921877e-16</td>\n",
              "      <td>1.00088</td>\n",
              "      <td>-1.298098</td>\n",
              "      <td>-1.160988</td>\n",
              "      <td>-0.982870</td>\n",
              "      <td>-0.911510</td>\n",
              "      <td>-0.692926</td>\n",
              "      <td>-0.281020</td>\n",
              "      <td>0.389654</td>\n",
              "      <td>1.236492</td>\n",
              "      <td>3.598943</td>\n",
              "      <td>6.143482</td>\n",
              "    </tr>\n",
              "    <tr>\n",
              "      <th>16</th>\n",
              "      <td>569.0</td>\n",
              "      <td>7.917900e-16</td>\n",
              "      <td>1.00088</td>\n",
              "      <td>-1.057501</td>\n",
              "      <td>-1.057501</td>\n",
              "      <td>-0.949654</td>\n",
              "      <td>-0.801336</td>\n",
              "      <td>-0.557161</td>\n",
              "      <td>-0.199065</td>\n",
              "      <td>0.336752</td>\n",
              "      <td>0.882848</td>\n",
              "      <td>2.997338</td>\n",
              "      <td>12.072680</td>\n",
              "    </tr>\n",
              "    <tr>\n",
              "      <th>17</th>\n",
              "      <td>569.0</td>\n",
              "      <td>-2.739461e-16</td>\n",
              "      <td>1.00088</td>\n",
              "      <td>-1.913447</td>\n",
              "      <td>-1.913447</td>\n",
              "      <td>-1.292055</td>\n",
              "      <td>-1.022462</td>\n",
              "      <td>-0.674490</td>\n",
              "      <td>-0.140496</td>\n",
              "      <td>0.472657</td>\n",
              "      <td>1.117927</td>\n",
              "      <td>3.146456</td>\n",
              "      <td>6.649601</td>\n",
              "    </tr>\n",
              "    <tr>\n",
              "      <th>18</th>\n",
              "      <td>569.0</td>\n",
              "      <td>-3.108234e-16</td>\n",
              "      <td>1.00088</td>\n",
              "      <td>-1.532890</td>\n",
              "      <td>-1.210240</td>\n",
              "      <td>-1.063590</td>\n",
              "      <td>-0.911757</td>\n",
              "      <td>-0.651681</td>\n",
              "      <td>-0.219430</td>\n",
              "      <td>0.355692</td>\n",
              "      <td>1.159654</td>\n",
              "      <td>3.834036</td>\n",
              "      <td>7.071917</td>\n",
              "    </tr>\n",
              "    <tr>\n",
              "      <th>19</th>\n",
              "      <td>569.0</td>\n",
              "      <td>-3.366766e-16</td>\n",
              "      <td>1.00088</td>\n",
              "      <td>-1.096968</td>\n",
              "      <td>-1.014237</td>\n",
              "      <td>-0.859880</td>\n",
              "      <td>-0.788466</td>\n",
              "      <td>-0.585118</td>\n",
              "      <td>-0.229940</td>\n",
              "      <td>0.288642</td>\n",
              "      <td>0.904208</td>\n",
              "      <td>3.349301</td>\n",
              "      <td>9.851593</td>\n",
              "    </tr>\n",
              "    <tr>\n",
              "      <th>20</th>\n",
              "      <td>569.0</td>\n",
              "      <td>-2.333224e-15</td>\n",
              "      <td>1.00088</td>\n",
              "      <td>-1.726901</td>\n",
              "      <td>-1.462332</td>\n",
              "      <td>-1.187658</td>\n",
              "      <td>-1.042700</td>\n",
              "      <td>-0.674921</td>\n",
              "      <td>-0.269040</td>\n",
              "      <td>0.522016</td>\n",
              "      <td>1.535063</td>\n",
              "      <td>3.001373</td>\n",
              "      <td>4.094189</td>\n",
              "    </tr>\n",
              "    <tr>\n",
              "      <th>21</th>\n",
              "      <td>569.0</td>\n",
              "      <td>1.763674e-15</td>\n",
              "      <td>1.00088</td>\n",
              "      <td>-2.223994</td>\n",
              "      <td>-1.706020</td>\n",
              "      <td>-1.482403</td>\n",
              "      <td>-1.282757</td>\n",
              "      <td>-0.748629</td>\n",
              "      <td>-0.043516</td>\n",
              "      <td>0.658341</td>\n",
              "      <td>1.297666</td>\n",
              "      <td>2.625885</td>\n",
              "      <td>3.885905</td>\n",
              "    </tr>\n",
              "    <tr>\n",
              "      <th>22</th>\n",
              "      <td>569.0</td>\n",
              "      <td>-1.198026e-15</td>\n",
              "      <td>1.00088</td>\n",
              "      <td>-1.693361</td>\n",
              "      <td>-1.459232</td>\n",
              "      <td>-1.173717</td>\n",
              "      <td>-1.044983</td>\n",
              "      <td>-0.689578</td>\n",
              "      <td>-0.285980</td>\n",
              "      <td>0.540279</td>\n",
              "      <td>1.503553</td>\n",
              "      <td>3.009644</td>\n",
              "      <td>4.287337</td>\n",
              "    </tr>\n",
              "    <tr>\n",
              "      <th>23</th>\n",
              "      <td>569.0</td>\n",
              "      <td>5.049661e-16</td>\n",
              "      <td>1.00088</td>\n",
              "      <td>-1.222423</td>\n",
              "      <td>-1.097625</td>\n",
              "      <td>-0.966014</td>\n",
              "      <td>-0.871684</td>\n",
              "      <td>-0.642136</td>\n",
              "      <td>-0.341181</td>\n",
              "      <td>0.357589</td>\n",
              "      <td>1.393000</td>\n",
              "      <td>3.581882</td>\n",
              "      <td>5.930172</td>\n",
              "    </tr>\n",
              "    <tr>\n",
              "      <th>24</th>\n",
              "      <td>569.0</td>\n",
              "      <td>-5.213170e-15</td>\n",
              "      <td>1.00088</td>\n",
              "      <td>-2.682695</td>\n",
              "      <td>-1.948882</td>\n",
              "      <td>-1.605910</td>\n",
              "      <td>-1.289152</td>\n",
              "      <td>-0.691230</td>\n",
              "      <td>-0.046843</td>\n",
              "      <td>0.597545</td>\n",
              "      <td>1.276124</td>\n",
              "      <td>2.478455</td>\n",
              "      <td>3.955374</td>\n",
              "    </tr>\n",
              "    <tr>\n",
              "      <th>25</th>\n",
              "      <td>569.0</td>\n",
              "      <td>-2.174788e-15</td>\n",
              "      <td>1.00088</td>\n",
              "      <td>-1.443878</td>\n",
              "      <td>-1.298811</td>\n",
              "      <td>-1.164575</td>\n",
              "      <td>-1.021571</td>\n",
              "      <td>-0.681083</td>\n",
              "      <td>-0.269501</td>\n",
              "      <td>0.539669</td>\n",
              "      <td>1.231407</td>\n",
              "      <td>3.335783</td>\n",
              "      <td>5.112877</td>\n",
              "    </tr>\n",
              "    <tr>\n",
              "      <th>26</th>\n",
              "      <td>569.0</td>\n",
              "      <td>6.856456e-16</td>\n",
              "      <td>1.00088</td>\n",
              "      <td>-1.305831</td>\n",
              "      <td>-1.305831</td>\n",
              "      <td>-1.217748</td>\n",
              "      <td>-1.086814</td>\n",
              "      <td>-0.756514</td>\n",
              "      <td>-0.218232</td>\n",
              "      <td>0.531141</td>\n",
              "      <td>1.435090</td>\n",
              "      <td>3.023359</td>\n",
              "      <td>4.700669</td>\n",
              "    </tr>\n",
              "    <tr>\n",
              "      <th>27</th>\n",
              "      <td>569.0</td>\n",
              "      <td>-1.412656e-16</td>\n",
              "      <td>1.00088</td>\n",
              "      <td>-1.745063</td>\n",
              "      <td>-1.745063</td>\n",
              "      <td>-1.375270</td>\n",
              "      <td>-1.159448</td>\n",
              "      <td>-0.756400</td>\n",
              "      <td>-0.223469</td>\n",
              "      <td>0.712510</td>\n",
              "      <td>1.436382</td>\n",
              "      <td>2.354181</td>\n",
              "      <td>2.685877</td>\n",
              "    </tr>\n",
              "    <tr>\n",
              "      <th>28</th>\n",
              "      <td>569.0</td>\n",
              "      <td>-2.289567e-15</td>\n",
              "      <td>1.00088</td>\n",
              "      <td>-2.160960</td>\n",
              "      <td>-1.845039</td>\n",
              "      <td>-1.251767</td>\n",
              "      <td>-1.034661</td>\n",
              "      <td>-0.641864</td>\n",
              "      <td>-0.127409</td>\n",
              "      <td>0.450138</td>\n",
              "      <td>1.132518</td>\n",
              "      <td>3.184317</td>\n",
              "      <td>6.046041</td>\n",
              "    </tr>\n",
              "    <tr>\n",
              "      <th>29</th>\n",
              "      <td>569.0</td>\n",
              "      <td>2.575171e-15</td>\n",
              "      <td>1.00088</td>\n",
              "      <td>-1.601839</td>\n",
              "      <td>-1.405690</td>\n",
              "      <td>-1.185223</td>\n",
              "      <td>-1.006009</td>\n",
              "      <td>-0.691912</td>\n",
              "      <td>-0.216444</td>\n",
              "      <td>0.450762</td>\n",
              "      <td>1.239884</td>\n",
              "      <td>3.141089</td>\n",
              "      <td>6.846856</td>\n",
              "    </tr>\n",
              "  </tbody>\n",
              "</table>\n",
              "</div>"
            ],
            "text/plain": [
              "    count          mean      std       min        1%        5%       10%  \\\n",
              "0   569.0 -3.162867e-15  1.00088 -2.029648 -1.610057 -1.305923 -1.098366   \n",
              "1   569.0 -6.530609e-15  1.00088 -2.229249 -1.945253 -1.443165 -1.212786   \n",
              "2   569.0 -7.078891e-16  1.00088 -1.984504 -1.571053 -1.296381 -1.076672   \n",
              "3   569.0 -8.799835e-16  1.00088 -1.454443 -1.249201 -1.078225 -0.947908   \n",
              "4   569.0  6.132177e-15  1.00088 -3.112085 -1.971730 -1.517125 -1.188910   \n",
              "5   569.0 -1.120369e-15  1.00088 -1.610136 -1.345369 -1.206849 -1.035527   \n",
              "6   569.0 -4.421380e-16  1.00088 -1.114873 -1.114873 -1.052316 -0.943046   \n",
              "7   569.0  9.732500e-16  1.00088 -1.261820 -1.261820 -1.116837 -0.974010   \n",
              "8   569.0 -1.971670e-15  1.00088 -2.744117 -1.885853 -1.448032 -1.153036   \n",
              "9   569.0 -1.453631e-15  1.00088 -1.819865 -1.600987 -1.257643 -1.057477   \n",
              "10  569.0 -9.076415e-16  1.00088 -1.059924 -1.030184 -0.884517 -0.801577   \n",
              "11  569.0 -8.853492e-16  1.00088 -1.554264 -1.462915 -1.227791 -1.045885   \n",
              "12  569.0  1.773674e-15  1.00088 -1.044049 -0.946900 -0.858016 -0.785049   \n",
              "13  569.0 -8.291551e-16  1.00088 -0.737829 -0.700152 -0.637545 -0.597942   \n",
              "14  569.0 -7.541809e-16  1.00088 -1.776065 -1.327593 -1.116972 -0.939031   \n",
              "15  569.0 -3.921877e-16  1.00088 -1.298098 -1.160988 -0.982870 -0.911510   \n",
              "16  569.0  7.917900e-16  1.00088 -1.057501 -1.057501 -0.949654 -0.801336   \n",
              "17  569.0 -2.739461e-16  1.00088 -1.913447 -1.913447 -1.292055 -1.022462   \n",
              "18  569.0 -3.108234e-16  1.00088 -1.532890 -1.210240 -1.063590 -0.911757   \n",
              "19  569.0 -3.366766e-16  1.00088 -1.096968 -1.014237 -0.859880 -0.788466   \n",
              "20  569.0 -2.333224e-15  1.00088 -1.726901 -1.462332 -1.187658 -1.042700   \n",
              "21  569.0  1.763674e-15  1.00088 -2.223994 -1.706020 -1.482403 -1.282757   \n",
              "22  569.0 -1.198026e-15  1.00088 -1.693361 -1.459232 -1.173717 -1.044983   \n",
              "23  569.0  5.049661e-16  1.00088 -1.222423 -1.097625 -0.966014 -0.871684   \n",
              "24  569.0 -5.213170e-15  1.00088 -2.682695 -1.948882 -1.605910 -1.289152   \n",
              "25  569.0 -2.174788e-15  1.00088 -1.443878 -1.298811 -1.164575 -1.021571   \n",
              "26  569.0  6.856456e-16  1.00088 -1.305831 -1.305831 -1.217748 -1.086814   \n",
              "27  569.0 -1.412656e-16  1.00088 -1.745063 -1.745063 -1.375270 -1.159448   \n",
              "28  569.0 -2.289567e-15  1.00088 -2.160960 -1.845039 -1.251767 -1.034661   \n",
              "29  569.0  2.575171e-15  1.00088 -1.601839 -1.405690 -1.185223 -1.006009   \n",
              "\n",
              "         25%       50%       75%       90%       99%        max  \n",
              "0  -0.689385 -0.215082  0.469393  1.534446  2.909529   3.971288  \n",
              "1  -0.725963 -0.104636  0.584176  1.326975  2.644095   4.651889  \n",
              "2  -0.691956 -0.235980  0.499677  1.529432  3.037982   3.976130  \n",
              "3  -0.667195 -0.295187  0.363507  1.486075  3.218702   5.250529  \n",
              "4  -0.710963 -0.034891  0.636199  1.313694  2.599511   4.770911  \n",
              "5  -0.747086 -0.221940  0.493857  1.347811  3.275782   4.568425  \n",
              "6  -0.743748 -0.342240  0.526062  1.434288  3.300560   4.243589  \n",
              "7  -0.737944 -0.397721  0.646935  1.328412  2.973759   3.927930  \n",
              "8  -0.703240 -0.071627  0.530779  1.233221  2.862418   4.484751  \n",
              "9  -0.722639 -0.178279  0.470983  1.342243  3.209454   4.910919  \n",
              "10 -0.623571 -0.292245  0.266100  1.240514  3.198294   8.906909  \n",
              "11 -0.694809 -0.197498  0.466552  1.256518  3.081820   6.655279  \n",
              "12 -0.623768 -0.286652  0.243031  1.117354  3.378079   9.461986  \n",
              "13 -0.494754 -0.347783  0.106773  1.121579  3.021867  11.041842  \n",
              "14 -0.624018 -0.220335  0.368355  1.123053  3.405812   8.029999  \n",
              "15 -0.692926 -0.281020  0.389654  1.236492  3.598943   6.143482  \n",
              "16 -0.557161 -0.199065  0.336752  0.882848  2.997338  12.072680  \n",
              "17 -0.674490 -0.140496  0.472657  1.117927  3.146456   6.649601  \n",
              "18 -0.651681 -0.219430  0.355692  1.159654  3.834036   7.071917  \n",
              "19 -0.585118 -0.229940  0.288642  0.904208  3.349301   9.851593  \n",
              "20 -0.674921 -0.269040  0.522016  1.535063  3.001373   4.094189  \n",
              "21 -0.748629 -0.043516  0.658341  1.297666  2.625885   3.885905  \n",
              "22 -0.689578 -0.285980  0.540279  1.503553  3.009644   4.287337  \n",
              "23 -0.642136 -0.341181  0.357589  1.393000  3.581882   5.930172  \n",
              "24 -0.691230 -0.046843  0.597545  1.276124  2.478455   3.955374  \n",
              "25 -0.681083 -0.269501  0.539669  1.231407  3.335783   5.112877  \n",
              "26 -0.756514 -0.218232  0.531141  1.435090  3.023359   4.700669  \n",
              "27 -0.756400 -0.223469  0.712510  1.436382  2.354181   2.685877  \n",
              "28 -0.641864 -0.127409  0.450138  1.132518  3.184317   6.046041  \n",
              "29 -0.691912 -0.216444  0.450762  1.239884  3.141089   6.846856  "
            ]
          },
          "metadata": {
            "tags": []
          },
          "execution_count": 12
        }
      ]
    },
    {
      "metadata": {
        "id": "Mm81EIHb3Nnq",
        "colab_type": "code",
        "outputId": "7a9df64b-f176-49c3-d240-c8738be1e88a",
        "colab": {
          "base_uri": "https://localhost:8080/",
          "height": 151
        }
      },
      "cell_type": "code",
      "source": [
        "##\n",
        "Xtrain, Xtest, Ytrain, Ytest = train_test_split(X,y,test_size=0.3,random_state=420)\n",
        "Kernel = [\"linear\",\"poly\",\"rbf\",\"sigmoid\"]\n",
        "for kernel in Kernel:\n",
        "      time0 = time()\n",
        "      clf= SVC(kernel = kernel\n",
        "            , gamma=\"auto\"\n",
        "            , degree = 1\n",
        "            , cache_size=5000\n",
        "            ).fit(Xtrain,Ytrain)\n",
        "      print(\"The accuracy under kernel %s is %f\" % (kernel,clf.score(Xtest,Ytest)))\n",
        "      print(datetime.datetime.fromtimestamp(time()-time0).strftime(\"%M:%S:%f\"))"
      ],
      "execution_count": 13,
      "outputs": [
        {
          "output_type": "stream",
          "text": [
            "The accuracy under kernel linear is 0.976608\n",
            "00:00:004555\n",
            "The accuracy under kernel poly is 0.964912\n",
            "00:00:005421\n",
            "The accuracy under kernel rbf is 0.970760\n",
            "00:00:007458\n",
            "The accuracy under kernel sigmoid is 0.953216\n",
            "00:00:005616\n"
          ],
          "name": "stdout"
        }
      ]
    },
    {
      "metadata": {
        "id": "jXmpq-65xifI",
        "colab_type": "code",
        "outputId": "5c435dcc-c8f7-4cbf-d407-f7f005203335",
        "colab": {
          "base_uri": "https://localhost:8080/",
          "height": 364
        }
      },
      "cell_type": "code",
      "source": [
        "## SVM Sample-3\n",
        "score = []\n",
        "gamma_range = np.logspace(-10, 1, 50) #返回在对数刻度上均匀间隔的数字\n",
        "for i in gamma_range:\n",
        "    clf = SVC(kernel=\"rbf\",gamma = i,cache_size=5000).fit(Xtrain,Ytrain)\n",
        "    score.append(clf.score(Xtest,Ytest))\n",
        "print(max(score), gamma_range[score.index(max(score))])\n",
        "plt.plot(gamma_range,score)\n",
        "plt.show()"
      ],
      "execution_count": 14,
      "outputs": [
        {
          "output_type": "stream",
          "text": [
            "0.9766081871345029 0.012067926406393264\n"
          ],
          "name": "stdout"
        },
        {
          "output_type": "display_data",
          "data": {
            "image/png": "[encoded data removed]",
            "text/plain": [
              "<Figure size 576x396 with 1 Axes>"
            ]
          },
          "metadata": {
            "tags": []
          }
        }
      ]
    },
    {
      "metadata": {
        "id": "FtrAfw3HyffB",
        "colab_type": "code",
        "outputId": "098cd706-9934-48ce-85c0-639c8db3dffc",
        "colab": {
          "base_uri": "https://localhost:8080/",
          "height": 235
        }
      },
      "cell_type": "code",
      "source": [
        "##\n",
        "np.logspace(-10, 1, 50)"
      ],
      "execution_count": 15,
      "outputs": [
        {
          "output_type": "execute_result",
          "data": {
            "text/plain": [
              "array([1.00000000e-10, 1.67683294e-10, 2.81176870e-10, 4.71486636e-10,\n",
              "       7.90604321e-10, 1.32571137e-09, 2.22299648e-09, 3.72759372e-09,\n",
              "       6.25055193e-09, 1.04811313e-08, 1.75751062e-08, 2.94705170e-08,\n",
              "       4.94171336e-08, 8.28642773e-08, 1.38949549e-07, 2.32995181e-07,\n",
              "       3.90693994e-07, 6.55128557e-07, 1.09854114e-06, 1.84206997e-06,\n",
              "       3.08884360e-06, 5.17947468e-06, 8.68511374e-06, 1.45634848e-05,\n",
              "       2.44205309e-05, 4.09491506e-05, 6.86648845e-05, 1.15139540e-04,\n",
              "       1.93069773e-04, 3.23745754e-04, 5.42867544e-04, 9.10298178e-04,\n",
              "       1.52641797e-03, 2.55954792e-03, 4.29193426e-03, 7.19685673e-03,\n",
              "       1.20679264e-02, 2.02358965e-02, 3.39322177e-02, 5.68986603e-02,\n",
              "       9.54095476e-02, 1.59985872e-01, 2.68269580e-01, 4.49843267e-01,\n",
              "       7.54312006e-01, 1.26485522e+00, 2.12095089e+00, 3.55648031e+00,\n",
              "       5.96362332e+00, 1.00000000e+01])"
            ]
          },
          "metadata": {
            "tags": []
          },
          "execution_count": 15
        }
      ]
    },
    {
      "metadata": {
        "id": "cSHPMZEFynla",
        "colab_type": "code",
        "colab": {
          "base_uri": "https://localhost:8080/",
          "height": 269
        },
        "outputId": "23055c51-55f9-4429-8453-1786ea443cb1"
      },
      "cell_type": "code",
      "source": [
        "##\n",
        "from sklearn.model_selection import StratifiedShuffleSplit\n",
        "from sklearn.model_selection import GridSearchCV\n",
        "\n",
        "time0 = time()\n",
        "\n",
        "gamma_range = np.logspace(-10,1,20)\n",
        "coef0_range = np.linspace(0,5,10)\n",
        "\n",
        "param_grid = dict(gamma = gamma_range,coef0 = coef0_range)\n",
        "\n",
        "cv = StratifiedShuffleSplit(n_splits=5, test_size=0.3, random_state=420)\n",
        "grid = GridSearchCV(SVC(kernel = \"poly\",degree=1,cache_size=5000),param_grid=param_grid, cv=cv)\n",
        "grid.fit(X, y)"
      ],
      "execution_count": 20,
      "outputs": [
        {
          "output_type": "execute_result",
          "data": {
            "text/plain": [
              "GridSearchCV(cv=StratifiedShuffleSplit(n_splits=5, random_state=420, test_size=0.3,\n",
              "            train_size=None),\n",
              "       error_score='raise-deprecating',\n",
              "       estimator=SVC(C=1.0, cache_size=5000, class_weight=None, coef0=0.0,\n",
              "  decision_function_shape='ovr', degree=1, gamma='auto_deprecated',\n",
              "  kernel='poly', max_iter=-1, probability=False, random_state=None,\n",
              "  shrinking=True, tol=0.001, verbose=False),\n",
              "       fit_params=None, iid='warn', n_jobs=None,\n",
              "       param_grid={'gamma': array([1.00000e-10, 3.79269e-10, 1.43845e-09, 5.45559e-09, 2.06914e-08,\n",
              "       7.84760e-08, 2.97635e-07, 1.12884e-06, 4.28133e-06, 1.62378e-05,\n",
              "       6.15848e-05, 2.33572e-04, 8.85867e-04, 3.35982e-03, 1.27427e-02,\n",
              "       4.83293e-02, 1.83298e-01, 6.95193e-01, 2.63665e+00, 1.00000e+01]), 'coef0': array([0.     , 0.55556, 1.11111, 1.66667, 2.22222, 2.77778, 3.33333,\n",
              "       3.88889, 4.44444, 5.     ])},\n",
              "       pre_dispatch='2*n_jobs', refit=True, return_train_score='warn',\n",
              "       scoring=None, verbose=0)"
            ]
          },
          "metadata": {
            "tags": []
          },
          "execution_count": 20
        }
      ]
    },
    {
      "metadata": {
        "id": "pG-o4-k7vBfX",
        "colab_type": "code",
        "colab": {
          "base_uri": "https://localhost:8080/",
          "height": 50
        },
        "outputId": "28a34c8f-ae63-4042-eab6-e648f4ec9683"
      },
      "cell_type": "code",
      "source": [
        "##\n",
        "print(\"The best parameters are %s with a score of %0.5f\" % (grid.best_params_,grid.best_score_))\n",
        "print(datetime.datetime.fromtimestamp(time()-time0).strftime(\"%M:%S:%f\"))"
      ],
      "execution_count": 21,
      "outputs": [
        {
          "output_type": "stream",
          "text": [
            "The best parameters are {'coef0': 0.0, 'gamma': 0.18329807108324375} with a score of 0.96959\n",
            "00:32:566000\n"
          ],
          "name": "stdout"
        }
      ]
    },
    {
      "metadata": {
        "id": "vfGrraOEvJku",
        "colab_type": "code",
        "colab": {
          "base_uri": "https://localhost:8080/",
          "height": 364
        },
        "outputId": "c020e228-d2de-4242-e53d-f1231a90fd66"
      },
      "cell_type": "code",
      "source": [
        "## Another way to run\n",
        "#调线性核函数\n",
        "score = []\n",
        "C_range = np.linspace(0.01,30,50)\n",
        "for i in C_range:\n",
        "  clf = SVC(kernel=\"linear\",C=i,cache_size=5000).fit(Xtrain,Ytrain)\n",
        "  score.append(clf.score(Xtest,Ytest))\n",
        "  \n",
        "print(max(score), C_range[score.index(max(score))])\n",
        "plt.plot(C_range,score)\n",
        "plt.show()"
      ],
      "execution_count": 22,
      "outputs": [
        {
          "output_type": "stream",
          "text": [
            "0.9766081871345029 1.2340816326530613\n"
          ],
          "name": "stdout"
        },
        {
          "output_type": "display_data",
          "data": {
            "image/png": "[encoded data removed]",
            "text/plain": [
              "<Figure size 576x396 with 1 Axes>"
            ]
          },
          "metadata": {
            "tags": []
          }
        }
      ]
    },
    {
      "metadata": {
        "id": "Sq9vdcopx86N",
        "colab_type": "code",
        "colab": {
          "base_uri": "https://localhost:8080/",
          "height": 366
        },
        "outputId": "7cd4f947-050c-443b-ae0e-011970e59f48"
      },
      "cell_type": "code",
      "source": [
        "##\n",
        "#换rbf\n",
        "score = []\n",
        "C_range = np.linspace(0.01,30,50)\n",
        "for i in C_range:\n",
        "    clf = SVC(kernel=\"rbf\",C=i,gamma = 0.012742749857031322,cache_size=5000).fit(Xtrain,Ytrain)\n",
        "    score.append(clf.score(Xtest,Ytest))\n",
        "\n",
        "print(max(score), C_range[score.index(max(score))])\n",
        "plt.plot(C_range,score)\n",
        "plt.show()\n"
      ],
      "execution_count": 24,
      "outputs": [
        {
          "output_type": "stream",
          "text": [
            "0.9824561403508771 6.130408163265306\n"
          ],
          "name": "stdout"
        },
        {
          "output_type": "display_data",
          "data": {
            "image/png": "[encoded data removed]",
            "text/plain": [
              "<Figure size 576x396 with 1 Axes>"
            ]
          },
          "metadata": {
            "tags": []
          }
        }
      ]
    },
    {
      "metadata": {
        "id": "DzCNTVpiyHUu",
        "colab_type": "code",
        "colab": {
          "base_uri": "https://localhost:8080/",
          "height": 364
        },
        "outputId": "e0626602-c0af-41bf-b5a5-186c69ba228a"
      },
      "cell_type": "code",
      "source": [
        "##\n",
        "score = []\n",
        "C_range = np.linspace(5,7,50)\n",
        "for i in C_range:\n",
        "    clf = SVC(kernel=\"rbf\",C=i,gamma = 0.012742749857031322,cache_size=5000).fit(Xtrain,Ytrain)\n",
        "    score.append(clf.score(Xtest,Ytest))\n",
        "\n",
        "print(max(score), C_range[score.index(max(score))])\n",
        "plt.plot(C_range,score)\n",
        "plt.show()"
      ],
      "execution_count": 26,
      "outputs": [
        {
          "output_type": "stream",
          "text": [
            "0.9824561403508771 5.938775510204081\n"
          ],
          "name": "stdout"
        },
        {
          "output_type": "display_data",
          "data": {
            "image/png": "[encoded data removed]",
            "text/plain": [
              "<Figure size 576x396 with 1 Axes>"
            ]
          },
          "metadata": {
            "tags": []
          }
        }
      ]
    },
    {
      "metadata": {
        "id": "dIGYEiq9yYNa",
        "colab_type": "code",
        "colab": {}
      },
      "cell_type": "code",
      "source": [
        ""
      ],
      "execution_count": 0,
      "outputs": []
    }
  ]
}