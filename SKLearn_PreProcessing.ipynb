{
  "nbformat": 4,
  "nbformat_minor": 0,
  "metadata": {
    "colab": {
      "name": "SKLearn-PreProcessing.ipynb",
      "version": "0.3.2",
      "provenance": [],
      "include_colab_link": true
    },
    "kernelspec": {
      "name": "python2",
      "display_name": "Python 2"
    }
  },
  "cells": [
    {
      "cell_type": "markdown",
      "metadata": {
        "id": "view-in-github",
        "colab_type": "text"
      },
      "source": [
        "<a href=\"https://colab.research.google.com/github/cwcheng0/practicepython/blob/master/SKLearn_PreProcessing.ipynb\" target=\"_parent\"><img src=\"https://colab.research.google.com/assets/colab-badge.svg\" alt=\"Open In Colab\"/></a>"
      ]
    },
    {
      "metadata": {
        "id": "JYx0MgJ9GhNg",
        "colab_type": "code",
        "colab": {
          "base_uri": "https://localhost:8080/",
          "height": 166
        },
        "outputId": "272308be-7cf7-46c5-9fbb-191d7d4bc0a0"
      },
      "cell_type": "code",
      "source": [
        "# SKLearn Data PreProcessing\n",
        "# source1 video http://www.peixun.net/main.php?mod=course&cid=1281\n",
        "# 2019-2-3\n",
        "\n",
        "from sklearn.preprocessing import MinMaxScaler\n",
        "data = [[-1, 2], [-0.5, 6], [0, 10], [1, 18]]\n",
        "#不太熟悉numpy的小伙伴，能够判断data的结构吗？\n",
        "#如果换成表是什么样子？\n",
        "\n",
        "import pandas as pd\n",
        "pd.DataFrame(data)\n",
        "#实现归一化"
      ],
      "execution_count": 1,
      "outputs": [
        {
          "output_type": "execute_result",
          "data": {
            "text/html": [
              "<div>\n",
              "<style scoped>\n",
              "    .dataframe tbody tr th:only-of-type {\n",
              "        vertical-align: middle;\n",
              "    }\n",
              "\n",
              "    .dataframe tbody tr th {\n",
              "        vertical-align: top;\n",
              "    }\n",
              "\n",
              "    .dataframe thead th {\n",
              "        text-align: right;\n",
              "    }\n",
              "</style>\n",
              "<table border=\"1\" class=\"dataframe\">\n",
              "  <thead>\n",
              "    <tr style=\"text-align: right;\">\n",
              "      <th></th>\n",
              "      <th>0</th>\n",
              "      <th>1</th>\n",
              "    </tr>\n",
              "  </thead>\n",
              "  <tbody>\n",
              "    <tr>\n",
              "      <th>0</th>\n",
              "      <td>-1.0</td>\n",
              "      <td>2</td>\n",
              "    </tr>\n",
              "    <tr>\n",
              "      <th>1</th>\n",
              "      <td>-0.5</td>\n",
              "      <td>6</td>\n",
              "    </tr>\n",
              "    <tr>\n",
              "      <th>2</th>\n",
              "      <td>0.0</td>\n",
              "      <td>10</td>\n",
              "    </tr>\n",
              "    <tr>\n",
              "      <th>3</th>\n",
              "      <td>1.0</td>\n",
              "      <td>18</td>\n",
              "    </tr>\n",
              "  </tbody>\n",
              "</table>\n",
              "</div>"
            ],
            "text/plain": [
              "     0   1\n",
              "0 -1.0   2\n",
              "1 -0.5   6\n",
              "2  0.0  10\n",
              "3  1.0  18"
            ]
          },
          "metadata": {
            "tags": []
          },
          "execution_count": 1
        }
      ]
    },
    {
      "metadata": {
        "id": "NZm69Bw9JnvS",
        "colab_type": "code",
        "colab": {
          "base_uri": "https://localhost:8080/",
          "height": 84
        },
        "outputId": "cc4cf497-5501-471c-dbd9-1c02197afcce"
      },
      "cell_type": "code",
      "source": [
        "# Minimize all data\n",
        "scaler = MinMaxScaler() #实例化\n",
        "scaler = scaler.fit(data) #fit，在这里本质是生成min(x)和max(x)\n",
        "result = scaler.transform(data) #通过接口导出结果\n",
        "result"
      ],
      "execution_count": 2,
      "outputs": [
        {
          "output_type": "execute_result",
          "data": {
            "text/plain": [
              "array([[0.  , 0.  ],\n",
              "       [0.25, 0.25],\n",
              "       [0.5 , 0.5 ],\n",
              "       [1.  , 1.  ]])"
            ]
          },
          "metadata": {
            "tags": []
          },
          "execution_count": 2
        }
      ]
    },
    {
      "metadata": {
        "id": "Bx0hfsjnJrID",
        "colab_type": "code",
        "colab": {
          "base_uri": "https://localhost:8080/",
          "height": 84
        },
        "outputId": "8df87151-a626-41fb-89d4-68c2c19cf2b8"
      },
      "cell_type": "code",
      "source": [
        "#\n",
        "result_ = scaler.fit_transform(data) #训练和导出结果一步达成\n",
        "scaler.inverse_transform(result) #将归一化后的结果逆转"
      ],
      "execution_count": 3,
      "outputs": [
        {
          "output_type": "execute_result",
          "data": {
            "text/plain": [
              "array([[-1. ,  2. ],\n",
              "       [-0.5,  6. ],\n",
              "       [ 0. , 10. ],\n",
              "       [ 1. , 18. ]])"
            ]
          },
          "metadata": {
            "tags": []
          },
          "execution_count": 3
        }
      ]
    },
    {
      "metadata": {
        "id": "FC19Dy9EJyop",
        "colab_type": "code",
        "colab": {
          "base_uri": "https://localhost:8080/",
          "height": 84
        },
        "outputId": "5b0fefca-8b14-45b2-e4c7-14d0d7896081"
      },
      "cell_type": "code",
      "source": [
        "#使用MinMaxScaler的参数feature_range实现将数据归一化到[0,1]以外的范围中\n",
        "data = [[-1, 2], [-0.5, 6], [0, 10], [1, 18]]\n",
        "scaler = MinMaxScaler(feature_range=[5,10]) #依然实例化\n",
        "\n",
        "result = scaler.fit_transform(data) #fit_transform一步导出结果\n",
        "result"
      ],
      "execution_count": 5,
      "outputs": [
        {
          "output_type": "execute_result",
          "data": {
            "text/plain": [
              "array([[ 5.  ,  5.  ],\n",
              "       [ 6.25,  6.25],\n",
              "       [ 7.5 ,  7.5 ],\n",
              "       [10.  , 10.  ]])"
            ]
          },
          "metadata": {
            "tags": []
          },
          "execution_count": 5
        }
      ]
    },
    {
      "metadata": {
        "id": "QwwY0afjJzoA",
        "colab_type": "code",
        "colab": {
          "base_uri": "https://localhost:8080/",
          "height": 84
        },
        "outputId": "aae48b8b-1d5e-4712-96ff-9b2bdf188d40"
      },
      "cell_type": "code",
      "source": [
        "#\n",
        "import numpy as np\n",
        "X = np.array([[-1, 2], [-0.5, 6], [0, 10], [1, 18]])\n",
        "#归一化\n",
        "X_nor = (X - X.min(axis=0)) / (X.max(axis=0) - X.min(axis=0))\n",
        "X_nor\n"
      ],
      "execution_count": 6,
      "outputs": [
        {
          "output_type": "execute_result",
          "data": {
            "text/plain": [
              "array([[0.  , 0.  ],\n",
              "       [0.25, 0.25],\n",
              "       [0.5 , 0.5 ],\n",
              "       [1.  , 1.  ]])"
            ]
          },
          "metadata": {
            "tags": []
          },
          "execution_count": 6
        }
      ]
    },
    {
      "metadata": {
        "id": "tB6bhRpJLQbs",
        "colab_type": "code",
        "colab": {
          "base_uri": "https://localhost:8080/",
          "height": 84
        },
        "outputId": "44f89943-f5c8-4ae3-edd6-7919e464dd00"
      },
      "cell_type": "code",
      "source": [
        "#\n",
        "#逆转归一化\n",
        "X_returned = X_nor * (X.max(axis=0) - X.min(axis=0)) + X.min(axis=0)\n",
        "X_returned"
      ],
      "execution_count": 7,
      "outputs": [
        {
          "output_type": "execute_result",
          "data": {
            "text/plain": [
              "array([[-1. ,  2. ],\n",
              "       [-0.5,  6. ],\n",
              "       [ 0. , 10. ],\n",
              "       [ 1. , 18. ]])"
            ]
          },
          "metadata": {
            "tags": []
          },
          "execution_count": 7
        }
      ]
    },
    {
      "metadata": {
        "id": "HNIefn0zLT14",
        "colab_type": "code",
        "colab": {
          "base_uri": "https://localhost:8080/",
          "height": 34
        },
        "outputId": "06f8f99a-63fe-47ac-91f6-5a407f54c06b"
      },
      "cell_type": "code",
      "source": [
        "#\n",
        "from sklearn.preprocessing import StandardScaler\n",
        "data = [[-1, 2], [-0.5, 6], [0, 10], [1, 18]]\n",
        "scaler = StandardScaler() #实例化\n",
        "scaler.fit(data) #fit，本质是生成均值和方差\n"
      ],
      "execution_count": 9,
      "outputs": [
        {
          "output_type": "execute_result",
          "data": {
            "text/plain": [
              "StandardScaler(copy=True, with_mean=True, with_std=True)"
            ]
          },
          "metadata": {
            "tags": []
          },
          "execution_count": 9
        }
      ]
    },
    {
      "metadata": {
        "id": "7xoWBhojLkqu",
        "colab_type": "code",
        "colab": {
          "base_uri": "https://localhost:8080/",
          "height": 34
        },
        "outputId": "da8f8d93-77b3-4a28-c479-05e6d8ed525b"
      },
      "cell_type": "code",
      "source": [
        "scaler.mean_ #查看均值的属性mean_"
      ],
      "execution_count": 10,
      "outputs": [
        {
          "output_type": "execute_result",
          "data": {
            "text/plain": [
              "array([-0.125,  9.   ])"
            ]
          },
          "metadata": {
            "tags": []
          },
          "execution_count": 10
        }
      ]
    },
    {
      "metadata": {
        "id": "qLLcXhqvLpr-",
        "colab_type": "code",
        "colab": {
          "base_uri": "https://localhost:8080/",
          "height": 34
        },
        "outputId": "1e1cfc4d-3035-4a4a-9a27-cdbe7515d61f"
      },
      "cell_type": "code",
      "source": [
        "scaler.var_ #查看方差的属性var_\n"
      ],
      "execution_count": 11,
      "outputs": [
        {
          "output_type": "execute_result",
          "data": {
            "text/plain": [
              "array([ 0.546875, 35.      ])"
            ]
          },
          "metadata": {
            "tags": []
          },
          "execution_count": 11
        }
      ]
    },
    {
      "metadata": {
        "id": "pB2miVzkLrAd",
        "colab_type": "code",
        "colab": {
          "base_uri": "https://localhost:8080/",
          "height": 34
        },
        "outputId": "69588e1c-e515-4e85-d01d-f7964d2d6f4e"
      },
      "cell_type": "code",
      "source": [
        "x_std = scaler.transform(data) #通过接口导出结果\n",
        "x_std.mean() #导出的结果是一个数组，用mean()查看均值"
      ],
      "execution_count": 13,
      "outputs": [
        {
          "output_type": "execute_result",
          "data": {
            "text/plain": [
              "0.0"
            ]
          },
          "metadata": {
            "tags": []
          },
          "execution_count": 13
        }
      ]
    },
    {
      "metadata": {
        "id": "GjUM5E7LLsI5",
        "colab_type": "code",
        "colab": {
          "base_uri": "https://localhost:8080/",
          "height": 34
        },
        "outputId": "9adc99e9-a63e-4069-8629-a545b033813d"
      },
      "cell_type": "code",
      "source": [
        "x_std.std() #用std()查看方差"
      ],
      "execution_count": 14,
      "outputs": [
        {
          "output_type": "execute_result",
          "data": {
            "text/plain": [
              "1.0"
            ]
          },
          "metadata": {
            "tags": []
          },
          "execution_count": 14
        }
      ]
    },
    {
      "metadata": {
        "id": "mLRb58i5Lx_o",
        "colab_type": "code",
        "colab": {
          "base_uri": "https://localhost:8080/",
          "height": 84
        },
        "outputId": "395c8976-fb89-4379-dd11-70d848267d8f"
      },
      "cell_type": "code",
      "source": [
        "scaler.fit_transform(data) #使用fit_transform(data)一步达成结果"
      ],
      "execution_count": 15,
      "outputs": [
        {
          "output_type": "execute_result",
          "data": {
            "text/plain": [
              "array([[-1.18321596, -1.18321596],\n",
              "       [-0.50709255, -0.50709255],\n",
              "       [ 0.16903085,  0.16903085],\n",
              "       [ 1.52127766,  1.52127766]])"
            ]
          },
          "metadata": {
            "tags": []
          },
          "execution_count": 15
        }
      ]
    },
    {
      "metadata": {
        "id": "Cs9N-A8ELy2F",
        "colab_type": "code",
        "colab": {
          "base_uri": "https://localhost:8080/",
          "height": 84
        },
        "outputId": "e0232fd1-cd65-46cd-ab6e-285cc4c18899"
      },
      "cell_type": "code",
      "source": [
        "scaler.inverse_transform(x_std) #使用inverse_transform逆转标准化"
      ],
      "execution_count": 16,
      "outputs": [
        {
          "output_type": "execute_result",
          "data": {
            "text/plain": [
              "array([[-1. ,  2. ],\n",
              "       [-0.5,  6. ],\n",
              "       [ 0. , 10. ],\n",
              "       [ 1. , 18. ]])"
            ]
          },
          "metadata": {
            "tags": []
          },
          "execution_count": 16
        }
      ]
    },
    {
      "metadata": {
        "id": "XzSqIeKyLzu9",
        "colab_type": "code",
        "colab": {}
      },
      "cell_type": "code",
      "source": [
        "# Read Data from G Drive\n",
        "import pandas as pd\n",
        "data = pd.read_csv(r\"C:\\work\\learnbetter\\micro-class\\week 3 Preprocessing\\Narrativedata.csv\",index_col=0)\n",
        "data.head()"
      ],
      "execution_count": 0,
      "outputs": []
    }
  ]
}