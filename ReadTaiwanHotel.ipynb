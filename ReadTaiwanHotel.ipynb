{
  "nbformat": 4,
  "nbformat_minor": 0,
  "metadata": {
    "colab": {
      "name": "ReadHotel-2.ipynb",
      "provenance": [],
      "collapsed_sections": [],
      "include_colab_link": true
    },
    "kernelspec": {
      "name": "python3",
      "display_name": "Python 3"
    }
  },
  "cells": [
    {
      "cell_type": "markdown",
      "metadata": {
        "id": "view-in-github",
        "colab_type": "text"
      },
      "source": [
        "<a href=\"https://colab.research.google.com/github/cwcheng0/practicepython/blob/master/ReadTaiwanHotel.ipynb\" target=\"_parent\"><img src=\"https://colab.research.google.com/assets/colab-badge.svg\" alt=\"Open In Colab\"/></a>"
      ]
    },
    {
      "cell_type": "code",
      "metadata": {
        "id": "2YBo20dXtWmf"
      },
      "source": [
        "# Read Taiwan hotel data\n",
        "# Install extensions\n",
        "#import depencies\n",
        "import pandas as pd\n",
        "import numpy as np"
      ],
      "execution_count": 440,
      "outputs": []
    },
    {
      "cell_type": "code",
      "metadata": {
        "id": "jsHWedtFtayH",
        "outputId": "c32470a7-f8b4-40d1-f809-91790cb36751",
        "colab": {
          "base_uri": "https://localhost:8080/",
          "height": 34
        }
      },
      "source": [
        "# Mount personal Google Drive; all data files are in personal Google Drive\n",
        "from google.colab import drive\n",
        "drive.mount('/content/gdrive')"
      ],
      "execution_count": 441,
      "outputs": [
        {
          "output_type": "stream",
          "text": [
            "Drive already mounted at /content/gdrive; to attempt to forcibly remount, call drive.mount(\"/content/gdrive\", force_remount=True).\n"
          ],
          "name": "stdout"
        }
      ]
    },
    {
      "cell_type": "code",
      "metadata": {
        "id": "Ly2Q-QgGteJQ",
        "outputId": "34773b3c-6d1a-4a6a-8449-01d252d34019",
        "colab": {
          "base_uri": "https://localhost:8080/",
          "height": 34
        }
      },
      "source": [
        "# Create a file to see if it works\n",
        "with open('/content/gdrive/My Drive/TourismData/foo.txt', 'w') as f:\n",
        "  f.write('Hello Google Drive!')\n",
        "!cat /content/gdrive/My\\ Drive/TourismData/foo.txt"
      ],
      "execution_count": 442,
      "outputs": [
        {
          "output_type": "stream",
          "text": [
            "Hello Google Drive!"
          ],
          "name": "stdout"
        }
      ]
    },
    {
      "cell_type": "code",
      "metadata": {
        "id": "XqfarUTZ0p2G"
      },
      "source": [
        "# Use PDrive function\n",
        "!pip install -U -q PyDrive\n",
        "\n",
        "from pydrive.auth import GoogleAuth\n",
        "from pydrive.drive import GoogleDrive\n",
        "from google.colab import auth\n",
        "from oauth2client.client import GoogleCredentials\n",
        "\n",
        "# Authenticate and create the PyDrive client.\n",
        "auth.authenticate_user()\n",
        "gauth = GoogleAuth()\n",
        "gauth.credentials = GoogleCredentials.get_application_default()\n",
        "drive = GoogleDrive(gauth)"
      ],
      "execution_count": 443,
      "outputs": []
    },
    {
      "cell_type": "code",
      "metadata": {
        "id": "Wt642l0qv_Xm",
        "outputId": "c03abe09-5a11-4b99-ebbc-7a20fe2ade5b",
        "colab": {
          "base_uri": "https://localhost:8080/",
          "height": 168
        }
      },
      "source": [
        "# List files in root directory\n",
        "file_list = drive.ListFile({'q': \"'root' in parents and trashed=false\"}).GetList()\n",
        "for file1 in file_list:\n",
        "  print('title: %s, id: %s' % (file1['title'], file1['id']))"
      ],
      "execution_count": 444,
      "outputs": [
        {
          "output_type": "stream",
          "text": [
            "title: m0923023651gnt86866.pdf, id: 1ZRl2-DUcAhxmdivc6wiOPurQ6CgD5mt2\n",
            "title: Guidebook.pdf, id: 1VxPPDacSy5jzX45E40dYjCB5OqxEkwlG\n",
            "title: 20200912_agenda.pdf, id: 1OVa7XFIQWh2gQiL37xJiuC_H8vfoODlu\n",
            "title: PythonCode, id: 1dFGhOQOJ9t5x5bJUph24v_N-mnmBKsMZ\n",
            "title: ContestData, id: 1hjni0UnbkVPr81RPHgSyH74jqF3XT6PS\n",
            "title: TourismData, id: 1rl2L8Vxmj4mqqFNCa23NUaypbVKazJRD\n",
            "title: Pixnet整理_Mike_20190804, id: 163PlI9NvQ5wVl62z6Crp4jihVWA4nnABRnPS8tU9neY\n",
            "title: Colab Notebooks, id: 13yubYLLF_3_MObjXoj-K2aGo-_UFoQZo\n",
            "title: bnbdata, id: 1yWUzpFHcZDftSVqbCaepJVd9oGsm2pww\n"
          ],
          "name": "stdout"
        }
      ]
    },
    {
      "cell_type": "code",
      "metadata": {
        "id": "vJJ79Ofrw9c8",
        "outputId": "c02b6fc9-0a2b-43a9-be32-913d952cce92",
        "colab": {
          "base_uri": "https://localhost:8080/",
          "height": 195
        }
      },
      "source": [
        "# Read a file\n",
        "df = pd.read_csv('/content/gdrive/My Drive/ContestData/HotelData/Hotel_2020_1-6.csv',encoding='utf-8')\n",
        "\n",
        "# Notice datatypes changed in some columns.\n",
        "# Check first few rows.\n",
        "df.head()"
      ],
      "execution_count": 445,
      "outputs": [
        {
          "output_type": "execute_result",
          "data": {
            "text/html": [
              "<div>\n",
              "<style scoped>\n",
              "    .dataframe tbody tr th:only-of-type {\n",
              "        vertical-align: middle;\n",
              "    }\n",
              "\n",
              "    .dataframe tbody tr th {\n",
              "        vertical-align: top;\n",
              "    }\n",
              "\n",
              "    .dataframe thead th {\n",
              "        text-align: right;\n",
              "    }\n",
              "</style>\n",
              "<table border=\"1\" class=\"dataframe\">\n",
              "  <thead>\n",
              "    <tr style=\"text-align: right;\">\n",
              "      <th></th>\n",
              "      <th>旅館名稱</th>\n",
              "      <th>住用率</th>\n",
              "      <th>平均房價</th>\n",
              "    </tr>\n",
              "  </thead>\n",
              "  <tbody>\n",
              "    <tr>\n",
              "      <th>0</th>\n",
              "      <td>圓山大飯店</td>\n",
              "      <td>66.03%</td>\n",
              "      <td>3,877</td>\n",
              "    </tr>\n",
              "    <tr>\n",
              "      <th>1</th>\n",
              "      <td>The Grand Hotel</td>\n",
              "      <td>NaN</td>\n",
              "      <td>NaN</td>\n",
              "    </tr>\n",
              "    <tr>\n",
              "      <th>2</th>\n",
              "      <td>國賓大飯店</td>\n",
              "      <td>74.22%</td>\n",
              "      <td>3,726</td>\n",
              "    </tr>\n",
              "    <tr>\n",
              "      <th>3</th>\n",
              "      <td>The Ambassador Hotel-Taipei</td>\n",
              "      <td>NaN</td>\n",
              "      <td>NaN</td>\n",
              "    </tr>\n",
              "    <tr>\n",
              "      <th>4</th>\n",
              "      <td>台北華國大飯店</td>\n",
              "      <td>73.73%</td>\n",
              "      <td>2,917</td>\n",
              "    </tr>\n",
              "  </tbody>\n",
              "</table>\n",
              "</div>"
            ],
            "text/plain": [
              "                          旅館名稱     住用率   平均房價\n",
              "0                        圓山大飯店  66.03%  3,877\n",
              "1              The Grand Hotel     NaN    NaN\n",
              "2                        國賓大飯店  74.22%  3,726\n",
              "3  The Ambassador Hotel-Taipei     NaN    NaN\n",
              "4                      台北華國大飯店  73.73%  2,917"
            ]
          },
          "metadata": {
            "tags": []
          },
          "execution_count": 445
        }
      ]
    },
    {
      "cell_type": "code",
      "metadata": {
        "id": "PKVEB49UQ8d8",
        "outputId": "e06c6225-fad7-4794-8294-f56ac91c7665",
        "colab": {
          "base_uri": "https://localhost:8080/",
          "height": 195
        }
      },
      "source": [
        "# Delete the even rows.\n",
        "df2=df.iloc[::2]\n",
        "df2.head()"
      ],
      "execution_count": 446,
      "outputs": [
        {
          "output_type": "execute_result",
          "data": {
            "text/html": [
              "<div>\n",
              "<style scoped>\n",
              "    .dataframe tbody tr th:only-of-type {\n",
              "        vertical-align: middle;\n",
              "    }\n",
              "\n",
              "    .dataframe tbody tr th {\n",
              "        vertical-align: top;\n",
              "    }\n",
              "\n",
              "    .dataframe thead th {\n",
              "        text-align: right;\n",
              "    }\n",
              "</style>\n",
              "<table border=\"1\" class=\"dataframe\">\n",
              "  <thead>\n",
              "    <tr style=\"text-align: right;\">\n",
              "      <th></th>\n",
              "      <th>旅館名稱</th>\n",
              "      <th>住用率</th>\n",
              "      <th>平均房價</th>\n",
              "    </tr>\n",
              "  </thead>\n",
              "  <tbody>\n",
              "    <tr>\n",
              "      <th>0</th>\n",
              "      <td>圓山大飯店</td>\n",
              "      <td>66.03%</td>\n",
              "      <td>3,877</td>\n",
              "    </tr>\n",
              "    <tr>\n",
              "      <th>2</th>\n",
              "      <td>國賓大飯店</td>\n",
              "      <td>74.22%</td>\n",
              "      <td>3,726</td>\n",
              "    </tr>\n",
              "    <tr>\n",
              "      <th>4</th>\n",
              "      <td>台北華國大飯店</td>\n",
              "      <td>73.73%</td>\n",
              "      <td>2,917</td>\n",
              "    </tr>\n",
              "    <tr>\n",
              "      <th>6</th>\n",
              "      <td>華泰王子大飯店</td>\n",
              "      <td>78.22%</td>\n",
              "      <td>2,873</td>\n",
              "    </tr>\n",
              "    <tr>\n",
              "      <th>8</th>\n",
              "      <td>國王大飯店</td>\n",
              "      <td>63.10%</td>\n",
              "      <td>1,595</td>\n",
              "    </tr>\n",
              "  </tbody>\n",
              "</table>\n",
              "</div>"
            ],
            "text/plain": [
              "      旅館名稱     住用率   平均房價\n",
              "0    圓山大飯店  66.03%  3,877\n",
              "2    國賓大飯店  74.22%  3,726\n",
              "4  台北華國大飯店  73.73%  2,917\n",
              "6  華泰王子大飯店  78.22%  2,873\n",
              "8    國王大飯店  63.10%  1,595"
            ]
          },
          "metadata": {
            "tags": []
          },
          "execution_count": 446
        }
      ]
    },
    {
      "cell_type": "code",
      "metadata": {
        "id": "-R5ucTlfhX-u",
        "outputId": "def6f1f3-3648-4275-efce-2da09a0b5904",
        "colab": {
          "base_uri": "https://localhost:8080/",
          "height": 84
        }
      },
      "source": [
        "# Check datatypes\n",
        "df2.dtypes"
      ],
      "execution_count": 447,
      "outputs": [
        {
          "output_type": "execute_result",
          "data": {
            "text/plain": [
              "旅館名稱    object\n",
              "住用率     object\n",
              "平均房價    object\n",
              "dtype: object"
            ]
          },
          "metadata": {
            "tags": []
          },
          "execution_count": 447
        }
      ]
    },
    {
      "cell_type": "code",
      "metadata": {
        "id": "7N0MdASVUxQl",
        "outputId": "d0836ee2-e04f-4891-fe67-244c85c8bff1",
        "colab": {
          "base_uri": "https://localhost:8080/",
          "height": 195
        }
      },
      "source": [
        "df2 = df2.reset_index()\n",
        "df2.head()"
      ],
      "execution_count": 448,
      "outputs": [
        {
          "output_type": "execute_result",
          "data": {
            "text/html": [
              "<div>\n",
              "<style scoped>\n",
              "    .dataframe tbody tr th:only-of-type {\n",
              "        vertical-align: middle;\n",
              "    }\n",
              "\n",
              "    .dataframe tbody tr th {\n",
              "        vertical-align: top;\n",
              "    }\n",
              "\n",
              "    .dataframe thead th {\n",
              "        text-align: right;\n",
              "    }\n",
              "</style>\n",
              "<table border=\"1\" class=\"dataframe\">\n",
              "  <thead>\n",
              "    <tr style=\"text-align: right;\">\n",
              "      <th></th>\n",
              "      <th>index</th>\n",
              "      <th>旅館名稱</th>\n",
              "      <th>住用率</th>\n",
              "      <th>平均房價</th>\n",
              "    </tr>\n",
              "  </thead>\n",
              "  <tbody>\n",
              "    <tr>\n",
              "      <th>0</th>\n",
              "      <td>0</td>\n",
              "      <td>圓山大飯店</td>\n",
              "      <td>66.03%</td>\n",
              "      <td>3,877</td>\n",
              "    </tr>\n",
              "    <tr>\n",
              "      <th>1</th>\n",
              "      <td>2</td>\n",
              "      <td>國賓大飯店</td>\n",
              "      <td>74.22%</td>\n",
              "      <td>3,726</td>\n",
              "    </tr>\n",
              "    <tr>\n",
              "      <th>2</th>\n",
              "      <td>4</td>\n",
              "      <td>台北華國大飯店</td>\n",
              "      <td>73.73%</td>\n",
              "      <td>2,917</td>\n",
              "    </tr>\n",
              "    <tr>\n",
              "      <th>3</th>\n",
              "      <td>6</td>\n",
              "      <td>華泰王子大飯店</td>\n",
              "      <td>78.22%</td>\n",
              "      <td>2,873</td>\n",
              "    </tr>\n",
              "    <tr>\n",
              "      <th>4</th>\n",
              "      <td>8</td>\n",
              "      <td>國王大飯店</td>\n",
              "      <td>63.10%</td>\n",
              "      <td>1,595</td>\n",
              "    </tr>\n",
              "  </tbody>\n",
              "</table>\n",
              "</div>"
            ],
            "text/plain": [
              "   index     旅館名稱     住用率   平均房價\n",
              "0      0    圓山大飯店  66.03%  3,877\n",
              "1      2    國賓大飯店  74.22%  3,726\n",
              "2      4  台北華國大飯店  73.73%  2,917\n",
              "3      6  華泰王子大飯店  78.22%  2,873\n",
              "4      8    國王大飯店  63.10%  1,595"
            ]
          },
          "metadata": {
            "tags": []
          },
          "execution_count": 448
        }
      ]
    },
    {
      "cell_type": "code",
      "metadata": {
        "id": "KOuX6WfUYbXE",
        "outputId": "cf95914e-ce49-4919-cf58-409c1c20231c",
        "colab": {
          "base_uri": "https://localhost:8080/",
          "height": 195
        }
      },
      "source": [
        "df3=df2.drop(df2.columns[[0]],axis=1)\n",
        "df3.head()"
      ],
      "execution_count": 449,
      "outputs": [
        {
          "output_type": "execute_result",
          "data": {
            "text/html": [
              "<div>\n",
              "<style scoped>\n",
              "    .dataframe tbody tr th:only-of-type {\n",
              "        vertical-align: middle;\n",
              "    }\n",
              "\n",
              "    .dataframe tbody tr th {\n",
              "        vertical-align: top;\n",
              "    }\n",
              "\n",
              "    .dataframe thead th {\n",
              "        text-align: right;\n",
              "    }\n",
              "</style>\n",
              "<table border=\"1\" class=\"dataframe\">\n",
              "  <thead>\n",
              "    <tr style=\"text-align: right;\">\n",
              "      <th></th>\n",
              "      <th>旅館名稱</th>\n",
              "      <th>住用率</th>\n",
              "      <th>平均房價</th>\n",
              "    </tr>\n",
              "  </thead>\n",
              "  <tbody>\n",
              "    <tr>\n",
              "      <th>0</th>\n",
              "      <td>圓山大飯店</td>\n",
              "      <td>66.03%</td>\n",
              "      <td>3,877</td>\n",
              "    </tr>\n",
              "    <tr>\n",
              "      <th>1</th>\n",
              "      <td>國賓大飯店</td>\n",
              "      <td>74.22%</td>\n",
              "      <td>3,726</td>\n",
              "    </tr>\n",
              "    <tr>\n",
              "      <th>2</th>\n",
              "      <td>台北華國大飯店</td>\n",
              "      <td>73.73%</td>\n",
              "      <td>2,917</td>\n",
              "    </tr>\n",
              "    <tr>\n",
              "      <th>3</th>\n",
              "      <td>華泰王子大飯店</td>\n",
              "      <td>78.22%</td>\n",
              "      <td>2,873</td>\n",
              "    </tr>\n",
              "    <tr>\n",
              "      <th>4</th>\n",
              "      <td>國王大飯店</td>\n",
              "      <td>63.10%</td>\n",
              "      <td>1,595</td>\n",
              "    </tr>\n",
              "  </tbody>\n",
              "</table>\n",
              "</div>"
            ],
            "text/plain": [
              "      旅館名稱     住用率   平均房價\n",
              "0    圓山大飯店  66.03%  3,877\n",
              "1    國賓大飯店  74.22%  3,726\n",
              "2  台北華國大飯店  73.73%  2,917\n",
              "3  華泰王子大飯店  78.22%  2,873\n",
              "4    國王大飯店  63.10%  1,595"
            ]
          },
          "metadata": {
            "tags": []
          },
          "execution_count": 449
        }
      ]
    },
    {
      "cell_type": "code",
      "metadata": {
        "id": "AB6ha3yLhYG1",
        "outputId": "00c69652-7f37-461f-be5e-1425cd1976c3",
        "colab": {
          "base_uri": "https://localhost:8080/",
          "height": 195
        }
      },
      "source": [
        "# Remove % and ,\n",
        "# Change datatype\n",
        "df3['住用率'] = df3['住用率'].str.replace('%', '').astype('float') / 100.0\n",
        "df3['平均房價'] = df3['平均房價'].str.replace(',', '').astype('int')\n",
        "\n",
        "df3.head()"
      ],
      "execution_count": 450,
      "outputs": [
        {
          "output_type": "execute_result",
          "data": {
            "text/html": [
              "<div>\n",
              "<style scoped>\n",
              "    .dataframe tbody tr th:only-of-type {\n",
              "        vertical-align: middle;\n",
              "    }\n",
              "\n",
              "    .dataframe tbody tr th {\n",
              "        vertical-align: top;\n",
              "    }\n",
              "\n",
              "    .dataframe thead th {\n",
              "        text-align: right;\n",
              "    }\n",
              "</style>\n",
              "<table border=\"1\" class=\"dataframe\">\n",
              "  <thead>\n",
              "    <tr style=\"text-align: right;\">\n",
              "      <th></th>\n",
              "      <th>旅館名稱</th>\n",
              "      <th>住用率</th>\n",
              "      <th>平均房價</th>\n",
              "    </tr>\n",
              "  </thead>\n",
              "  <tbody>\n",
              "    <tr>\n",
              "      <th>0</th>\n",
              "      <td>圓山大飯店</td>\n",
              "      <td>0.6603</td>\n",
              "      <td>3877</td>\n",
              "    </tr>\n",
              "    <tr>\n",
              "      <th>1</th>\n",
              "      <td>國賓大飯店</td>\n",
              "      <td>0.7422</td>\n",
              "      <td>3726</td>\n",
              "    </tr>\n",
              "    <tr>\n",
              "      <th>2</th>\n",
              "      <td>台北華國大飯店</td>\n",
              "      <td>0.7373</td>\n",
              "      <td>2917</td>\n",
              "    </tr>\n",
              "    <tr>\n",
              "      <th>3</th>\n",
              "      <td>華泰王子大飯店</td>\n",
              "      <td>0.7822</td>\n",
              "      <td>2873</td>\n",
              "    </tr>\n",
              "    <tr>\n",
              "      <th>4</th>\n",
              "      <td>國王大飯店</td>\n",
              "      <td>0.6310</td>\n",
              "      <td>1595</td>\n",
              "    </tr>\n",
              "  </tbody>\n",
              "</table>\n",
              "</div>"
            ],
            "text/plain": [
              "      旅館名稱     住用率  平均房價\n",
              "0    圓山大飯店  0.6603  3877\n",
              "1    國賓大飯店  0.7422  3726\n",
              "2  台北華國大飯店  0.7373  2917\n",
              "3  華泰王子大飯店  0.7822  2873\n",
              "4    國王大飯店  0.6310  1595"
            ]
          },
          "metadata": {
            "tags": []
          },
          "execution_count": 450
        }
      ]
    },
    {
      "cell_type": "code",
      "metadata": {
        "id": "9JlGmq6OzJvh",
        "outputId": "0c6aad96-33f9-4924-d9bb-f45b33081e09",
        "colab": {
          "base_uri": "https://localhost:8080/",
          "height": 84
        }
      },
      "source": [
        "# check datatype\n",
        "df3.dtypes"
      ],
      "execution_count": 451,
      "outputs": [
        {
          "output_type": "execute_result",
          "data": {
            "text/plain": [
              "旅館名稱     object\n",
              "住用率     float64\n",
              "平均房價      int64\n",
              "dtype: object"
            ]
          },
          "metadata": {
            "tags": []
          },
          "execution_count": 451
        }
      ]
    },
    {
      "cell_type": "code",
      "metadata": {
        "id": "y7huhZuQ2G9s",
        "outputId": "4c06ef29-b577-4189-87ef-a248bc5cd7de",
        "colab": {
          "base_uri": "https://localhost:8080/",
          "height": 639
        }
      },
      "source": [
        "# Change float to 住用率\n",
        "df3['住用率'] = df3['住用率'].multiply(100)\n",
        "\n",
        "# Sort data by 住用率\n",
        "df4 = df3.sort_values(by=['住用率'],ascending=False)\n",
        "\n",
        "# Add % to 住用率\n",
        "df4['住用率']=df4['住用率'].astype(str)+'%'\n",
        "\n",
        "# Add a comma into an integer column into 平均房價\n",
        "df4['平均房價'] = df4.apply(lambda x: \"{:,}\".format(x['平均房價']), axis=1)\n",
        "\n",
        "# reset index\n",
        "df4 = df4.reset_index()\n",
        "\n",
        "# Index to start with 1\n",
        "df4.index = df4.index + 1\n",
        "\n",
        "# Remove 2nd index\n",
        "df4=df4.drop(df4.columns[[0]],axis=1)\n",
        "\n",
        "df4.head(20)"
      ],
      "execution_count": 452,
      "outputs": [
        {
          "output_type": "execute_result",
          "data": {
            "text/html": [
              "<div>\n",
              "<style scoped>\n",
              "    .dataframe tbody tr th:only-of-type {\n",
              "        vertical-align: middle;\n",
              "    }\n",
              "\n",
              "    .dataframe tbody tr th {\n",
              "        vertical-align: top;\n",
              "    }\n",
              "\n",
              "    .dataframe thead th {\n",
              "        text-align: right;\n",
              "    }\n",
              "</style>\n",
              "<table border=\"1\" class=\"dataframe\">\n",
              "  <thead>\n",
              "    <tr style=\"text-align: right;\">\n",
              "      <th></th>\n",
              "      <th>旅館名稱</th>\n",
              "      <th>住用率</th>\n",
              "      <th>平均房價</th>\n",
              "    </tr>\n",
              "  </thead>\n",
              "  <tbody>\n",
              "    <tr>\n",
              "      <th>1</th>\n",
              "      <td>天成大飯店</td>\n",
              "      <td>92.26%</td>\n",
              "      <td>3,146</td>\n",
              "    </tr>\n",
              "    <tr>\n",
              "      <th>2</th>\n",
              "      <td>老爺大酒店</td>\n",
              "      <td>91.34%</td>\n",
              "      <td>4,756</td>\n",
              "    </tr>\n",
              "    <tr>\n",
              "      <th>3</th>\n",
              "      <td>神旺大飯店</td>\n",
              "      <td>87.46%</td>\n",
              "      <td>2,668</td>\n",
              "    </tr>\n",
              "    <tr>\n",
              "      <th>4</th>\n",
              "      <td>台北花園大酒店</td>\n",
              "      <td>86.88%</td>\n",
              "      <td>2,329</td>\n",
              "    </tr>\n",
              "    <tr>\n",
              "      <th>5</th>\n",
              "      <td>台北中山雅樂軒酒店</td>\n",
              "      <td>86.77%</td>\n",
              "      <td>3,976</td>\n",
              "    </tr>\n",
              "    <tr>\n",
              "      <th>6</th>\n",
              "      <td>凱撒大飯店</td>\n",
              "      <td>84.33%</td>\n",
              "      <td>4,333</td>\n",
              "    </tr>\n",
              "    <tr>\n",
              "      <th>7</th>\n",
              "      <td>台北凱撒大飯店</td>\n",
              "      <td>84.0%</td>\n",
              "      <td>3,481</td>\n",
              "    </tr>\n",
              "    <tr>\n",
              "      <th>8</th>\n",
              "      <td>新竹喜來登大飯店</td>\n",
              "      <td>83.96%</td>\n",
              "      <td>3,937</td>\n",
              "    </tr>\n",
              "    <tr>\n",
              "      <th>9</th>\n",
              "      <td>美麗信花園酒店</td>\n",
              "      <td>83.64%</td>\n",
              "      <td>2,233</td>\n",
              "    </tr>\n",
              "    <tr>\n",
              "      <th>10</th>\n",
              "      <td>三德大飯店</td>\n",
              "      <td>82.86%</td>\n",
              "      <td>1,786</td>\n",
              "    </tr>\n",
              "    <tr>\n",
              "      <th>11</th>\n",
              "      <td>首都大飯店</td>\n",
              "      <td>81.88%</td>\n",
              "      <td>3,274</td>\n",
              "    </tr>\n",
              "    <tr>\n",
              "      <th>12</th>\n",
              "      <td>台北寒舍艾美酒店</td>\n",
              "      <td>81.17%</td>\n",
              "      <td>8,732</td>\n",
              "    </tr>\n",
              "    <tr>\n",
              "      <th>13</th>\n",
              "      <td>洛碁大飯店花華本館</td>\n",
              "      <td>81.06%</td>\n",
              "      <td>1,838</td>\n",
              "    </tr>\n",
              "    <tr>\n",
              "      <th>14</th>\n",
              "      <td>尊爵天際大飯店</td>\n",
              "      <td>80.93%</td>\n",
              "      <td>2,273</td>\n",
              "    </tr>\n",
              "    <tr>\n",
              "      <th>15</th>\n",
              "      <td>台北W飯店</td>\n",
              "      <td>80.48%</td>\n",
              "      <td>8,441</td>\n",
              "    </tr>\n",
              "    <tr>\n",
              "      <th>16</th>\n",
              "      <td>大板根渡假酒店</td>\n",
              "      <td>80.05%</td>\n",
              "      <td>4,821</td>\n",
              "    </tr>\n",
              "    <tr>\n",
              "      <th>17</th>\n",
              "      <td>台北君品大酒店</td>\n",
              "      <td>79.87%</td>\n",
              "      <td>4,571</td>\n",
              "    </tr>\n",
              "    <tr>\n",
              "      <th>18</th>\n",
              "      <td>台北有園飯店</td>\n",
              "      <td>78.28%</td>\n",
              "      <td>2,629</td>\n",
              "    </tr>\n",
              "    <tr>\n",
              "      <th>19</th>\n",
              "      <td>華泰王子大飯店</td>\n",
              "      <td>78.22%</td>\n",
              "      <td>2,873</td>\n",
              "    </tr>\n",
              "    <tr>\n",
              "      <th>20</th>\n",
              "      <td>裕元花園酒店</td>\n",
              "      <td>78.04%</td>\n",
              "      <td>3,292</td>\n",
              "    </tr>\n",
              "  </tbody>\n",
              "</table>\n",
              "</div>"
            ],
            "text/plain": [
              "         旅館名稱     住用率   平均房價\n",
              "1       天成大飯店  92.26%  3,146\n",
              "2       老爺大酒店  91.34%  4,756\n",
              "3       神旺大飯店  87.46%  2,668\n",
              "4     台北花園大酒店  86.88%  2,329\n",
              "5   台北中山雅樂軒酒店  86.77%  3,976\n",
              "6       凱撒大飯店  84.33%  4,333\n",
              "7     台北凱撒大飯店   84.0%  3,481\n",
              "8    新竹喜來登大飯店  83.96%  3,937\n",
              "9     美麗信花園酒店  83.64%  2,233\n",
              "10      三德大飯店  82.86%  1,786\n",
              "11      首都大飯店  81.88%  3,274\n",
              "12   台北寒舍艾美酒店  81.17%  8,732\n",
              "13  洛碁大飯店花華本館  81.06%  1,838\n",
              "14    尊爵天際大飯店  80.93%  2,273\n",
              "15      台北W飯店  80.48%  8,441\n",
              "16    大板根渡假酒店  80.05%  4,821\n",
              "17    台北君品大酒店  79.87%  4,571\n",
              "18     台北有園飯店  78.28%  2,629\n",
              "19    華泰王子大飯店  78.22%  2,873\n",
              "20     裕元花園酒店  78.04%  3,292"
            ]
          },
          "metadata": {
            "tags": []
          },
          "execution_count": 452
        }
      ]
    },
    {
      "cell_type": "code",
      "metadata": {
        "id": "OSXRhO2Uvg7h",
        "outputId": "4c71a53c-7e2d-4920-adf4-6a1b08b0032d",
        "colab": {
          "base_uri": "https://localhost:8080/",
          "height": 84
        }
      },
      "source": [
        "df3.dtypes"
      ],
      "execution_count": 453,
      "outputs": [
        {
          "output_type": "execute_result",
          "data": {
            "text/plain": [
              "旅館名稱     object\n",
              "住用率     float64\n",
              "平均房價      int64\n",
              "dtype: object"
            ]
          },
          "metadata": {
            "tags": []
          },
          "execution_count": 453
        }
      ]
    },
    {
      "cell_type": "code",
      "metadata": {
        "id": "9ZjDuMiJDEaa",
        "outputId": "50f26613-5357-4ef2-8e3d-68e55a97c6b8",
        "colab": {
          "base_uri": "https://localhost:8080/",
          "height": 639
        }
      },
      "source": [
        "# Sort data by 平均房價\n",
        "df5 = df3.sort_values(by=['平均房價'],ascending=False)\n",
        "\n",
        "# Add a comma into an integer column into 平均房價\n",
        "df5['平均房價'] = df5.apply(lambda x: \"{:,}\".format(x['平均房價']), axis=1)\n",
        "\n",
        "# Add % into 住用率\n",
        "df5['住用率'] = pd.Series([\"{0:.2f}%\".format(val * 1) for val in df5['住用率']], index = df5.index)\n",
        "\n",
        "# reset index\n",
        "df5 = df5.reset_index()\n",
        "\n",
        "# Remove 2nd index\n",
        "df5=df5.drop(df5.columns[[0]],axis=1)\n",
        "\n",
        "# Index to start with 1\n",
        "df5.index = df5.index + 1\n",
        "\n",
        "df5.head(20)"
      ],
      "execution_count": 454,
      "outputs": [
        {
          "output_type": "execute_result",
          "data": {
            "text/html": [
              "<div>\n",
              "<style scoped>\n",
              "    .dataframe tbody tr th:only-of-type {\n",
              "        vertical-align: middle;\n",
              "    }\n",
              "\n",
              "    .dataframe tbody tr th {\n",
              "        vertical-align: top;\n",
              "    }\n",
              "\n",
              "    .dataframe thead th {\n",
              "        text-align: right;\n",
              "    }\n",
              "</style>\n",
              "<table border=\"1\" class=\"dataframe\">\n",
              "  <thead>\n",
              "    <tr style=\"text-align: right;\">\n",
              "      <th></th>\n",
              "      <th>旅館名稱</th>\n",
              "      <th>住用率</th>\n",
              "      <th>平均房價</th>\n",
              "    </tr>\n",
              "  </thead>\n",
              "  <tbody>\n",
              "    <tr>\n",
              "      <th>1</th>\n",
              "      <td>北投麗禧溫泉酒店</td>\n",
              "      <td>60.20%</td>\n",
              "      <td>13,739</td>\n",
              "    </tr>\n",
              "    <tr>\n",
              "      <th>2</th>\n",
              "      <td>涵碧樓大飯店</td>\n",
              "      <td>76.91%</td>\n",
              "      <td>11,652</td>\n",
              "    </tr>\n",
              "    <tr>\n",
              "      <th>3</th>\n",
              "      <td>日月行館</td>\n",
              "      <td>27.21%</td>\n",
              "      <td>10,649</td>\n",
              "    </tr>\n",
              "    <tr>\n",
              "      <th>4</th>\n",
              "      <td>蘭城晶英酒店</td>\n",
              "      <td>59.65%</td>\n",
              "      <td>8,924</td>\n",
              "    </tr>\n",
              "    <tr>\n",
              "      <th>5</th>\n",
              "      <td>台北寒舍艾美酒店</td>\n",
              "      <td>81.17%</td>\n",
              "      <td>8,732</td>\n",
              "    </tr>\n",
              "    <tr>\n",
              "      <th>6</th>\n",
              "      <td>台北W飯店</td>\n",
              "      <td>80.48%</td>\n",
              "      <td>8,441</td>\n",
              "    </tr>\n",
              "    <tr>\n",
              "      <th>7</th>\n",
              "      <td>雲品溫泉酒店日月潭</td>\n",
              "      <td>73.51%</td>\n",
              "      <td>8,007</td>\n",
              "    </tr>\n",
              "    <tr>\n",
              "      <th>8</th>\n",
              "      <td>晶英國際行館</td>\n",
              "      <td>9.14%</td>\n",
              "      <td>7,840</td>\n",
              "    </tr>\n",
              "    <tr>\n",
              "      <th>9</th>\n",
              "      <td>礁溪老爺大酒店</td>\n",
              "      <td>66.26%</td>\n",
              "      <td>6,797</td>\n",
              "    </tr>\n",
              "    <tr>\n",
              "      <th>10</th>\n",
              "      <td>日勝生加賀屋國際溫泉飯店</td>\n",
              "      <td>54.25%</td>\n",
              "      <td>6,775</td>\n",
              "    </tr>\n",
              "    <tr>\n",
              "      <th>11</th>\n",
              "      <td>長榮鳳凰酒店(礁溪)</td>\n",
              "      <td>54.89%</td>\n",
              "      <td>6,758</td>\n",
              "    </tr>\n",
              "    <tr>\n",
              "      <th>12</th>\n",
              "      <td>太魯閣晶英酒店</td>\n",
              "      <td>57.58%</td>\n",
              "      <td>6,579</td>\n",
              "    </tr>\n",
              "    <tr>\n",
              "      <th>13</th>\n",
              "      <td>香格里拉台北遠東國際大飯店</td>\n",
              "      <td>61.26%</td>\n",
              "      <td>6,519</td>\n",
              "    </tr>\n",
              "    <tr>\n",
              "      <th>14</th>\n",
              "      <td>台北美福大飯店</td>\n",
              "      <td>47.48%</td>\n",
              "      <td>6,505</td>\n",
              "    </tr>\n",
              "    <tr>\n",
              "      <th>15</th>\n",
              "      <td>阿里山賓館(新館)</td>\n",
              "      <td>61.69%</td>\n",
              "      <td>6,255</td>\n",
              "    </tr>\n",
              "    <tr>\n",
              "      <th>16</th>\n",
              "      <td>台北君悅酒店</td>\n",
              "      <td>72.92%</td>\n",
              "      <td>6,190</td>\n",
              "    </tr>\n",
              "    <tr>\n",
              "      <th>17</th>\n",
              "      <td>寒舍艾麗酒店</td>\n",
              "      <td>77.68%</td>\n",
              "      <td>6,119</td>\n",
              "    </tr>\n",
              "    <tr>\n",
              "      <th>18</th>\n",
              "      <td>台北威斯汀六福皇宮</td>\n",
              "      <td>71.30%</td>\n",
              "      <td>5,970</td>\n",
              "    </tr>\n",
              "    <tr>\n",
              "      <th>19</th>\n",
              "      <td>台北萬豪酒店</td>\n",
              "      <td>72.79%</td>\n",
              "      <td>5,948</td>\n",
              "    </tr>\n",
              "    <tr>\n",
              "      <th>20</th>\n",
              "      <td>阿里山賓館</td>\n",
              "      <td>38.90%</td>\n",
              "      <td>5,922</td>\n",
              "    </tr>\n",
              "  </tbody>\n",
              "</table>\n",
              "</div>"
            ],
            "text/plain": [
              "             旅館名稱     住用率    平均房價\n",
              "1        北投麗禧溫泉酒店  60.20%  13,739\n",
              "2          涵碧樓大飯店  76.91%  11,652\n",
              "3            日月行館  27.21%  10,649\n",
              "4          蘭城晶英酒店  59.65%   8,924\n",
              "5        台北寒舍艾美酒店  81.17%   8,732\n",
              "6           台北W飯店  80.48%   8,441\n",
              "7       雲品溫泉酒店日月潭  73.51%   8,007\n",
              "8          晶英國際行館   9.14%   7,840\n",
              "9         礁溪老爺大酒店  66.26%   6,797\n",
              "10   日勝生加賀屋國際溫泉飯店  54.25%   6,775\n",
              "11     長榮鳳凰酒店(礁溪)  54.89%   6,758\n",
              "12        太魯閣晶英酒店  57.58%   6,579\n",
              "13  香格里拉台北遠東國際大飯店  61.26%   6,519\n",
              "14        台北美福大飯店  47.48%   6,505\n",
              "15      阿里山賓館(新館)  61.69%   6,255\n",
              "16         台北君悅酒店  72.92%   6,190\n",
              "17         寒舍艾麗酒店  77.68%   6,119\n",
              "18      台北威斯汀六福皇宮  71.30%   5,970\n",
              "19         台北萬豪酒店  72.79%   5,948\n",
              "20          阿里山賓館  38.90%   5,922"
            ]
          },
          "metadata": {
            "tags": []
          },
          "execution_count": 454
        }
      ]
    }
  ]
}